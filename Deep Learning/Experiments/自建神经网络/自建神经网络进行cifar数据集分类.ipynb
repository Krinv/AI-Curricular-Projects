{
 "cells": [
  {
   "cell_type": "markdown",
   "metadata": {},
   "source": [
    "# 数据集训练"
   ]
  },
  {
   "cell_type": "code",
   "execution_count": 1,
   "metadata": {},
   "outputs": [],
   "source": [
    "#库\n",
    "import torch\n",
    "import torchvision\n",
    "import torchvision.transforms as transforms"
   ]
  },
  {
   "cell_type": "code",
   "execution_count": null,
   "metadata": {},
   "outputs": [],
   "source": [
    "#加载并归一化训练、测试数据集\n",
    "transform=transforms.Compose( #组合多个图像变换操作\n",
    "    [\n",
    "        transforms.ToTensor(), #图像转换Tensor\n",
    "\n",
    "        #每个通道归一化\n",
    "        transforms.Normalize((0.5,0.5,0.5),(0.5,0.5,0.5))\n",
    "    ]\n",
    ")\n",
    "\n",
    "#加载数据集\n",
    "trainset=torchvision.datasets.CIFAR10(\n",
    "    root='./data', #存储路径\n",
    "    train=True,\n",
    "    download=True,\n",
    "    transform=transform #应用定义的数据预处理流程\n",
    ")\n",
    "\n",
    "#创建训练数据加载器\n",
    "trainloader=torch.utils.data.DataLoader(\n",
    "    trainset,\n",
    "    batch_size=4, #每个小批量4个样本\n",
    "    shuffle=True, #每个epoch打乱数据顺序\n",
    "    num_workers=2 #使用两个子进程进行数据加载\n",
    ")\n",
    "\n",
    "testset = torchvision.datasets.CIFAR10(\n",
    "    root='./data', \n",
    "    train=False,\n",
    "    download=True, \n",
    "    transform=transform\n",
    ")\n",
    "\n",
    "testloader = torch.utils.data.DataLoader(\n",
    "    testset, \n",
    "    batch_size=4,\n",
    "    shuffle=False, \n",
    "    num_workers=2\n",
    ")\n",
    "\n",
    "#数据类别标签选择\n",
    "classes = ('plane', 'car', 'bird', 'cat','deer', 'dog', 'frog', 'horse', 'ship', 'truck')"
   ]
  },
  {
   "cell_type": "code",
   "execution_count": null,
   "metadata": {},
   "outputs": [
    {
     "data": {
      "image/png": "[encoded data removed]",
      "text/plain": [
       "<Figure size 640x480 with 1 Axes>"
      ]
     },
     "metadata": {},
     "output_type": "display_data"
    },
    {
     "name": "stdout",
     "output_type": "stream",
     "text": [
      "  dog  ship horse   cat\n"
     ]
    }
   ],
   "source": [
    "#展示一部分训练图片\n",
    "import matplotlib.pyplot as plt\n",
    "import numpy as np\n",
    "\n",
    "def imshow(img):\n",
    "\n",
    "    #反归一化操作，恢复原始像素范围\n",
    "    img=img/2 +0.5\n",
    "    npimg=img.numpy() #转为np数组\n",
    "\n",
    "\n",
    "    plt.imshow(np.transpose(npimg,(1,2,0)))\n",
    "    plt.show()\n",
    "\n",
    "#随机获取图片\n",
    "dataiter=iter(trainloader) #从训练数据加载器创建迭代器\n",
    "\n",
    "#获取一个batch的数据\n",
    "images,labels=next(dataiter)\n",
    "\n",
    "#展示图片\n",
    "#拼接图片\n",
    "imshow(torchvision.utils.make_grid(images))\n",
    "\n",
    "#标签打印\n",
    "print(' '.join('%5s' % classes[labels[j]] for j in range(4)))"
   ]
  },
  {
   "cell_type": "code",
   "execution_count": null,
   "metadata": {},
   "outputs": [],
   "source": [
    "#卷积神经网络定义\n",
    "import torch.nn as nn\n",
    "import torch.nn.functional as F\n",
    "\n",
    "\n",
    "class Net(nn.Module):\n",
    "    def __init__(self):\n",
    "        super(Net, self).__init__() #继承父类初始化\n",
    "\n",
    "        self.conv1 = nn.Conv2d(3, 6, 5) #第一个卷积层：输入通道3，输出通道6,5x5卷积核\n",
    "        self.pool = nn.MaxPool2d(2, 2) #最大池化层\n",
    "        self.conv2 = nn.Conv2d(6, 16, 5) #第二卷积层\n",
    "\n",
    "        #全连接层\n",
    "        self.fc1 = nn.Linear(16 * 5 * 5, 120) \n",
    "        self.fc2 = nn.Linear(120, 84)\n",
    "        self.fc3 = nn.Linear(84, 10)\n",
    "\n",
    "    #前向传播\n",
    "    def forward(self, x):\n",
    "        # 卷积层1 -> ReLU激活 -> 池化\n",
    "        x = self.pool(F.relu(self.conv1(x)))\n",
    "        # 卷积层2 -> ReLU激活 -> 池化\n",
    "        x = self.pool(F.relu(self.conv2(x)))\n",
    "        \n",
    "        #展平特征图\n",
    "        x = x.view(-1, 16 * 5 * 5)\n",
    "        \n",
    "        # 全连接层1、2 -> ReLU激活\n",
    "        x = F.relu(self.fc1(x))\n",
    "        x = F.relu(self.fc2(x))\n",
    "        \n",
    "        # 最终输出层（不接激活函数，后续配合CrossEntropyLoss使用）\n",
    "        x = self.fc3(x)\n",
    "        return x\n",
    "\n",
    "\n",
    "net = Net()"
   ]
  },
  {
   "cell_type": "code",
   "execution_count": 8,
   "metadata": {},
   "outputs": [],
   "source": [
    "#损失函数定义\n",
    "import torch.optim as optim\n",
    "\n",
    "criterion = nn.CrossEntropyLoss()\n",
    "optimizer = optim.SGD(net.parameters(), lr=0.001, momentum=0.9)"
   ]
  },
  {
   "cell_type": "code",
   "execution_count": 9,
   "metadata": {},
   "outputs": [
    {
     "name": "stdout",
     "output_type": "stream",
     "text": [
      "[1,  2000] loss: 2.254\n",
      "[1,  4000] loss: 1.885\n",
      "[1,  6000] loss: 1.673\n",
      "[1,  8000] loss: 1.585\n",
      "[1, 10000] loss: 1.520\n",
      "[1, 12000] loss: 1.477\n",
      "[2,  2000] loss: 1.415\n",
      "[2,  4000] loss: 1.356\n",
      "[2,  6000] loss: 1.357\n",
      "[2,  8000] loss: 1.357\n",
      "[2, 10000] loss: 1.287\n",
      "[2, 12000] loss: 1.289\n",
      "完成训练\n"
     ]
    }
   ],
   "source": [
    "#利用训练样本数据训练网络\n",
    "for epoch in range(2):  # loop over the dataset multiple times\n",
    "\n",
    "    running_loss = 0.0\n",
    "    for i, data in enumerate(trainloader, 0):\n",
    "        # 获取输入数据\n",
    "        inputs, labels = data\n",
    "\n",
    "        # 设置参数梯度为0\n",
    "        optimizer.zero_grad()\n",
    "\n",
    "        # 前向传播 + 反向传播 + 优化器\n",
    "        outputs = net(inputs)\n",
    "        loss = criterion(outputs, labels)\n",
    "        loss.backward()\n",
    "        optimizer.step()\n",
    "\n",
    "        # print statistics\n",
    "        running_loss += loss.item()\n",
    "        if i % 2000 == 1999:    # 每2000打印一次\n",
    "            print('[%d, %5d] loss: %.3f' %\n",
    "                  (epoch + 1, i + 1, running_loss / 2000))\n",
    "            running_loss = 0.0\n",
    "\n",
    "print('完成训练')"
   ]
  },
  {
   "cell_type": "code",
   "execution_count": 10,
   "metadata": {},
   "outputs": [
    {
     "data": {
      "image/png": "[encoded data removed]",
      "text/plain": [
       "<Figure size 640x480 with 1 Axes>"
      ]
     },
     "metadata": {},
     "output_type": "display_data"
    },
    {
     "name": "stdout",
     "output_type": "stream",
     "text": [
      "truck  bird  bird  deer\n"
     ]
    }
   ],
   "source": [
    "# 随机获取图片\n",
    "dataiter = iter(trainloader)\n",
    "images, labels = next(dataiter)\n",
    "\n",
    "#展示图片\n",
    "imshow(torchvision.utils.make_grid(images))\n",
    "# 打印标签\n",
    "print(' '.join('%5s' % classes[labels[j]] for j in range(4)))"
   ]
  },
  {
   "cell_type": "code",
   "execution_count": 11,
   "metadata": {},
   "outputs": [],
   "source": [
    "outputs = net(images)"
   ]
  },
  {
   "cell_type": "code",
   "execution_count": 12,
   "metadata": {},
   "outputs": [
    {
     "name": "stdout",
     "output_type": "stream",
     "text": [
      "Predicted:    dog truck horse   dog\n"
     ]
    }
   ],
   "source": [
    "_, predicted = torch.max(outputs, 1)\n",
    "\n",
    "print('Predicted: ', ' '.join('%5s' % classes[predicted[j]]\n",
    "                              for j in range(4)))"
   ]
  },
  {
   "cell_type": "code",
   "execution_count": 13,
   "metadata": {},
   "outputs": [
    {
     "name": "stdout",
     "output_type": "stream",
     "text": [
      "Accuracy of the network on the 10000 test images: 54 %\n"
     ]
    }
   ],
   "source": [
    "correct = 0\n",
    "total = 0\n",
    "with torch.no_grad():\n",
    "    for data in testloader:\n",
    "        images, labels = data\n",
    "        outputs = net(images)\n",
    "        _, predicted = torch.max(outputs.data, 1)\n",
    "        total += labels.size(0)\n",
    "        correct += (predicted == labels).sum().item()\n",
    "\n",
    "print('Accuracy of the network on the 10000 test images: %d %%' % (\n",
    "    100 * correct / total))"
   ]
  },
  {
   "cell_type": "code",
   "execution_count": 14,
   "metadata": {},
   "outputs": [
    {
     "name": "stdout",
     "output_type": "stream",
     "text": [
      "Accuracy of plane : 67 %\n",
      "Accuracy of   car : 62 %\n",
      "Accuracy of  bird : 26 %\n",
      "Accuracy of   cat : 45 %\n",
      "Accuracy of  deer : 60 %\n",
      "Accuracy of   dog : 57 %\n",
      "Accuracy of  frog : 52 %\n",
      "Accuracy of horse : 49 %\n",
      "Accuracy of  ship : 61 %\n",
      "Accuracy of truck : 66 %\n"
     ]
    }
   ],
   "source": [
    "#各类别的预测情况\n",
    "class_correct = list(0. for i in range(10))\n",
    "class_total = list(0. for i in range(10))\n",
    "with torch.no_grad():\n",
    "    for data in testloader:\n",
    "        images, labels = data\n",
    "        outputs = net(images)\n",
    "        _, predicted = torch.max(outputs, 1)\n",
    "        c = (predicted == labels).squeeze()\n",
    "        for i in range(4):\n",
    "            label = labels[i]\n",
    "            class_correct[label] += c[i].item()\n",
    "            class_total[label] += 1\n",
    "\n",
    "\n",
    "for i in range(10):\n",
    "    print('Accuracy of %5s : %2d %%' % (\n",
    "        classes[i], 100 * class_correct[i] / class_total[i]))"
   ]
  },
  {
   "cell_type": "markdown",
   "metadata": {},
   "source": [
    "# 作业"
   ]
  },
  {
   "cell_type": "code",
   "execution_count": 16,
   "metadata": {},
   "outputs": [],
   "source": [
    "#神经网络创建\n",
    "import torch.nn as nn\n",
    "import torch.nn.functional as F\n",
    "\n",
    "class Net2(nn.Module):\n",
    "    def __init__(self, input_shape=(3, 32, 32)):\n",
    "        \"\"\"全连接网络结构定义\n",
    "        Args:\n",
    "            input_shape (tuple): 输入数据维度，默认CIFAR-10的(3,32,32)\n",
    "        \"\"\"\n",
    "        super(Net2, self).__init__()\n",
    "        \n",
    "        # 展平层：将图像数据转换为向量\n",
    "        self.flatten = nn.Flatten()\n",
    "        \n",
    "        # 计算展平后的特征维度\n",
    "        self.flat_features = input_shape[0] * input_shape[1] * input_shape[2]\n",
    "        \n",
    "        # 全连接层定义\n",
    "        self.fc1 = nn.Linear(self.flat_features, 120)  # 第一隐藏层\n",
    "        self.fc2 = nn.Linear(120, 84)                  # 第二隐藏层\n",
    "        self.fc3 = nn.Linear(84, 10)                   # 输出层\n",
    "\n",
    "    def forward(self, x):\n",
    "        \"\"\"前向传播流程\"\"\"\n",
    "        # 展平输入 [batch, C, H, W] → [batch, C*H*W]\n",
    "        x = self.flatten(x)\n",
    "        \n",
    "        # 第一隐藏层 + ReLU激活\n",
    "        x = F.relu(self.fc1(x))\n",
    "        \n",
    "        # 第二隐藏层 + ReLU激活\n",
    "        x = F.relu(self.fc2(x))\n",
    "        \n",
    "        # 输出层（不使用激活函数）\n",
    "        x = self.fc3(x)\n",
    "        return x\n",
    "\n",
    "# 实例化网络（适配CIFAR-10数据集）\n",
    "net2 = Net2(input_shape=(3, 32, 32))"
   ]
  },
  {
   "cell_type": "code",
   "execution_count": 17,
   "metadata": {},
   "outputs": [
    {
     "name": "stdout",
     "output_type": "stream",
     "text": [
      "[1,  2000] loss: 2.304\n",
      "[1,  4000] loss: 2.304\n",
      "[1,  6000] loss: 2.304\n",
      "[1,  8000] loss: 2.304\n",
      "[1, 10000] loss: 2.304\n",
      "[1, 12000] loss: 2.304\n",
      "[2,  2000] loss: 2.304\n",
      "[2,  4000] loss: 2.304\n",
      "[2,  6000] loss: 2.303\n",
      "[2,  8000] loss: 2.304\n",
      "[2, 10000] loss: 2.304\n",
      "[2, 12000] loss: 2.305\n",
      "完成训练\n"
     ]
    }
   ],
   "source": [
    "#模型训练\n",
    "#利用训练样本数据训练网络\n",
    "for epoch in range(2):  \n",
    "\n",
    "    running_loss = 0.0\n",
    "    for i, data in enumerate(trainloader, 0):\n",
    "        # 获取输入数据\n",
    "        inputs, labels = data\n",
    "\n",
    "        # 设置参数梯度为0\n",
    "        optimizer.zero_grad()\n",
    "\n",
    "        # 前向传播 + 反向传播 + 优化器\n",
    "        outputs = net2(inputs)\n",
    "        loss = criterion(outputs, labels)\n",
    "        loss.backward()\n",
    "        optimizer.step()\n",
    "\n",
    "        # print statistics\n",
    "        running_loss += loss.item()\n",
    "        if i % 2000 == 1999:    # 每2000打印一次\n",
    "            print('[%d, %5d] loss: %.3f' %\n",
    "                  (epoch + 1, i + 1, running_loss / 2000))\n",
    "            running_loss = 0.0\n",
    "\n",
    "print('完成训练')"
   ]
  },
  {
   "cell_type": "code",
   "execution_count": 18,
   "metadata": {},
   "outputs": [
    {
     "name": "stdout",
     "output_type": "stream",
     "text": [
      "Accuracy of the network on the 10000 test images: 9 %\n"
     ]
    }
   ],
   "source": [
    "#准确率\n",
    "correct = 0\n",
    "total = 0\n",
    "with torch.no_grad():\n",
    "    for data in testloader:\n",
    "        images, labels = data\n",
    "        outputs = net2(images)\n",
    "        _, predicted = torch.max(outputs.data, 1)\n",
    "        total += labels.size(0)\n",
    "        correct += (predicted == labels).sum().item()\n",
    "\n",
    "print('Accuracy of the network on the 10000 test images: %d %%' % (\n",
    "    100 * correct / total))"
   ]
  },
  {
   "cell_type": "code",
   "execution_count": 19,
   "metadata": {},
   "outputs": [
    {
     "name": "stdout",
     "output_type": "stream",
     "text": [
      "Accuracy of plane :  0 %\n",
      "Accuracy of   car : 69 %\n",
      "Accuracy of  bird :  0 %\n",
      "Accuracy of   cat :  9 %\n",
      "Accuracy of  deer :  2 %\n",
      "Accuracy of   dog :  1 %\n",
      "Accuracy of  frog :  0 %\n",
      "Accuracy of horse :  0 %\n",
      "Accuracy of  ship :  3 %\n",
      "Accuracy of truck :  4 %\n"
     ]
    }
   ],
   "source": [
    "#各类别的预测情况\n",
    "class_correct = list(0. for i in range(10))\n",
    "class_total = list(0. for i in range(10))\n",
    "with torch.no_grad():\n",
    "    for data in testloader:\n",
    "        images, labels = data\n",
    "        outputs = net2(images)\n",
    "        _, predicted = torch.max(outputs, 1)\n",
    "        c = (predicted == labels).squeeze()\n",
    "        for i in range(4):\n",
    "            label = labels[i]\n",
    "            class_correct[label] += c[i].item()\n",
    "            class_total[label] += 1\n",
    "\n",
    "\n",
    "for i in range(10):\n",
    "    print('Accuracy of %5s : %2d %%' % (\n",
    "        classes[i], 100 * class_correct[i] / class_total[i]))"
   ]
  }
 ],
 "metadata": {
  "kernelspec": {
   "display_name": "Deep",
   "language": "python",
   "name": "python3"
  },
  "language_info": {
   "codemirror_mode": {
    "name": "ipython",
    "version": 3
   },
   "file_extension": ".py",
   "mimetype": "text/x-python",
   "name": "python",
   "nbconvert_exporter": "python",
   "pygments_lexer": "ipython3",
   "version": "3.11.5"
  }
 },
 "nbformat": 4,
 "nbformat_minor": 2
}
