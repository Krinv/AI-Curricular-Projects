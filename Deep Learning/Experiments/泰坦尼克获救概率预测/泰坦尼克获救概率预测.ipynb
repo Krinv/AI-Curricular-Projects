{
 "cells": [
  {
   "cell_type": "markdown",
   "metadata": {},
   "source": [
    "# 泰坦尼克号获救概率预测"
   ]
  },
  {
   "cell_type": "code",
   "execution_count": 81,
   "metadata": {},
   "outputs": [],
   "source": [
    "import numpy as np\n",
    "import pandas as pd\n",
    "from sklearn.model_selection import train_test_split\n",
    "import torch\n",
    "import torch.nn as nn\n",
    "import torch.optim as optim\n",
    "from torch.optim import lr_scheduler\n",
    "import matplotlib.pyplot as plt\n",
    "import time\n",
    "import os\n",
    "import copy\n",
    "from torch.utils.data import DataLoader,TensorDataset\n",
    "import torch.nn.functional as F"
   ]
  },
  {
   "cell_type": "code",
   "execution_count": 82,
   "metadata": {},
   "outputs": [],
   "source": [
    "data = pd.read_csv('./data/train.csv')"
   ]
  },
  {
   "cell_type": "code",
   "execution_count": 83,
   "metadata": {},
   "outputs": [
    {
     "data": {
      "text/plain": [
       "Index(['PassengerId', 'Survived', 'Pclass', 'Name', 'Sex', 'Age', 'SibSp',\n",
       "       'Parch', 'Ticket', 'Fare', 'Cabin', 'Embarked'],\n",
       "      dtype='object')"
      ]
     },
     "execution_count": 83,
     "metadata": {},
     "output_type": "execute_result"
    }
   ],
   "source": [
    "data.columns"
   ]
  },
  {
   "cell_type": "code",
   "execution_count": 84,
   "metadata": {},
   "outputs": [],
   "source": [
    "data = data[['Survived', 'Pclass', 'Sex', 'Age', 'SibSp','Parch', 'Fare', 'Cabin', 'Embarked']]"
   ]
  },
  {
   "cell_type": "code",
   "execution_count": 85,
   "metadata": {},
   "outputs": [
    {
     "data": {
      "text/html": [
       "<div>\n",
       "<style scoped>\n",
       "    .dataframe tbody tr th:only-of-type {\n",
       "        vertical-align: middle;\n",
       "    }\n",
       "\n",
       "    .dataframe tbody tr th {\n",
       "        vertical-align: top;\n",
       "    }\n",
       "\n",
       "    .dataframe thead th {\n",
       "        text-align: right;\n",
       "    }\n",
       "</style>\n",
       "<table border=\"1\" class=\"dataframe\">\n",
       "  <thead>\n",
       "    <tr style=\"text-align: right;\">\n",
       "      <th></th>\n",
       "      <th>Survived</th>\n",
       "      <th>Pclass</th>\n",
       "      <th>Sex</th>\n",
       "      <th>Age</th>\n",
       "      <th>SibSp</th>\n",
       "      <th>Parch</th>\n",
       "      <th>Fare</th>\n",
       "      <th>Cabin</th>\n",
       "      <th>Embarked</th>\n",
       "    </tr>\n",
       "  </thead>\n",
       "  <tbody>\n",
       "    <tr>\n",
       "      <th>0</th>\n",
       "      <td>0</td>\n",
       "      <td>3</td>\n",
       "      <td>male</td>\n",
       "      <td>22.0</td>\n",
       "      <td>1</td>\n",
       "      <td>0</td>\n",
       "      <td>7.2500</td>\n",
       "      <td>NaN</td>\n",
       "      <td>S</td>\n",
       "    </tr>\n",
       "    <tr>\n",
       "      <th>1</th>\n",
       "      <td>1</td>\n",
       "      <td>1</td>\n",
       "      <td>female</td>\n",
       "      <td>38.0</td>\n",
       "      <td>1</td>\n",
       "      <td>0</td>\n",
       "      <td>71.2833</td>\n",
       "      <td>C85</td>\n",
       "      <td>C</td>\n",
       "    </tr>\n",
       "    <tr>\n",
       "      <th>2</th>\n",
       "      <td>1</td>\n",
       "      <td>3</td>\n",
       "      <td>female</td>\n",
       "      <td>26.0</td>\n",
       "      <td>0</td>\n",
       "      <td>0</td>\n",
       "      <td>7.9250</td>\n",
       "      <td>NaN</td>\n",
       "      <td>S</td>\n",
       "    </tr>\n",
       "    <tr>\n",
       "      <th>3</th>\n",
       "      <td>1</td>\n",
       "      <td>1</td>\n",
       "      <td>female</td>\n",
       "      <td>35.0</td>\n",
       "      <td>1</td>\n",
       "      <td>0</td>\n",
       "      <td>53.1000</td>\n",
       "      <td>C123</td>\n",
       "      <td>S</td>\n",
       "    </tr>\n",
       "    <tr>\n",
       "      <th>4</th>\n",
       "      <td>0</td>\n",
       "      <td>3</td>\n",
       "      <td>male</td>\n",
       "      <td>35.0</td>\n",
       "      <td>0</td>\n",
       "      <td>0</td>\n",
       "      <td>8.0500</td>\n",
       "      <td>NaN</td>\n",
       "      <td>S</td>\n",
       "    </tr>\n",
       "  </tbody>\n",
       "</table>\n",
       "</div>"
      ],
      "text/plain": [
       "   Survived  Pclass     Sex   Age  SibSp  Parch     Fare Cabin Embarked\n",
       "0         0       3    male  22.0      1      0   7.2500   NaN        S\n",
       "1         1       1  female  38.0      1      0  71.2833   C85        C\n",
       "2         1       3  female  26.0      0      0   7.9250   NaN        S\n",
       "3         1       1  female  35.0      1      0  53.1000  C123        S\n",
       "4         0       3    male  35.0      0      0   8.0500   NaN        S"
      ]
     },
     "execution_count": 85,
     "metadata": {},
     "output_type": "execute_result"
    }
   ],
   "source": [
    "data.head()"
   ]
  },
  {
   "cell_type": "code",
   "execution_count": 86,
   "metadata": {},
   "outputs": [],
   "source": [
    "data['Age'] = data['Age'].fillna(data['Age'].mean()) #平均值填充"
   ]
  },
  {
   "cell_type": "code",
   "execution_count": 87,
   "metadata": {},
   "outputs": [],
   "source": [
    "data['Cabin'] = pd.factorize(data.Cabin)[0]#数值化"
   ]
  },
  {
   "cell_type": "code",
   "execution_count": 88,
   "metadata": {},
   "outputs": [],
   "source": [
    "data.fillna(0,inplace=True) #剩余的缺失值用0填充"
   ]
  },
  {
   "cell_type": "code",
   "execution_count": 89,
   "metadata": {},
   "outputs": [],
   "source": [
    "data['Sex'] = [1 if x == 'male' else 0 for x in data.Sex] #男变为1女变为0"
   ]
  },
  {
   "cell_type": "code",
   "execution_count": 90,
   "metadata": {},
   "outputs": [],
   "source": [
    "#船舱等级变为三列 ，即one-hot编码。\n",
    "#进行one-hot编码，分类变量作为二进制向量的表示。这首先要求将分类值映射到整数值。然后，每个整数值被表示为二进制向量，除了整数的索引之外，它都是零值，它被标记为1。\n",
    "data['p1'] = np.array(data['Pclass'] == 1).astype(np.int32)\n",
    "data['p2'] = np.array(data['Pclass'] == 2).astype(np.int32)\n",
    "data['p3'] = np.array(data['Pclass'] == 3).astype(np.int32)"
   ]
  },
  {
   "cell_type": "code",
   "execution_count": 91,
   "metadata": {},
   "outputs": [],
   "source": [
    "del data['Pclass']  #删除此列"
   ]
  },
  {
   "cell_type": "code",
   "execution_count": 92,
   "metadata": {},
   "outputs": [
    {
     "data": {
      "text/html": [
       "<div>\n",
       "<style scoped>\n",
       "    .dataframe tbody tr th:only-of-type {\n",
       "        vertical-align: middle;\n",
       "    }\n",
       "\n",
       "    .dataframe tbody tr th {\n",
       "        vertical-align: top;\n",
       "    }\n",
       "\n",
       "    .dataframe thead th {\n",
       "        text-align: right;\n",
       "    }\n",
       "</style>\n",
       "<table border=\"1\" class=\"dataframe\">\n",
       "  <thead>\n",
       "    <tr style=\"text-align: right;\">\n",
       "      <th></th>\n",
       "      <th>Survived</th>\n",
       "      <th>Sex</th>\n",
       "      <th>Age</th>\n",
       "      <th>SibSp</th>\n",
       "      <th>Parch</th>\n",
       "      <th>Fare</th>\n",
       "      <th>Cabin</th>\n",
       "      <th>Embarked</th>\n",
       "      <th>p1</th>\n",
       "      <th>p2</th>\n",
       "      <th>p3</th>\n",
       "    </tr>\n",
       "  </thead>\n",
       "  <tbody>\n",
       "    <tr>\n",
       "      <th>0</th>\n",
       "      <td>0</td>\n",
       "      <td>1</td>\n",
       "      <td>22.0</td>\n",
       "      <td>1</td>\n",
       "      <td>0</td>\n",
       "      <td>7.2500</td>\n",
       "      <td>-1</td>\n",
       "      <td>S</td>\n",
       "      <td>0</td>\n",
       "      <td>0</td>\n",
       "      <td>1</td>\n",
       "    </tr>\n",
       "    <tr>\n",
       "      <th>1</th>\n",
       "      <td>1</td>\n",
       "      <td>0</td>\n",
       "      <td>38.0</td>\n",
       "      <td>1</td>\n",
       "      <td>0</td>\n",
       "      <td>71.2833</td>\n",
       "      <td>0</td>\n",
       "      <td>C</td>\n",
       "      <td>1</td>\n",
       "      <td>0</td>\n",
       "      <td>0</td>\n",
       "    </tr>\n",
       "    <tr>\n",
       "      <th>2</th>\n",
       "      <td>1</td>\n",
       "      <td>0</td>\n",
       "      <td>26.0</td>\n",
       "      <td>0</td>\n",
       "      <td>0</td>\n",
       "      <td>7.9250</td>\n",
       "      <td>-1</td>\n",
       "      <td>S</td>\n",
       "      <td>0</td>\n",
       "      <td>0</td>\n",
       "      <td>1</td>\n",
       "    </tr>\n",
       "    <tr>\n",
       "      <th>3</th>\n",
       "      <td>1</td>\n",
       "      <td>0</td>\n",
       "      <td>35.0</td>\n",
       "      <td>1</td>\n",
       "      <td>0</td>\n",
       "      <td>53.1000</td>\n",
       "      <td>1</td>\n",
       "      <td>S</td>\n",
       "      <td>1</td>\n",
       "      <td>0</td>\n",
       "      <td>0</td>\n",
       "    </tr>\n",
       "    <tr>\n",
       "      <th>4</th>\n",
       "      <td>0</td>\n",
       "      <td>1</td>\n",
       "      <td>35.0</td>\n",
       "      <td>0</td>\n",
       "      <td>0</td>\n",
       "      <td>8.0500</td>\n",
       "      <td>-1</td>\n",
       "      <td>S</td>\n",
       "      <td>0</td>\n",
       "      <td>0</td>\n",
       "      <td>1</td>\n",
       "    </tr>\n",
       "  </tbody>\n",
       "</table>\n",
       "</div>"
      ],
      "text/plain": [
       "   Survived  Sex   Age  SibSp  Parch     Fare  Cabin Embarked  p1  p2  p3\n",
       "0         0    1  22.0      1      0   7.2500     -1        S   0   0   1\n",
       "1         1    0  38.0      1      0  71.2833      0        C   1   0   0\n",
       "2         1    0  26.0      0      0   7.9250     -1        S   0   0   1\n",
       "3         1    0  35.0      1      0  53.1000      1        S   1   0   0\n",
       "4         0    1  35.0      0      0   8.0500     -1        S   0   0   1"
      ]
     },
     "execution_count": 92,
     "metadata": {},
     "output_type": "execute_result"
    }
   ],
   "source": [
    "data.head()"
   ]
  },
  {
   "cell_type": "code",
   "execution_count": 93,
   "metadata": {},
   "outputs": [
    {
     "data": {
      "text/plain": [
       "array(['S', 'C', 'Q', 0], dtype=object)"
      ]
     },
     "execution_count": 93,
     "metadata": {},
     "output_type": "execute_result"
    }
   ],
   "source": [
    "# 查看Embarked有几个特征值\n",
    "data.Embarked.unique()"
   ]
  },
  {
   "cell_type": "code",
   "execution_count": 94,
   "metadata": {},
   "outputs": [
    {
     "data": {
      "text/html": [
       "<div>\n",
       "<style scoped>\n",
       "    .dataframe tbody tr th:only-of-type {\n",
       "        vertical-align: middle;\n",
       "    }\n",
       "\n",
       "    .dataframe tbody tr th {\n",
       "        vertical-align: top;\n",
       "    }\n",
       "\n",
       "    .dataframe thead th {\n",
       "        text-align: right;\n",
       "    }\n",
       "</style>\n",
       "<table border=\"1\" class=\"dataframe\">\n",
       "  <thead>\n",
       "    <tr style=\"text-align: right;\">\n",
       "      <th></th>\n",
       "      <th>Survived</th>\n",
       "      <th>Sex</th>\n",
       "      <th>Age</th>\n",
       "      <th>SibSp</th>\n",
       "      <th>Parch</th>\n",
       "      <th>Fare</th>\n",
       "      <th>Cabin</th>\n",
       "      <th>p1</th>\n",
       "      <th>p2</th>\n",
       "      <th>p3</th>\n",
       "      <th>e1</th>\n",
       "      <th>e2</th>\n",
       "      <th>e3</th>\n",
       "    </tr>\n",
       "  </thead>\n",
       "  <tbody>\n",
       "    <tr>\n",
       "      <th>0</th>\n",
       "      <td>0</td>\n",
       "      <td>1</td>\n",
       "      <td>22.0</td>\n",
       "      <td>1</td>\n",
       "      <td>0</td>\n",
       "      <td>7.2500</td>\n",
       "      <td>-1</td>\n",
       "      <td>0</td>\n",
       "      <td>0</td>\n",
       "      <td>1</td>\n",
       "      <td>1</td>\n",
       "      <td>0</td>\n",
       "      <td>0</td>\n",
       "    </tr>\n",
       "    <tr>\n",
       "      <th>1</th>\n",
       "      <td>1</td>\n",
       "      <td>0</td>\n",
       "      <td>38.0</td>\n",
       "      <td>1</td>\n",
       "      <td>0</td>\n",
       "      <td>71.2833</td>\n",
       "      <td>0</td>\n",
       "      <td>1</td>\n",
       "      <td>0</td>\n",
       "      <td>0</td>\n",
       "      <td>0</td>\n",
       "      <td>1</td>\n",
       "      <td>0</td>\n",
       "    </tr>\n",
       "    <tr>\n",
       "      <th>2</th>\n",
       "      <td>1</td>\n",
       "      <td>0</td>\n",
       "      <td>26.0</td>\n",
       "      <td>0</td>\n",
       "      <td>0</td>\n",
       "      <td>7.9250</td>\n",
       "      <td>-1</td>\n",
       "      <td>0</td>\n",
       "      <td>0</td>\n",
       "      <td>1</td>\n",
       "      <td>1</td>\n",
       "      <td>0</td>\n",
       "      <td>0</td>\n",
       "    </tr>\n",
       "    <tr>\n",
       "      <th>3</th>\n",
       "      <td>1</td>\n",
       "      <td>0</td>\n",
       "      <td>35.0</td>\n",
       "      <td>1</td>\n",
       "      <td>0</td>\n",
       "      <td>53.1000</td>\n",
       "      <td>1</td>\n",
       "      <td>1</td>\n",
       "      <td>0</td>\n",
       "      <td>0</td>\n",
       "      <td>1</td>\n",
       "      <td>0</td>\n",
       "      <td>0</td>\n",
       "    </tr>\n",
       "    <tr>\n",
       "      <th>4</th>\n",
       "      <td>0</td>\n",
       "      <td>1</td>\n",
       "      <td>35.0</td>\n",
       "      <td>0</td>\n",
       "      <td>0</td>\n",
       "      <td>8.0500</td>\n",
       "      <td>-1</td>\n",
       "      <td>0</td>\n",
       "      <td>0</td>\n",
       "      <td>1</td>\n",
       "      <td>1</td>\n",
       "      <td>0</td>\n",
       "      <td>0</td>\n",
       "    </tr>\n",
       "  </tbody>\n",
       "</table>\n",
       "</div>"
      ],
      "text/plain": [
       "   Survived  Sex   Age  SibSp  Parch     Fare  Cabin  p1  p2  p3  e1  e2  e3\n",
       "0         0    1  22.0      1      0   7.2500     -1   0   0   1   1   0   0\n",
       "1         1    0  38.0      1      0  71.2833      0   1   0   0   0   1   0\n",
       "2         1    0  26.0      0      0   7.9250     -1   0   0   1   1   0   0\n",
       "3         1    0  35.0      1      0  53.1000      1   1   0   0   1   0   0\n",
       "4         0    1  35.0      0      0   8.0500     -1   0   0   1   1   0   0"
      ]
     },
     "execution_count": 94,
     "metadata": {},
     "output_type": "execute_result"
    }
   ],
   "source": [
    "#变为三列\n",
    "data['e1'] = np.array(data['Embarked'] == 'S').astype(np.int32)\n",
    "data['e2'] = np.array(data['Embarked'] == 'C').astype(np.int32)\n",
    "data['e3'] = np.array(data['Embarked'] == 'Q').astype(np.int32)\n",
    "del data['Embarked']\n",
    "data.head()"
   ]
  },
  {
   "cell_type": "code",
   "execution_count": 95,
   "metadata": {},
   "outputs": [
    {
     "data": {
      "text/plain": [
       "dtype('float64')"
      ]
     },
     "execution_count": 95,
     "metadata": {},
     "output_type": "execute_result"
    }
   ],
   "source": [
    "data.values.dtype "
   ]
  },
  {
   "cell_type": "code",
   "execution_count": 96,
   "metadata": {},
   "outputs": [
    {
     "data": {
      "text/plain": [
       "((891, 12), (891,))"
      ]
     },
     "execution_count": 96,
     "metadata": {},
     "output_type": "execute_result"
    }
   ],
   "source": [
    "#划分特征x和标签y\n",
    "data_train = data[[ 'Sex', 'Age', 'SibSp', 'Parch', 'Fare', 'Cabin', 'p1', 'p2','p3', 'e1', 'e2', 'e3']]\n",
    "data_target = data['Survived']\n",
    "#看数据集形状，有891个样本，12个特征\n",
    "np.shape(data_train),np.shape(data_target)"
   ]
  },
  {
   "cell_type": "code",
   "execution_count": 97,
   "metadata": {},
   "outputs": [],
   "source": [
    "#切分训练集和验证集\n",
    "X_train,X_val,y_train,y_val = train_test_split(data_train,data_target,test_size=0.3)\n",
    "X_train = torch.from_numpy(np.array(X_train)).float()\n",
    "X_val = torch.from_numpy(np.array(X_val)).float()\n",
    "y_train = torch.from_numpy(np.array(y_train)).long()\n",
    "y_val = torch.from_numpy(np.array(y_val)).long()\n",
    "tensor_datasets = {'train': TensorDataset(X_train,y_train),'val':TensorDataset(X_val,y_val)}\n",
    "dataloaders = {x: DataLoader(tensor_datasets[x], batch_size=100,\n",
    "                            shuffle=True)\n",
    "              for x in ['train', 'val']}\n",
    "dataset_sizes = {x: len(tensor_datasets[x]) for x in ['train', 'val']}"
   ]
  },
  {
   "cell_type": "code",
   "execution_count": 98,
   "metadata": {},
   "outputs": [],
   "source": [
    "class linear_Net(torch.nn.Module):\n",
    "    def __init__(self):\n",
    "        \"\"\"\n",
    "        在构造函数中，我们构造了一个nn.Linear实例，就是wx+b,它们将在前向传播时被使用。\n",
    "        \"\"\"\n",
    "        super(linear_Net, self).__init__()\n",
    "        self.input_linear = torch.nn.Linear(12, 24)\n",
    "        self.middle_linear = torch.nn.Linear(24, 24)\n",
    "        self.output_linear = torch.nn.Linear(24, 2)\n",
    "\n",
    "    def forward(self, x):\n",
    "        \"\"\"\n",
    "        前向传播\n",
    "        \"\"\"\n",
    "        x = F.relu(self.input_linear(x))\n",
    "        x = F.relu(self.middle_linear(x))\n",
    "        y_pred = self.output_linear(x)\n",
    "        return y_pred"
   ]
  },
  {
   "cell_type": "code",
   "execution_count": 99,
   "metadata": {},
   "outputs": [],
   "source": [
    "# 创建空的列表用于存储验证集的损失和准确率\n",
    "val_loss = []\n",
    "val_acc = []\n",
    "\n",
    "def train_model(model, criterion, optimizer, scheduler, num_epochs=1000):\n",
    "    since = time.time()\n",
    "    # 保存初始模型权重，用于记录效果更好的模型权重\n",
    "    best_model_wts = copy.deepcopy(model.state_dict())\n",
    "    best_acc = 0.0\n",
    "    # 开始训练\n",
    "    for epoch in range(num_epochs):\n",
    "        print('Epoch {}/{}'.format(epoch+1, num_epochs))\n",
    "        print('-' * 10)\n",
    "\n",
    "        # 每个epoch都有一个训练和验证阶段\n",
    "        for phase in ['train', 'val']:\n",
    "            if phase == 'train':\n",
    "                scheduler.step()\n",
    "                model.train()  # 设置模型为训练模式\n",
    "            else:\n",
    "                model.eval()   # 设置模型为测试模式\n",
    "            # 用于损失和准确率\n",
    "            running_loss = 0.0\n",
    "            running_corrects = 0\n",
    "\n",
    "            # 迭代数据\n",
    "            for inputs, labels in dataloaders[phase]:\n",
    "\n",
    "                # 零参数梯度\n",
    "                optimizer.zero_grad()\n",
    "\n",
    "                # 前向\n",
    "                # 如果是训练阶段会计算梯度\n",
    "                with torch.set_grad_enabled(phase == 'train'):\n",
    "                    outputs = model(inputs)\n",
    "                    _, preds = torch.max(outputs, 1)\n",
    "                    loss = criterion(outputs, labels)\n",
    "\n",
    "                    # 后向传播并且仅在训练阶段进行优化\n",
    "                    if phase == 'train':\n",
    "                        loss.backward()\n",
    "                        optimizer.step()\n",
    "\n",
    "                # 统计损失和准确率\n",
    "                running_loss += loss.item() * inputs.size(0)\n",
    "                running_corrects += torch.sum(preds == labels.data)\n",
    "            \n",
    "            # 计算每个epoch的损失和准确率\n",
    "            epoch_loss = running_loss / dataset_sizes[phase]\n",
    "            epoch_acc = running_corrects.double() / dataset_sizes[phase]\n",
    "            val_loss.append(epoch_loss)\n",
    "            val_acc.append(epoch_acc)\n",
    "            print('{} Loss: {:.4f} Acc: {:.4f}'.format(\n",
    "                phase, epoch_loss, epoch_acc))\n",
    "\n",
    "            # 如果验证集模型效果更好，就深度复制模型权重\n",
    "            if phase == 'val' and epoch_acc > best_acc:\n",
    "                best_acc = epoch_acc\n",
    "                best_model_wts = copy.deepcopy(model.state_dict())\n",
    "\n",
    "        print()\n",
    "    \n",
    "    #计算一轮次所花时间\n",
    "    time_elapsed = time.time() - since\n",
    "    print('Training complete in {:.0f}m {:.0f}s'.format(\n",
    "        time_elapsed // 60, time_elapsed % 60))\n",
    "    print('Best val Acc: {:4f}'.format(best_acc))\n",
    "\n",
    "    # 加载最佳模型权重\n",
    "    model.load_state_dict(best_model_wts)\n",
    "    return model"
   ]
  },
  {
   "cell_type": "code",
   "execution_count": 100,
   "metadata": {},
   "outputs": [
    {
     "name": "stdout",
     "output_type": "stream",
     "text": [
      "Epoch 1/20\n",
      "----------\n",
      "train Loss: 0.8028 Acc: 0.5040\n",
      "val Loss: 0.7411 Acc: 0.5933\n",
      "\n",
      "Epoch 2/20\n",
      "----------\n",
      "train Loss: 0.6532 Acc: 0.6565\n",
      "val Loss: 0.6134 Acc: 0.6716\n",
      "\n",
      "Epoch 3/20\n",
      "----------\n",
      "train Loss: 0.6471 Acc: 0.6934\n",
      "val Loss: 0.6184 Acc: 0.6791\n",
      "\n",
      "Epoch 4/20\n",
      "----------\n",
      "train Loss: 0.6116 Acc: 0.6934\n",
      "val Loss: 0.6270 Acc: 0.6866\n",
      "\n",
      "Epoch 5/20\n",
      "----------\n",
      "train Loss: 0.6032 Acc: 0.6870\n",
      "val Loss: 0.6031 Acc: 0.6754\n",
      "\n",
      "Epoch 6/20\n",
      "----------\n",
      "train Loss: 0.5926 Acc: 0.6870\n",
      "val Loss: 0.5986 Acc: 0.6716\n",
      "\n",
      "Epoch 7/20\n",
      "----------\n",
      "train Loss: 0.5953 Acc: 0.6870\n",
      "val Loss: 0.5987 Acc: 0.6642\n",
      "\n",
      "Epoch 8/20\n",
      "----------\n",
      "train Loss: 0.5942 Acc: 0.6950\n",
      "val Loss: 0.6014 Acc: 0.6604\n",
      "\n",
      "Epoch 9/20\n",
      "----------\n",
      "train Loss: 0.5911 Acc: 0.6998\n",
      "val Loss: 0.6026 Acc: 0.6716\n",
      "\n",
      "Epoch 10/20\n",
      "----------\n",
      "train Loss: 0.5908 Acc: 0.6998\n",
      "val Loss: 0.6012 Acc: 0.6604\n",
      "\n",
      "Epoch 11/20\n",
      "----------\n",
      "train Loss: 0.5900 Acc: 0.7014\n",
      "val Loss: 0.6019 Acc: 0.6642\n",
      "\n",
      "Epoch 12/20\n",
      "----------\n",
      "train Loss: 0.5898 Acc: 0.7014\n",
      "val Loss: 0.6024 Acc: 0.6679\n",
      "\n",
      "Epoch 13/20\n",
      "----------\n",
      "train Loss: 0.5895 Acc: 0.6998\n",
      "val Loss: 0.6017 Acc: 0.6642\n",
      "\n",
      "Epoch 14/20\n",
      "----------\n",
      "train Loss: 0.5893 Acc: 0.6998\n",
      "val Loss: 0.6017 Acc: 0.6642\n",
      "\n",
      "Epoch 15/20\n",
      "----------\n",
      "train Loss: 0.5893 Acc: 0.6998\n",
      "val Loss: 0.6018 Acc: 0.6642\n",
      "\n",
      "Epoch 16/20\n",
      "----------\n",
      "train Loss: 0.5893 Acc: 0.7014\n",
      "val Loss: 0.6019 Acc: 0.6642\n",
      "\n",
      "Epoch 17/20\n",
      "----------\n",
      "train Loss: 0.5892 Acc: 0.7014\n",
      "val Loss: 0.6019 Acc: 0.6642\n",
      "\n",
      "Epoch 18/20\n",
      "----------\n",
      "train Loss: 0.5892 Acc: 0.7014\n",
      "val Loss: 0.6020 Acc: 0.6642\n",
      "\n",
      "Epoch 19/20\n",
      "----------\n"
     ]
    },
    {
     "name": "stderr",
     "output_type": "stream",
     "text": [
      "e:\\Anaconda\\envs\\Deep\\Lib\\site-packages\\torch\\optim\\lr_scheduler.py:227: UserWarning: Detected call of `lr_scheduler.step()` before `optimizer.step()`. In PyTorch 1.1.0 and later, you should call them in the opposite order: `optimizer.step()` before `lr_scheduler.step()`.  Failure to do this will result in PyTorch skipping the first value of the learning rate schedule. See more details at https://pytorch.org/docs/stable/optim.html#how-to-adjust-learning-rate\n",
      "  warnings.warn(\n"
     ]
    },
    {
     "name": "stdout",
     "output_type": "stream",
     "text": [
      "train Loss: 0.5892 Acc: 0.7014\n",
      "val Loss: 0.6019 Acc: 0.6642\n",
      "\n",
      "Epoch 20/20\n",
      "----------\n",
      "train Loss: 0.5892 Acc: 0.6998\n",
      "val Loss: 0.6017 Acc: 0.6642\n",
      "\n",
      "Training complete in 0m 0s\n",
      "Best val Acc: 0.686567\n"
     ]
    }
   ],
   "source": [
    "model_ft = linear_Net()\n",
    "\n",
    "criterion = nn.CrossEntropyLoss()\n",
    "\n",
    "# 观察所有参数都正在优化\n",
    "optimizer_ft = optim.SGD(model_ft.parameters(), lr=0.001, momentum=0.9)\n",
    "\n",
    "# 每7个epochs衰减LR通过设置衰减率gamma=0.1\n",
    "exp_lr_scheduler = lr_scheduler.StepLR(optimizer_ft, step_size=7, gamma=0.1)\n",
    "model_ft = train_model(model_ft, criterion, optimizer_ft, exp_lr_scheduler,\n",
    "                       num_epochs=20)"
   ]
  },
  {
   "cell_type": "code",
   "execution_count": 101,
   "metadata": {},
   "outputs": [
    {
     "data": {
      "image/png": "[encoded data removed]",
      "text/plain": [
       "<Figure size 640x480 with 1 Axes>"
      ]
     },
     "metadata": {},
     "output_type": "display_data"
    }
   ],
   "source": [
    "import matplotlib.pyplot as plt\n",
    "plt.plot(val_loss,'k-',label = 'loss_train')\n",
    "plt.title('train_loss')\n",
    "plt.legend()\n",
    "plt.show()"
   ]
  },
  {
   "cell_type": "code",
   "execution_count": 102,
   "metadata": {},
   "outputs": [
    {
     "data": {
      "image/png": "[encoded data removed]",
      "text/plain": [
       "<Figure size 640x480 with 1 Axes>"
      ]
     },
     "metadata": {},
     "output_type": "display_data"
    }
   ],
   "source": [
    "plt.plot(val_acc,'k-',label = 'acc_train')\n",
    "plt.title('train_acc')\n",
    "plt.legend()\n",
    "plt.show()"
   ]
  },
  {
   "cell_type": "markdown",
   "metadata": {},
   "source": [
    "# 作业内容"
   ]
  },
  {
   "cell_type": "code",
   "execution_count": 103,
   "metadata": {},
   "outputs": [
    {
     "name": "stdout",
     "output_type": "stream",
     "text": [
      "Output: tensor([[-0.0217, -0.0939]], grad_fn=<AddmmBackward0>)\n"
     ]
    }
   ],
   "source": [
    "import torch\n",
    "import torch.nn as nn\n",
    "import torch.nn.functional as F\n",
    "\n",
    "class Net2(nn.Module):\n",
    "    def __init__(self):\n",
    "        super(Net2, self).__init__()\n",
    "        self.fc1 = nn.Linear(12, 768)  # 输入层到第一隐藏层\n",
    "        self.fc2 = nn.Linear(768, 224) # 第一隐藏层到第二隐藏层\n",
    "        self.fc3 = nn.Linear(224, 128) # 第二隐藏层到第三隐藏层\n",
    "        self.fc4 = nn.Linear(128, 64)  # 第三隐藏层到第四隐藏层\n",
    "        self.fc5 = nn.Linear(64, 2)    # 第四隐藏层到输出层\n",
    "    \n",
    "    def forward(self, x):\n",
    "        x = F.relu(self.fc1(x))\n",
    "        x = F.relu(self.fc2(x))\n",
    "        x = F.relu(self.fc3(x))\n",
    "        x = F.relu(self.fc4(x))\n",
    "        y_pred = self.fc5(x)  # 输出层不使用激活函数\n",
    "        return y_pred\n",
    "\n",
    "# 创建网络实例\n",
    "net = Net2()\n",
    "\n",
    "# 生成一个随机输入（batch_size=1, 输入特征数=12）\n",
    "input_tensor = torch.randn(1, 12)\n",
    "\n",
    "# 进行前向传播并记录结果\n",
    "output_tensor = net(input_tensor)\n",
    "print(\"Output:\", output_tensor)\n"
   ]
  },
  {
   "cell_type": "code",
   "execution_count": 104,
   "metadata": {},
   "outputs": [
    {
     "name": "stdout",
     "output_type": "stream",
     "text": [
      "Epoch 1/20\n",
      "----------\n",
      "train Loss: 0.6927 Acc: 0.6404\n",
      "val Loss: 0.6331 Acc: 0.6567\n",
      "\n",
      "Epoch 2/20\n",
      "----------\n",
      "train Loss: 0.6285 Acc: 0.6790\n",
      "val Loss: 0.6152 Acc: 0.6978\n",
      "\n",
      "Epoch 3/20\n",
      "----------\n",
      "train Loss: 0.6136 Acc: 0.6758\n",
      "val Loss: 0.6111 Acc: 0.6903\n",
      "\n",
      "Epoch 4/20\n",
      "----------\n",
      "train Loss: 0.6025 Acc: 0.6790\n",
      "val Loss: 0.6060 Acc: 0.6716\n",
      "\n",
      "Epoch 5/20\n",
      "----------\n",
      "train Loss: 0.5960 Acc: 0.6950\n",
      "val Loss: 0.6123 Acc: 0.6903\n",
      "\n",
      "Epoch 6/20\n",
      "----------\n",
      "train Loss: 0.5938 Acc: 0.6982\n",
      "val Loss: 0.6066 Acc: 0.6828\n",
      "\n",
      "Epoch 7/20\n",
      "----------\n",
      "train Loss: 0.5904 Acc: 0.6982\n",
      "val Loss: 0.6057 Acc: 0.6828\n",
      "\n",
      "Epoch 8/20\n",
      "----------\n",
      "train Loss: 0.5900 Acc: 0.6982\n",
      "val Loss: 0.6056 Acc: 0.6866\n",
      "\n",
      "Epoch 9/20\n",
      "----------\n",
      "train Loss: 0.5898 Acc: 0.6982\n",
      "val Loss: 0.6045 Acc: 0.6791\n",
      "\n",
      "Epoch 10/20\n",
      "----------\n",
      "train Loss: 0.5894 Acc: 0.6982\n",
      "val Loss: 0.6043 Acc: 0.6828\n",
      "\n",
      "Epoch 11/20\n",
      "----------\n",
      "train Loss: 0.5892 Acc: 0.6982\n",
      "val Loss: 0.6040 Acc: 0.6828\n",
      "\n",
      "Epoch 12/20\n",
      "----------\n",
      "train Loss: 0.5890 Acc: 0.6966\n",
      "val Loss: 0.6043 Acc: 0.6866\n",
      "\n",
      "Epoch 13/20\n",
      "----------\n",
      "train Loss: 0.5888 Acc: 0.6982\n",
      "val Loss: 0.6047 Acc: 0.6866\n",
      "\n",
      "Epoch 14/20\n",
      "----------\n",
      "train Loss: 0.5887 Acc: 0.7014\n",
      "val Loss: 0.6046 Acc: 0.6866\n",
      "\n",
      "Epoch 15/20\n",
      "----------\n",
      "train Loss: 0.5886 Acc: 0.7014\n",
      "val Loss: 0.6046 Acc: 0.6866\n",
      "\n",
      "Epoch 16/20\n",
      "----------\n",
      "train Loss: 0.5887 Acc: 0.7014\n",
      "val Loss: 0.6044 Acc: 0.6866\n",
      "\n",
      "Epoch 17/20\n",
      "----------\n",
      "train Loss: 0.5886 Acc: 0.6998\n",
      "val Loss: 0.6044 Acc: 0.6866\n",
      "\n",
      "Epoch 18/20\n",
      "----------\n",
      "train Loss: 0.5886 Acc: 0.6998\n",
      "val Loss: 0.6044 Acc: 0.6866\n",
      "\n",
      "Epoch 19/20\n",
      "----------\n",
      "train Loss: 0.5885 Acc: 0.6998\n",
      "val Loss: 0.6044 Acc: 0.6866\n",
      "\n",
      "Epoch 20/20\n",
      "----------\n",
      "train Loss: 0.5885 Acc: 0.6998\n",
      "val Loss: 0.6043 Acc: 0.6866\n",
      "\n",
      "Training complete in 0m 0s\n",
      "Best val Acc: 0.697761\n"
     ]
    }
   ],
   "source": [
    "#训练\n",
    "model_ft = Net2()\n",
    "\n",
    "criterion = nn.CrossEntropyLoss()\n",
    "\n",
    "# 观察所有参数都正在优化\n",
    "optimizer_ft = optim.SGD(model_ft.parameters(), lr=0.001, momentum=0.9)\n",
    "\n",
    "# 每7个epochs衰减LR通过设置衰减率gamma=0.1\n",
    "exp_lr_scheduler = lr_scheduler.StepLR(optimizer_ft, step_size=7, gamma=0.1)\n",
    "model_ft = train_model(model_ft, criterion, optimizer_ft, exp_lr_scheduler,\n",
    "                       num_epochs=20)"
   ]
  },
  {
   "cell_type": "code",
   "execution_count": 105,
   "metadata": {},
   "outputs": [
    {
     "data": {
      "image/png": "[encoded data removed]",
      "text/plain": [
       "<Figure size 640x480 with 1 Axes>"
      ]
     },
     "metadata": {},
     "output_type": "display_data"
    }
   ],
   "source": [
    "import matplotlib.pyplot as plt\n",
    "plt.plot(val_loss,'k-',label = 'loss_train')\n",
    "plt.title('train_loss')\n",
    "plt.legend()\n",
    "plt.show()"
   ]
  },
  {
   "cell_type": "code",
   "execution_count": 106,
   "metadata": {},
   "outputs": [
    {
     "data": {
      "image/png": "[encoded data removed]",
      "text/plain": [
       "<Figure size 640x480 with 1 Axes>"
      ]
     },
     "metadata": {},
     "output_type": "display_data"
    }
   ],
   "source": [
    "plt.plot(val_acc,'k-',label = 'acc_train')\n",
    "plt.title('train_acc')\n",
    "plt.legend()\n",
    "plt.show()"
   ]
  }
 ],
 "metadata": {
  "kernelspec": {
   "display_name": "Deep",
   "language": "python",
   "name": "python3"
  },
  "language_info": {
   "codemirror_mode": {
    "name": "ipython",
    "version": 3
   },
   "file_extension": ".py",
   "mimetype": "text/x-python",
   "name": "python",
   "nbconvert_exporter": "python",
   "pygments_lexer": "ipython3",
   "version": "3.11.5"
  }
 },
 "nbformat": 4,
 "nbformat_minor": 2
}
