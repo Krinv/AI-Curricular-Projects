{
 "cells": [
  {
   "cell_type": "markdown",
   "metadata": {},
   "source": [
    "## 深度学习报告\n",
    "作业报告基于B榜最优分数编写，用中文完成（可附带英文版本），整合在Jupyter notebook文件，至少包括以下部分：\n",
    "- 数据预处理\n",
    "- 数据可视化\n",
    "- 模型构建\n",
    "- 模型训练\n",
    "- 模型评估\n",
    "- 陈述总结\n",
    "- 参考文献，注意全部列出的参考文献需在文中引用。\n"
   ]
  },
  {
   "cell_type": "markdown",
   "metadata": {},
   "source": [
    "---\n",
    "# 1. 库\n"
   ]
  },
  {
   "cell_type": "code",
   "execution_count": 1,
   "metadata": {},
   "outputs": [
    {
     "name": "stderr",
     "output_type": "stream",
     "text": [
      "c:\\Softwares\\Anaconda\\envs\\Deep\\Lib\\site-packages\\tqdm\\auto.py:21: TqdmWarning: IProgress not found. Please update jupyter and ipywidgets. See https://ipywidgets.readthedocs.io/en/stable/user_install.html\n",
      "  from .autonotebook import tqdm as notebook_tqdm\n"
     ]
    }
   ],
   "source": [
    "import torch\n",
    "import torchvision\n",
    "import torchvision.transforms as transforms\n",
    "import torch.nn as nn\n",
    "import torch.optim as optim\n",
    "from torch.utils.data import DataLoader\n",
    "import torchvision.models as models\n",
    "from torchtoolbox.transform import Cutout\n",
    "import os\n",
    "from PIL import Image \n",
    "import pandas as pd\n",
    "from PIL import Image \n",
    "import pandas\n",
    "import datetime\n",
    "from torch.utils.data import random_split\n",
    "from torch.utils.data import DataLoader, random_split, Subset\n",
    "from torchvision.transforms import AutoAugment, AutoAugmentPolicy\n",
    "\n",
    "from transformers import ViTFeatureExtractor, ViTForImageClassification,ViTImageProcessor\n"
   ]
  },
  {
   "cell_type": "markdown",
   "metadata": {},
   "source": [
    "---\n",
    "# 2. 数据导入与处理"
   ]
  },
  {
   "cell_type": "markdown",
   "metadata": {},
   "source": [
    "## 2.1 数据预处理"
   ]
  },
  {
   "cell_type": "code",
   "execution_count": 2,
   "metadata": {},
   "outputs": [],
   "source": [
    "transform = transforms.Compose([\n",
    "    transforms.Resize(256),\n",
    "    transforms.CenterCrop(224),\n",
    "    AutoAugment(AutoAugmentPolicy.IMAGENET),\n",
    "    transforms.RandomHorizontalFlip(),\n",
    "    transforms.RandomRotation(20),\n",
    "    transforms.RandomVerticalFlip(),\n",
    "    transforms.RandomAffine(degrees=15, translate=(0.1, 0.1)),\n",
    "    transforms.ColorJitter(brightness=0.4, contrast=0.4, saturation=0.4),\n",
    "    Cutout(), #遮挡增强\n",
    "    transforms.ToTensor(),\n",
    "    transforms.Normalize([0.485, 0.456, 0.406], [0.229, 0.224, 0.225])\n",
    "])\n",
    "\n",
    "val_transforms = transforms.Compose([\n",
    "    transforms.Resize(256),\n",
    "    transforms.CenterCrop(224),\n",
    "    transforms.ToTensor(),\n",
    "    transforms.Normalize([0.485,0.456,0.406],[0.229,0.224,0.225])\n",
    "])"
   ]
  },
  {
   "cell_type": "markdown",
   "metadata": {},
   "source": [
    "## 2.2 学号信息"
   ]
  },
  {
   "cell_type": "code",
   "execution_count": 3,
   "metadata": {},
   "outputs": [],
   "source": [
    "#22211360121-李凯荣-22人工智能1班\n",
    "student_id = '22211360121'\n",
    "#生成路径\n",
    "subdir = ''"
   ]
  },
  {
   "cell_type": "markdown",
   "metadata": {},
   "source": [
    "## 2.3 训练数据集"
   ]
  },
  {
   "cell_type": "code",
   "execution_count": 4,
   "metadata": {},
   "outputs": [],
   "source": [
    "# 加载数据集\n",
    "full_dataset = torchvision.datasets.ImageFolder(root='new data/train', transform=transform)\n"
   ]
  },
  {
   "cell_type": "code",
   "execution_count": 5,
   "metadata": {},
   "outputs": [],
   "source": [
    "# 训练数据集划分\n",
    "train_size=int(0.8 * len(full_dataset))\n",
    "val_size = len(full_dataset) - train_size\n",
    "train_dataset, val_dataset = random_split(full_dataset, [train_size, val_size])"
   ]
  },
  {
   "cell_type": "code",
   "execution_count": 6,
   "metadata": {},
   "outputs": [],
   "source": [
    "#应用数据增强\n",
    "val_dataset=Subset(full_dataset,val_dataset.indices)\n",
    "val_dataset.dataset.transform=val_transforms"
   ]
  },
  {
   "cell_type": "code",
   "execution_count": 7,
   "metadata": {},
   "outputs": [],
   "source": [
    "train_loader = DataLoader(train_dataset, batch_size=32, shuffle=True, num_workers=4,pin_memory=True)\n",
    "val_loader = DataLoader(val_dataset, batch_size=32, shuffle=False, num_workers=4, pin_memory=True)"
   ]
  },
  {
   "cell_type": "code",
   "execution_count": 8,
   "metadata": {},
   "outputs": [
    {
     "name": "stdout",
     "output_type": "stream",
     "text": [
      "训练集大小: 2844, 验证集大小: 711\n"
     ]
    }
   ],
   "source": [
    "print(f\"训练集大小: {len(train_dataset)}, 验证集大小: {len(val_dataset)}\")"
   ]
  },
  {
   "cell_type": "code",
   "execution_count": 9,
   "metadata": {},
   "outputs": [
    {
     "name": "stdout",
     "output_type": "stream",
     "text": [
      "Number of batches in train_loader: 89\n"
     ]
    }
   ],
   "source": [
    "print(f\"Number of batches in train_loader: {len(train_loader)}\")"
   ]
  },
  {
   "cell_type": "code",
   "execution_count": 10,
   "metadata": {},
   "outputs": [
    {
     "name": "stdout",
     "output_type": "stream",
     "text": [
      "Dataset size: 2844\n"
     ]
    }
   ],
   "source": [
    "print(f\"Dataset size: {len(train_loader.dataset)}\")"
   ]
  },
  {
   "cell_type": "markdown",
   "metadata": {},
   "source": [
    "## 2.4 测试数据集 A"
   ]
  },
  {
   "cell_type": "code",
   "execution_count": 11,
   "metadata": {},
   "outputs": [],
   "source": [
    "# 加载测试集\n",
    "test_folder = 'new data/testA'\n",
    "test_images = [img for img in os.listdir(test_folder) if img.endswith('.jpg')]"
   ]
  },
  {
   "cell_type": "markdown",
   "metadata": {},
   "source": [
    "## 2.5 其他"
   ]
  },
  {
   "cell_type": "code",
   "execution_count": 12,
   "metadata": {},
   "outputs": [
    {
     "name": "stdout",
     "output_type": "stream",
     "text": [
      "Using device: cuda\n"
     ]
    }
   ],
   "source": [
    "device = torch.device(\"cuda\" if torch.cuda.is_available() else \"cpu\")\n",
    "print(f\"Using device: {device}\")"
   ]
  },
  {
   "cell_type": "markdown",
   "metadata": {},
   "source": [
    "---\n",
    "# 3. 数据可视化"
   ]
  },
  {
   "cell_type": "code",
   "execution_count": null,
   "metadata": {},
   "outputs": [],
   "source": []
  },
  {
   "cell_type": "code",
   "execution_count": null,
   "metadata": {},
   "outputs": [],
   "source": []
  },
  {
   "cell_type": "markdown",
   "metadata": {},
   "source": [
    "---\n",
    "# 4. 模型构建"
   ]
  },
  {
   "cell_type": "markdown",
   "metadata": {},
   "source": [
    "## 4.1 模型"
   ]
  },
  {
   "cell_type": "code",
   "execution_count": 13,
   "metadata": {},
   "outputs": [
    {
     "name": "stderr",
     "output_type": "stream",
     "text": [
      "c:\\Softwares\\Anaconda\\envs\\Deep\\Lib\\site-packages\\huggingface_hub\\file_download.py:943: FutureWarning: `resume_download` is deprecated and will be removed in version 1.0.0. Downloads always resume when possible. If you want to force a new download, use `force_download=True`.\n",
      "  warnings.warn(\n",
      "Some weights of the model checkpoint at google/vit-large-patch16-224-in21k were not used when initializing ViTForImageClassification: ['pooler.dense.bias', 'pooler.dense.weight']\n",
      "- This IS expected if you are initializing ViTForImageClassification from the checkpoint of a model trained on another task or with another architecture (e.g. initializing a BertForSequenceClassification model from a BertForPreTraining model).\n",
      "- This IS NOT expected if you are initializing ViTForImageClassification from the checkpoint of a model that you expect to be exactly identical (initializing a BertForSequenceClassification model from a BertForSequenceClassification model).\n",
      "Some weights of ViTForImageClassification were not initialized from the model checkpoint at google/vit-large-patch16-224-in21k and are newly initialized: ['classifier.weight', 'classifier.bias']\n",
      "You should probably TRAIN this model on a down-stream task to be able to use it for predictions and inference.\n"
     ]
    }
   ],
   "source": [
    "model = ViTForImageClassification.from_pretrained(\n",
    "    'google/vit-large-patch16-224-in21k',\n",
    "    num_labels=100,  # 100个鸟类类别\n",
    "    ignore_mismatched_sizes=True,\n",
    ")\n",
    "\n",
    "processor = ViTImageProcessor.from_pretrained(\"google/vit-large-patch16-224-in21k\")"
   ]
  },
  {
   "cell_type": "code",
   "execution_count": 14,
   "metadata": {},
   "outputs": [],
   "source": [
    "# 冻结除最后4层外的所有层\n",
    "for name, param in model.named_parameters():\n",
    "    # 解冻分类头层\n",
    "    if 'classifier' in name:\n",
    "        param.requires_grad = True\n",
    "    # 解冻最后4个Transformer块\n",
    "    elif 'encoder.layer.20' in name or 'encoder.layer.21' in name or \\\n",
    "        'encoder.layer.22' in name or 'encoder.layer.23' in name:\n",
    "        param.requires_grad = True\n",
    "    else:\n",
    "        param.requires_grad = False  # 冻结其他层\n",
    "\n",
    "# 将模型移至设备\n",
    "model = model.to(device)"
   ]
  },
  {
   "cell_type": "markdown",
   "metadata": {},
   "source": [
    "## 4.2 损失函数与优化器"
   ]
  },
  {
   "cell_type": "code",
   "execution_count": 15,
   "metadata": {},
   "outputs": [],
   "source": [
    "# 定义损失函数和优化器\n",
    "criterion = nn.CrossEntropyLoss()\n",
    "optimizer = torch.optim.AdamW(\n",
    "    model.parameters(), \n",
    "    lr=1e-5,  # 更小的学习率\n",
    "    weight_decay=0.05,  # 更强的权重衰减\n",
    "    eps=1e-8  # 数值稳定性\n",
    ")\n",
    "scheduler = torch.optim.lr_scheduler.CosineAnnealingLR(\n",
    "    optimizer, \n",
    "    T_max=50,  # 半周期长度\n",
    "    eta_min=1e-6  # 最小学习率\n",
    ")"
   ]
  },
  {
   "cell_type": "markdown",
   "metadata": {},
   "source": [
    "---\n",
    "# 5. 模型训练"
   ]
  },
  {
   "cell_type": "markdown",
   "metadata": {},
   "source": [
    "## 5.1 设备"
   ]
  },
  {
   "cell_type": "code",
   "execution_count": 16,
   "metadata": {},
   "outputs": [],
   "source": [
    "#使用GPU\n",
    "device = torch.device(\"cuda\" if torch.cuda.is_available() else \"cpu\")\n",
    "model = model.to(device)"
   ]
  },
  {
   "cell_type": "markdown",
   "metadata": {},
   "source": [
    "## 5. 训练"
   ]
  },
  {
   "cell_type": "code",
   "execution_count": 17,
   "metadata": {},
   "outputs": [],
   "source": [
    "#早停机制\n",
    "class EarlyStopping:\n",
    "    def __init__(self, patience=5, verbose=True, delta=0, path='best_model.pth'):\n",
    "        self.patience = patience\n",
    "        self.verbose = verbose\n",
    "        self.counter = 0\n",
    "        self.best_score = None\n",
    "        self.early_stop = False\n",
    "        self.val_loss_min = float('inf')\n",
    "        self.delta = delta\n",
    "        self.path = path\n",
    "        \n",
    "    def __call__(self, val_loss, model):\n",
    "        score = -val_loss\n",
    "        \n",
    "        if self.best_score is None:\n",
    "            self.best_score = score\n",
    "            self.save_checkpoint(val_loss, model)\n",
    "        elif score < self.best_score + self.delta:\n",
    "            self.counter += 1\n",
    "            if self.verbose:\n",
    "                print(f'EarlyStopping counter: {self.counter}/{self.patience}')\n",
    "            if self.counter >= self.patience:\n",
    "                self.early_stop = True\n",
    "        else:\n",
    "            self.best_score = score\n",
    "            self.save_checkpoint(val_loss, model)\n",
    "            self.counter = 0\n",
    "            \n",
    "    def save_checkpoint(self, val_loss, model):\n",
    "        if self.verbose:\n",
    "            print(f'验证损失改善 ({self.val_loss_min:.4f} → {val_loss:.4f}). 保存模型...')\n",
    "        torch.save(model.state_dict(), self.path)\n",
    "        self.val_loss_min = val_loss\n",
    "\n",
    "# 初始化时指定保存路径\n",
    "early_stopping = EarlyStopping(patience=5, verbose=True, path='best_model.pth')"
   ]
  },
  {
   "cell_type": "code",
   "execution_count": 18,
   "metadata": {},
   "outputs": [
    {
     "name": "stdout",
     "output_type": "stream",
     "text": [
      "Starting epoch 1/100\n"
     ]
    },
    {
     "name": "stderr",
     "output_type": "stream",
     "text": [
      "Epoch 1 Training: 100%|██████████| 89/89 [01:40<00:00,  1.13s/it, loss=4.13]\n",
      "Validating: 100%|██████████| 23/23 [00:37<00:00,  1.63s/it, loss=4.02]\n"
     ]
    },
    {
     "name": "stdout",
     "output_type": "stream",
     "text": [
      "Epoch 1/100\n",
      "Train Loss: 4.3848, Train Acc: 10.69%\n",
      "Val Loss: 4.0916, Val Acc: 28.69%\n",
      "验证损失改善 (inf → 4.0916). 保存模型...\n",
      "Starting epoch 2/100\n"
     ]
    },
    {
     "name": "stderr",
     "output_type": "stream",
     "text": [
      "Epoch 2 Training: 100%|██████████| 89/89 [01:40<00:00,  1.13s/it, loss=3.31]\n",
      "Validating: 100%|██████████| 23/23 [00:37<00:00,  1.61s/it, loss=3.37]\n"
     ]
    },
    {
     "name": "stdout",
     "output_type": "stream",
     "text": [
      "Epoch 2/100\n",
      "Train Loss: 3.6953, Train Acc: 54.68%\n",
      "Val Loss: 3.4559, Val Acc: 61.04%\n",
      "验证损失改善 (4.0916 → 3.4559). 保存模型...\n",
      "Starting epoch 3/100\n"
     ]
    },
    {
     "name": "stderr",
     "output_type": "stream",
     "text": [
      "Epoch 3 Training: 100%|██████████| 89/89 [01:38<00:00,  1.11s/it, loss=2.72]\n",
      "Validating: 100%|██████████| 23/23 [00:37<00:00,  1.62s/it, loss=2.83]\n"
     ]
    },
    {
     "name": "stdout",
     "output_type": "stream",
     "text": [
      "Epoch 3/100\n",
      "Train Loss: 2.9657, Train Acc: 79.64%\n",
      "Val Loss: 2.8572, Val Acc: 72.29%\n",
      "验证损失改善 (3.4559 → 2.8572). 保存模型...\n",
      "Starting epoch 4/100\n"
     ]
    },
    {
     "name": "stderr",
     "output_type": "stream",
     "text": [
      "Epoch 4 Training: 100%|██████████| 89/89 [01:38<00:00,  1.11s/it, loss=2.14]\n",
      "Validating: 100%|██████████| 23/23 [00:37<00:00,  1.62s/it, loss=2.44]\n"
     ]
    },
    {
     "name": "stdout",
     "output_type": "stream",
     "text": [
      "Epoch 4/100\n",
      "Train Loss: 2.3204, Train Acc: 87.55%\n",
      "Val Loss: 2.3706, Val Acc: 77.64%\n",
      "验证损失改善 (2.8572 → 2.3706). 保存模型...\n",
      "Starting epoch 5/100\n"
     ]
    },
    {
     "name": "stderr",
     "output_type": "stream",
     "text": [
      "Epoch 5 Training: 100%|██████████| 89/89 [01:39<00:00,  1.12s/it, loss=1.53]\n",
      "Validating: 100%|██████████| 23/23 [00:37<00:00,  1.62s/it, loss=2.1] \n"
     ]
    },
    {
     "name": "stdout",
     "output_type": "stream",
     "text": [
      "Epoch 5/100\n",
      "Train Loss: 1.8053, Train Acc: 91.21%\n",
      "Val Loss: 1.9938, Val Acc: 80.45%\n",
      "验证损失改善 (2.3706 → 1.9938). 保存模型...\n",
      "Starting epoch 6/100\n"
     ]
    },
    {
     "name": "stderr",
     "output_type": "stream",
     "text": [
      "Epoch 6 Training: 100%|██████████| 89/89 [01:39<00:00,  1.12s/it, loss=1.18]\n",
      "Validating: 100%|██████████| 23/23 [00:37<00:00,  1.62s/it, loss=1.88]\n"
     ]
    },
    {
     "name": "stdout",
     "output_type": "stream",
     "text": [
      "Epoch 6/100\n",
      "Train Loss: 1.4094, Train Acc: 93.04%\n",
      "Val Loss: 1.7132, Val Acc: 82.56%\n",
      "验证损失改善 (1.9938 → 1.7132). 保存模型...\n",
      "Starting epoch 7/100\n"
     ]
    },
    {
     "name": "stderr",
     "output_type": "stream",
     "text": [
      "Epoch 7 Training: 100%|██████████| 89/89 [01:40<00:00,  1.13s/it, loss=1.04] \n",
      "Validating: 100%|██████████| 23/23 [00:37<00:00,  1.62s/it, loss=1.64]\n"
     ]
    },
    {
     "name": "stdout",
     "output_type": "stream",
     "text": [
      "Epoch 7/100\n",
      "Train Loss: 1.1157, Train Acc: 94.62%\n",
      "Val Loss: 1.5074, Val Acc: 84.39%\n",
      "验证损失改善 (1.7132 → 1.5074). 保存模型...\n",
      "Starting epoch 8/100\n"
     ]
    },
    {
     "name": "stderr",
     "output_type": "stream",
     "text": [
      "Epoch 8 Training: 100%|██████████| 89/89 [01:39<00:00,  1.12s/it, loss=0.854]\n",
      "Validating: 100%|██████████| 23/23 [00:37<00:00,  1.63s/it, loss=1.52]\n"
     ]
    },
    {
     "name": "stdout",
     "output_type": "stream",
     "text": [
      "Epoch 8/100\n",
      "Train Loss: 0.8927, Train Acc: 95.92%\n",
      "Val Loss: 1.3530, Val Acc: 85.09%\n",
      "验证损失改善 (1.5074 → 1.3530). 保存模型...\n",
      "Starting epoch 9/100\n"
     ]
    },
    {
     "name": "stderr",
     "output_type": "stream",
     "text": [
      "Epoch 9 Training: 100%|██████████| 89/89 [01:39<00:00,  1.12s/it, loss=0.659]\n",
      "Validating: 100%|██████████| 23/23 [00:37<00:00,  1.62s/it, loss=1.4] \n"
     ]
    },
    {
     "name": "stdout",
     "output_type": "stream",
     "text": [
      "Epoch 9/100\n",
      "Train Loss: 0.7239, Train Acc: 97.15%\n",
      "Val Loss: 1.2352, Val Acc: 85.65%\n",
      "验证损失改善 (1.3530 → 1.2352). 保存模型...\n",
      "Starting epoch 10/100\n"
     ]
    },
    {
     "name": "stderr",
     "output_type": "stream",
     "text": [
      "Epoch 10 Training: 100%|██████████| 89/89 [01:39<00:00,  1.12s/it, loss=0.568]\n",
      "Validating: 100%|██████████| 23/23 [00:37<00:00,  1.62s/it, loss=1.32]\n"
     ]
    },
    {
     "name": "stdout",
     "output_type": "stream",
     "text": [
      "Epoch 10/100\n",
      "Train Loss: 0.5951, Train Acc: 97.75%\n",
      "Val Loss: 1.1429, Val Acc: 86.22%\n",
      "验证损失改善 (1.2352 → 1.1429). 保存模型...\n",
      "Starting epoch 11/100\n"
     ]
    },
    {
     "name": "stderr",
     "output_type": "stream",
     "text": [
      "Epoch 11 Training: 100%|██████████| 89/89 [01:39<00:00,  1.12s/it, loss=0.361]\n",
      "Validating: 100%|██████████| 23/23 [00:37<00:00,  1.63s/it, loss=1.24] \n"
     ]
    },
    {
     "name": "stdout",
     "output_type": "stream",
     "text": [
      "Epoch 11/100\n",
      "Train Loss: 0.4947, Train Acc: 98.31%\n",
      "Val Loss: 1.0701, Val Acc: 86.50%\n",
      "验证损失改善 (1.1429 → 1.0701). 保存模型...\n",
      "Starting epoch 12/100\n"
     ]
    },
    {
     "name": "stderr",
     "output_type": "stream",
     "text": [
      "Epoch 12 Training: 100%|██████████| 89/89 [01:39<00:00,  1.11s/it, loss=0.426]\n",
      "Validating: 100%|██████████| 23/23 [00:37<00:00,  1.62s/it, loss=1.17] \n"
     ]
    },
    {
     "name": "stdout",
     "output_type": "stream",
     "text": [
      "Epoch 12/100\n",
      "Train Loss: 0.4153, Train Acc: 98.80%\n",
      "Val Loss: 1.0137, Val Acc: 86.78%\n",
      "验证损失改善 (1.0701 → 1.0137). 保存模型...\n",
      "Starting epoch 13/100\n"
     ]
    },
    {
     "name": "stderr",
     "output_type": "stream",
     "text": [
      "Epoch 13 Training: 100%|██████████| 89/89 [01:38<00:00,  1.11s/it, loss=0.451]\n",
      "Validating: 100%|██████████| 23/23 [00:37<00:00,  1.62s/it, loss=1.09] \n"
     ]
    },
    {
     "name": "stdout",
     "output_type": "stream",
     "text": [
      "Epoch 13/100\n",
      "Train Loss: 0.3527, Train Acc: 99.12%\n",
      "Val Loss: 0.9712, Val Acc: 87.20%\n",
      "验证损失改善 (1.0137 → 0.9712). 保存模型...\n",
      "Starting epoch 14/100\n"
     ]
    },
    {
     "name": "stderr",
     "output_type": "stream",
     "text": [
      "Epoch 14 Training: 100%|██████████| 89/89 [01:39<00:00,  1.12s/it, loss=0.561]\n",
      "Validating: 100%|██████████| 23/23 [00:37<00:00,  1.65s/it, loss=1.12] \n"
     ]
    },
    {
     "name": "stdout",
     "output_type": "stream",
     "text": [
      "Epoch 14/100\n",
      "Train Loss: 0.3025, Train Acc: 99.47%\n",
      "Val Loss: 0.9449, Val Acc: 86.22%\n",
      "验证损失改善 (0.9712 → 0.9449). 保存模型...\n",
      "Starting epoch 15/100\n"
     ]
    },
    {
     "name": "stderr",
     "output_type": "stream",
     "text": [
      "Epoch 15 Training: 100%|██████████| 89/89 [01:39<00:00,  1.11s/it, loss=0.202]\n",
      "Validating: 100%|██████████| 23/23 [00:37<00:00,  1.62s/it, loss=1.12] \n"
     ]
    },
    {
     "name": "stdout",
     "output_type": "stream",
     "text": [
      "Epoch 15/100\n",
      "Train Loss: 0.2605, Train Acc: 99.61%\n",
      "Val Loss: 0.9099, Val Acc: 86.64%\n",
      "验证损失改善 (0.9449 → 0.9099). 保存模型...\n",
      "Starting epoch 16/100\n"
     ]
    },
    {
     "name": "stderr",
     "output_type": "stream",
     "text": [
      "Epoch 16 Training: 100%|██████████| 89/89 [01:39<00:00,  1.11s/it, loss=0.195]\n",
      "Validating: 100%|██████████| 23/23 [00:37<00:00,  1.62s/it, loss=1.11] \n"
     ]
    },
    {
     "name": "stdout",
     "output_type": "stream",
     "text": [
      "Epoch 16/100\n",
      "Train Loss: 0.2267, Train Acc: 99.72%\n",
      "Val Loss: 0.8809, Val Acc: 87.20%\n",
      "验证损失改善 (0.9099 → 0.8809). 保存模型...\n",
      "Starting epoch 17/100\n"
     ]
    },
    {
     "name": "stderr",
     "output_type": "stream",
     "text": [
      "Epoch 17 Training: 100%|██████████| 89/89 [01:39<00:00,  1.12s/it, loss=0.202]\n",
      "Validating: 100%|██████████| 23/23 [00:37<00:00,  1.63s/it, loss=1.11] \n"
     ]
    },
    {
     "name": "stdout",
     "output_type": "stream",
     "text": [
      "Epoch 17/100\n",
      "Train Loss: 0.1994, Train Acc: 99.79%\n",
      "Val Loss: 0.8613, Val Acc: 87.06%\n",
      "验证损失改善 (0.8809 → 0.8613). 保存模型...\n",
      "Starting epoch 18/100\n"
     ]
    },
    {
     "name": "stderr",
     "output_type": "stream",
     "text": [
      "Epoch 18 Training: 100%|██████████| 89/89 [01:39<00:00,  1.12s/it, loss=0.167]\n",
      "Validating: 100%|██████████| 23/23 [00:37<00:00,  1.63s/it, loss=1.07] \n"
     ]
    },
    {
     "name": "stdout",
     "output_type": "stream",
     "text": [
      "Epoch 18/100\n",
      "Train Loss: 0.1769, Train Acc: 99.86%\n",
      "Val Loss: 0.8395, Val Acc: 86.64%\n",
      "验证损失改善 (0.8613 → 0.8395). 保存模型...\n",
      "Starting epoch 19/100\n"
     ]
    },
    {
     "name": "stderr",
     "output_type": "stream",
     "text": [
      "Epoch 19 Training: 100%|██████████| 89/89 [01:39<00:00,  1.12s/it, loss=0.137]\n",
      "Validating: 100%|██████████| 23/23 [00:37<00:00,  1.62s/it, loss=1.05] \n"
     ]
    },
    {
     "name": "stdout",
     "output_type": "stream",
     "text": [
      "Epoch 19/100\n",
      "Train Loss: 0.1580, Train Acc: 99.89%\n",
      "Val Loss: 0.8247, Val Acc: 86.78%\n",
      "验证损失改善 (0.8395 → 0.8247). 保存模型...\n",
      "Starting epoch 20/100\n"
     ]
    },
    {
     "name": "stderr",
     "output_type": "stream",
     "text": [
      "Epoch 20 Training: 100%|██████████| 89/89 [01:39<00:00,  1.12s/it, loss=0.188]\n",
      "Validating: 100%|██████████| 23/23 [00:37<00:00,  1.63s/it, loss=1.08] \n"
     ]
    },
    {
     "name": "stdout",
     "output_type": "stream",
     "text": [
      "Epoch 20/100\n",
      "Train Loss: 0.1425, Train Acc: 99.89%\n",
      "Val Loss: 0.8111, Val Acc: 86.64%\n",
      "验证损失改善 (0.8247 → 0.8111). 保存模型...\n",
      "Starting epoch 21/100\n"
     ]
    },
    {
     "name": "stderr",
     "output_type": "stream",
     "text": [
      "Epoch 21 Training: 100%|██████████| 89/89 [01:39<00:00,  1.12s/it, loss=0.134] \n",
      "Validating: 100%|██████████| 23/23 [00:37<00:00,  1.64s/it, loss=1.08] \n"
     ]
    },
    {
     "name": "stdout",
     "output_type": "stream",
     "text": [
      "Epoch 21/100\n",
      "Train Loss: 0.1294, Train Acc: 99.93%\n",
      "Val Loss: 0.8007, Val Acc: 87.34%\n",
      "验证损失改善 (0.8111 → 0.8007). 保存模型...\n",
      "Starting epoch 22/100\n"
     ]
    },
    {
     "name": "stderr",
     "output_type": "stream",
     "text": [
      "Epoch 22 Training: 100%|██████████| 89/89 [01:39<00:00,  1.12s/it, loss=0.141] \n",
      "Validating: 100%|██████████| 23/23 [00:37<00:00,  1.63s/it, loss=1.1]  \n"
     ]
    },
    {
     "name": "stdout",
     "output_type": "stream",
     "text": [
      "Epoch 22/100\n",
      "Train Loss: 0.1183, Train Acc: 99.96%\n",
      "Val Loss: 0.7929, Val Acc: 86.78%\n",
      "验证损失改善 (0.8007 → 0.7929). 保存模型...\n",
      "Starting epoch 23/100\n"
     ]
    },
    {
     "name": "stderr",
     "output_type": "stream",
     "text": [
      "Epoch 23 Training: 100%|██████████| 89/89 [01:39<00:00,  1.12s/it, loss=0.0998]\n",
      "Validating: 100%|██████████| 23/23 [00:37<00:00,  1.63s/it, loss=1.1]  \n"
     ]
    },
    {
     "name": "stdout",
     "output_type": "stream",
     "text": [
      "Epoch 23/100\n",
      "Train Loss: 0.1089, Train Acc: 99.96%\n",
      "Val Loss: 0.7813, Val Acc: 86.64%\n",
      "验证损失改善 (0.7929 → 0.7813). 保存模型...\n",
      "Starting epoch 24/100\n"
     ]
    },
    {
     "name": "stderr",
     "output_type": "stream",
     "text": [
      "Epoch 24 Training: 100%|██████████| 89/89 [01:39<00:00,  1.12s/it, loss=0.109] \n",
      "Validating: 100%|██████████| 23/23 [00:37<00:00,  1.64s/it, loss=1.1]  \n"
     ]
    },
    {
     "name": "stdout",
     "output_type": "stream",
     "text": [
      "Epoch 24/100\n",
      "Train Loss: 0.1009, Train Acc: 100.00%\n",
      "Val Loss: 0.7712, Val Acc: 87.34%\n",
      "验证损失改善 (0.7813 → 0.7712). 保存模型...\n",
      "Starting epoch 25/100\n"
     ]
    },
    {
     "name": "stderr",
     "output_type": "stream",
     "text": [
      "Epoch 25 Training: 100%|██████████| 89/89 [01:41<00:00,  1.14s/it, loss=0.0911]\n",
      "Validating: 100%|██████████| 23/23 [00:37<00:00,  1.63s/it, loss=1.1]  \n"
     ]
    },
    {
     "name": "stdout",
     "output_type": "stream",
     "text": [
      "Epoch 25/100\n",
      "Train Loss: 0.0939, Train Acc: 100.00%\n",
      "Val Loss: 0.7695, Val Acc: 86.92%\n",
      "验证损失改善 (0.7712 → 0.7695). 保存模型...\n",
      "Starting epoch 26/100\n"
     ]
    },
    {
     "name": "stderr",
     "output_type": "stream",
     "text": [
      "Epoch 26 Training: 100%|██████████| 89/89 [01:40<00:00,  1.13s/it, loss=0.0829]\n",
      "Validating: 100%|██████████| 23/23 [00:37<00:00,  1.63s/it, loss=1.11] \n"
     ]
    },
    {
     "name": "stdout",
     "output_type": "stream",
     "text": [
      "Epoch 26/100\n",
      "Train Loss: 0.0878, Train Acc: 100.00%\n",
      "Val Loss: 0.7614, Val Acc: 87.20%\n",
      "验证损失改善 (0.7695 → 0.7614). 保存模型...\n",
      "Starting epoch 27/100\n"
     ]
    },
    {
     "name": "stderr",
     "output_type": "stream",
     "text": [
      "Epoch 27 Training: 100%|██████████| 89/89 [01:42<00:00,  1.16s/it, loss=0.077] \n",
      "Validating: 100%|██████████| 23/23 [00:33<00:00,  1.44s/it, loss=1.1]  \n"
     ]
    },
    {
     "name": "stdout",
     "output_type": "stream",
     "text": [
      "Epoch 27/100\n",
      "Train Loss: 0.0825, Train Acc: 100.00%\n",
      "Val Loss: 0.7546, Val Acc: 87.20%\n",
      "验证损失改善 (0.7614 → 0.7546). 保存模型...\n",
      "Starting epoch 28/100\n"
     ]
    },
    {
     "name": "stderr",
     "output_type": "stream",
     "text": [
      "Epoch 28 Training: 100%|██████████| 89/89 [01:41<00:00,  1.14s/it, loss=0.0752]\n",
      "Validating: 100%|██████████| 23/23 [00:37<00:00,  1.64s/it, loss=1.11] \n"
     ]
    },
    {
     "name": "stdout",
     "output_type": "stream",
     "text": [
      "Epoch 28/100\n",
      "Train Loss: 0.0780, Train Acc: 100.00%\n",
      "Val Loss: 0.7497, Val Acc: 87.20%\n",
      "验证损失改善 (0.7546 → 0.7497). 保存模型...\n",
      "Starting epoch 29/100\n"
     ]
    },
    {
     "name": "stderr",
     "output_type": "stream",
     "text": [
      "Epoch 29 Training: 100%|██████████| 89/89 [01:40<00:00,  1.12s/it, loss=0.107] \n",
      "Validating: 100%|██████████| 23/23 [00:37<00:00,  1.65s/it, loss=1.11] \n"
     ]
    },
    {
     "name": "stdout",
     "output_type": "stream",
     "text": [
      "Epoch 29/100\n",
      "Train Loss: 0.0739, Train Acc: 100.00%\n",
      "Val Loss: 0.7449, Val Acc: 86.78%\n",
      "验证损失改善 (0.7497 → 0.7449). 保存模型...\n",
      "Starting epoch 30/100\n"
     ]
    },
    {
     "name": "stderr",
     "output_type": "stream",
     "text": [
      "Epoch 30 Training: 100%|██████████| 89/89 [01:39<00:00,  1.12s/it, loss=0.0673]\n",
      "Validating: 100%|██████████| 23/23 [00:37<00:00,  1.64s/it, loss=1.1]  \n"
     ]
    },
    {
     "name": "stdout",
     "output_type": "stream",
     "text": [
      "Epoch 30/100\n",
      "Train Loss: 0.0703, Train Acc: 100.00%\n",
      "Val Loss: 0.7405, Val Acc: 86.64%\n",
      "验证损失改善 (0.7449 → 0.7405). 保存模型...\n",
      "Starting epoch 31/100\n"
     ]
    },
    {
     "name": "stderr",
     "output_type": "stream",
     "text": [
      "Epoch 31 Training: 100%|██████████| 89/89 [01:40<00:00,  1.13s/it, loss=0.0585]\n",
      "Validating: 100%|██████████| 23/23 [00:37<00:00,  1.64s/it, loss=1.1]  \n"
     ]
    },
    {
     "name": "stdout",
     "output_type": "stream",
     "text": [
      "Epoch 31/100\n",
      "Train Loss: 0.0671, Train Acc: 100.00%\n",
      "Val Loss: 0.7364, Val Acc: 86.92%\n",
      "验证损失改善 (0.7405 → 0.7364). 保存模型...\n",
      "Starting epoch 32/100\n"
     ]
    },
    {
     "name": "stderr",
     "output_type": "stream",
     "text": [
      "Epoch 32 Training: 100%|██████████| 89/89 [01:40<00:00,  1.13s/it, loss=0.0566]\n",
      "Validating: 100%|██████████| 23/23 [00:37<00:00,  1.65s/it, loss=1.1]  \n"
     ]
    },
    {
     "name": "stdout",
     "output_type": "stream",
     "text": [
      "Epoch 32/100\n",
      "Train Loss: 0.0643, Train Acc: 100.00%\n",
      "Val Loss: 0.7324, Val Acc: 87.06%\n",
      "验证损失改善 (0.7364 → 0.7324). 保存模型...\n",
      "Starting epoch 33/100\n"
     ]
    },
    {
     "name": "stderr",
     "output_type": "stream",
     "text": [
      "Epoch 33 Training: 100%|██████████| 89/89 [01:42<00:00,  1.16s/it, loss=0.0777]\n",
      "Validating: 100%|██████████| 23/23 [00:39<00:00,  1.73s/it, loss=1.1]  \n"
     ]
    },
    {
     "name": "stdout",
     "output_type": "stream",
     "text": [
      "Epoch 33/100\n",
      "Train Loss: 0.0618, Train Acc: 100.00%\n",
      "Val Loss: 0.7290, Val Acc: 86.92%\n",
      "验证损失改善 (0.7324 → 0.7290). 保存模型...\n",
      "Starting epoch 34/100\n"
     ]
    },
    {
     "name": "stderr",
     "output_type": "stream",
     "text": [
      "Epoch 34 Training: 100%|██████████| 89/89 [01:45<00:00,  1.18s/it, loss=0.0586]\n",
      "Validating: 100%|██████████| 23/23 [00:38<00:00,  1.68s/it, loss=1.1]  \n"
     ]
    },
    {
     "name": "stdout",
     "output_type": "stream",
     "text": [
      "Epoch 34/100\n",
      "Train Loss: 0.0595, Train Acc: 100.00%\n",
      "Val Loss: 0.7275, Val Acc: 86.92%\n",
      "验证损失改善 (0.7290 → 0.7275). 保存模型...\n",
      "Starting epoch 35/100\n"
     ]
    },
    {
     "name": "stderr",
     "output_type": "stream",
     "text": [
      "Epoch 35 Training: 100%|██████████| 89/89 [01:42<00:00,  1.16s/it, loss=0.0524]\n",
      "Validating: 100%|██████████| 23/23 [00:39<00:00,  1.70s/it, loss=1.09] \n"
     ]
    },
    {
     "name": "stdout",
     "output_type": "stream",
     "text": [
      "Epoch 35/100\n",
      "Train Loss: 0.0574, Train Acc: 100.00%\n",
      "Val Loss: 0.7229, Val Acc: 86.92%\n",
      "验证损失改善 (0.7275 → 0.7229). 保存模型...\n",
      "Starting epoch 36/100\n"
     ]
    },
    {
     "name": "stderr",
     "output_type": "stream",
     "text": [
      "Epoch 36 Training: 100%|██████████| 89/89 [01:46<00:00,  1.19s/it, loss=0.0495]\n",
      "Validating: 100%|██████████| 23/23 [00:39<00:00,  1.70s/it, loss=1.11] \n"
     ]
    },
    {
     "name": "stdout",
     "output_type": "stream",
     "text": [
      "Epoch 36/100\n",
      "Train Loss: 0.0556, Train Acc: 100.00%\n",
      "Val Loss: 0.7229, Val Acc: 86.78%\n",
      "EarlyStopping counter: 1/5\n",
      "Starting epoch 37/100\n"
     ]
    },
    {
     "name": "stderr",
     "output_type": "stream",
     "text": [
      "Epoch 37 Training: 100%|██████████| 89/89 [01:44<00:00,  1.18s/it, loss=0.0568]\n",
      "Validating: 100%|██████████| 23/23 [00:39<00:00,  1.70s/it, loss=1.11] \n"
     ]
    },
    {
     "name": "stdout",
     "output_type": "stream",
     "text": [
      "Epoch 37/100\n",
      "Train Loss: 0.0540, Train Acc: 100.00%\n",
      "Val Loss: 0.7202, Val Acc: 86.92%\n",
      "验证损失改善 (0.7229 → 0.7202). 保存模型...\n",
      "Starting epoch 38/100\n"
     ]
    },
    {
     "name": "stderr",
     "output_type": "stream",
     "text": [
      "Epoch 38 Training: 100%|██████████| 89/89 [01:46<00:00,  1.19s/it, loss=0.0485]\n",
      "Validating: 100%|██████████| 23/23 [00:38<00:00,  1.68s/it, loss=1.1]  \n"
     ]
    },
    {
     "name": "stdout",
     "output_type": "stream",
     "text": [
      "Epoch 38/100\n",
      "Train Loss: 0.0524, Train Acc: 100.00%\n",
      "Val Loss: 0.7182, Val Acc: 86.92%\n",
      "验证损失改善 (0.7202 → 0.7182). 保存模型...\n",
      "Starting epoch 39/100\n"
     ]
    },
    {
     "name": "stderr",
     "output_type": "stream",
     "text": [
      "Epoch 39 Training: 100%|██████████| 89/89 [01:44<00:00,  1.17s/it, loss=0.0476]\n",
      "Validating: 100%|██████████| 23/23 [00:38<00:00,  1.69s/it, loss=1.1]  \n"
     ]
    },
    {
     "name": "stdout",
     "output_type": "stream",
     "text": [
      "Epoch 39/100\n",
      "Train Loss: 0.0511, Train Acc: 100.00%\n",
      "Val Loss: 0.7158, Val Acc: 86.92%\n",
      "验证损失改善 (0.7182 → 0.7158). 保存模型...\n",
      "Starting epoch 40/100\n"
     ]
    },
    {
     "name": "stderr",
     "output_type": "stream",
     "text": [
      "Epoch 40 Training: 100%|██████████| 89/89 [01:39<00:00,  1.12s/it, loss=0.0458]\n",
      "Validating: 100%|██████████| 23/23 [00:37<00:00,  1.62s/it, loss=1.1]  \n"
     ]
    },
    {
     "name": "stdout",
     "output_type": "stream",
     "text": [
      "Epoch 40/100\n",
      "Train Loss: 0.0499, Train Acc: 100.00%\n",
      "Val Loss: 0.7143, Val Acc: 86.92%\n",
      "验证损失改善 (0.7158 → 0.7143). 保存模型...\n",
      "Starting epoch 41/100\n"
     ]
    },
    {
     "name": "stderr",
     "output_type": "stream",
     "text": [
      "Epoch 41 Training: 100%|██████████| 89/89 [01:39<00:00,  1.12s/it, loss=0.0468]\n",
      "Validating: 100%|██████████| 23/23 [00:37<00:00,  1.62s/it, loss=1.1]  \n"
     ]
    },
    {
     "name": "stdout",
     "output_type": "stream",
     "text": [
      "Epoch 41/100\n",
      "Train Loss: 0.0488, Train Acc: 100.00%\n",
      "Val Loss: 0.7129, Val Acc: 86.92%\n",
      "验证损失改善 (0.7143 → 0.7129). 保存模型...\n",
      "Starting epoch 42/100\n"
     ]
    },
    {
     "name": "stderr",
     "output_type": "stream",
     "text": [
      "Epoch 42 Training: 100%|██████████| 89/89 [01:39<00:00,  1.12s/it, loss=0.0471]\n",
      "Validating: 100%|██████████| 23/23 [00:37<00:00,  1.62s/it, loss=1.1]  \n"
     ]
    },
    {
     "name": "stdout",
     "output_type": "stream",
     "text": [
      "Epoch 42/100\n",
      "Train Loss: 0.0478, Train Acc: 100.00%\n",
      "Val Loss: 0.7111, Val Acc: 86.78%\n",
      "验证损失改善 (0.7129 → 0.7111). 保存模型...\n",
      "Starting epoch 43/100\n"
     ]
    },
    {
     "name": "stderr",
     "output_type": "stream",
     "text": [
      "Epoch 43 Training: 100%|██████████| 89/89 [01:39<00:00,  1.12s/it, loss=0.045] \n",
      "Validating: 100%|██████████| 23/23 [00:37<00:00,  1.62s/it, loss=1.1]  \n"
     ]
    },
    {
     "name": "stdout",
     "output_type": "stream",
     "text": [
      "Epoch 43/100\n",
      "Train Loss: 0.0469, Train Acc: 100.00%\n",
      "Val Loss: 0.7095, Val Acc: 86.64%\n",
      "验证损失改善 (0.7111 → 0.7095). 保存模型...\n",
      "Starting epoch 44/100\n"
     ]
    },
    {
     "name": "stderr",
     "output_type": "stream",
     "text": [
      "Epoch 44 Training: 100%|██████████| 89/89 [01:39<00:00,  1.12s/it, loss=0.0416]\n",
      "Validating: 100%|██████████| 23/23 [00:37<00:00,  1.62s/it, loss=1.1]  \n"
     ]
    },
    {
     "name": "stdout",
     "output_type": "stream",
     "text": [
      "Epoch 44/100\n",
      "Train Loss: 0.0460, Train Acc: 100.00%\n",
      "Val Loss: 0.7089, Val Acc: 86.64%\n",
      "验证损失改善 (0.7095 → 0.7089). 保存模型...\n",
      "Starting epoch 45/100\n"
     ]
    },
    {
     "name": "stderr",
     "output_type": "stream",
     "text": [
      "Epoch 45 Training: 100%|██████████| 89/89 [01:39<00:00,  1.12s/it, loss=0.046] \n",
      "Validating: 100%|██████████| 23/23 [00:37<00:00,  1.63s/it, loss=1.1]  \n"
     ]
    },
    {
     "name": "stdout",
     "output_type": "stream",
     "text": [
      "Epoch 45/100\n",
      "Train Loss: 0.0452, Train Acc: 100.00%\n",
      "Val Loss: 0.7073, Val Acc: 86.78%\n",
      "验证损失改善 (0.7089 → 0.7073). 保存模型...\n",
      "Starting epoch 46/100\n"
     ]
    },
    {
     "name": "stderr",
     "output_type": "stream",
     "text": [
      "Epoch 46 Training: 100%|██████████| 89/89 [01:39<00:00,  1.12s/it, loss=0.0395]\n",
      "Validating: 100%|██████████| 23/23 [00:37<00:00,  1.62s/it, loss=1.1]  \n"
     ]
    },
    {
     "name": "stdout",
     "output_type": "stream",
     "text": [
      "Epoch 46/100\n",
      "Train Loss: 0.0445, Train Acc: 100.00%\n",
      "Val Loss: 0.7066, Val Acc: 86.64%\n",
      "验证损失改善 (0.7073 → 0.7066). 保存模型...\n",
      "Starting epoch 47/100\n"
     ]
    },
    {
     "name": "stderr",
     "output_type": "stream",
     "text": [
      "Epoch 47 Training: 100%|██████████| 89/89 [01:39<00:00,  1.12s/it, loss=0.0483]\n",
      "Validating: 100%|██████████| 23/23 [00:37<00:00,  1.62s/it, loss=1.11] \n"
     ]
    },
    {
     "name": "stdout",
     "output_type": "stream",
     "text": [
      "Epoch 47/100\n",
      "Train Loss: 0.0438, Train Acc: 100.00%\n",
      "Val Loss: 0.7052, Val Acc: 86.64%\n",
      "验证损失改善 (0.7066 → 0.7052). 保存模型...\n",
      "Starting epoch 48/100\n"
     ]
    },
    {
     "name": "stderr",
     "output_type": "stream",
     "text": [
      "Epoch 48 Training: 100%|██████████| 89/89 [01:39<00:00,  1.12s/it, loss=0.04]  \n",
      "Validating: 100%|██████████| 23/23 [00:37<00:00,  1.62s/it, loss=1.1]  \n"
     ]
    },
    {
     "name": "stdout",
     "output_type": "stream",
     "text": [
      "Epoch 48/100\n",
      "Train Loss: 0.0432, Train Acc: 100.00%\n",
      "Val Loss: 0.7045, Val Acc: 86.64%\n",
      "验证损失改善 (0.7052 → 0.7045). 保存模型...\n",
      "Starting epoch 49/100\n"
     ]
    },
    {
     "name": "stderr",
     "output_type": "stream",
     "text": [
      "Epoch 49 Training: 100%|██████████| 89/89 [01:39<00:00,  1.12s/it, loss=0.0421]\n",
      "Validating: 100%|██████████| 23/23 [00:37<00:00,  1.63s/it, loss=1.1]  \n"
     ]
    },
    {
     "name": "stdout",
     "output_type": "stream",
     "text": [
      "Epoch 49/100\n",
      "Train Loss: 0.0426, Train Acc: 100.00%\n",
      "Val Loss: 0.7038, Val Acc: 86.78%\n",
      "验证损失改善 (0.7045 → 0.7038). 保存模型...\n",
      "Starting epoch 50/100\n"
     ]
    },
    {
     "name": "stderr",
     "output_type": "stream",
     "text": [
      "Epoch 50 Training: 100%|██████████| 89/89 [01:39<00:00,  1.12s/it, loss=0.038] \n",
      "Validating: 100%|██████████| 23/23 [00:37<00:00,  1.62s/it, loss=1.1]  \n"
     ]
    },
    {
     "name": "stdout",
     "output_type": "stream",
     "text": [
      "Epoch 50/100\n",
      "Train Loss: 0.0420, Train Acc: 100.00%\n",
      "Val Loss: 0.7027, Val Acc: 86.64%\n",
      "验证损失改善 (0.7038 → 0.7027). 保存模型...\n",
      "Starting epoch 51/100\n"
     ]
    },
    {
     "name": "stderr",
     "output_type": "stream",
     "text": [
      "Epoch 51 Training: 100%|██████████| 89/89 [01:39<00:00,  1.12s/it, loss=0.0406]\n",
      "Validating: 100%|██████████| 23/23 [00:37<00:00,  1.62s/it, loss=1.11] \n"
     ]
    },
    {
     "name": "stdout",
     "output_type": "stream",
     "text": [
      "Epoch 51/100\n",
      "Train Loss: 0.0414, Train Acc: 100.00%\n",
      "Val Loss: 0.7017, Val Acc: 86.64%\n",
      "验证损失改善 (0.7027 → 0.7017). 保存模型...\n",
      "Starting epoch 52/100\n"
     ]
    },
    {
     "name": "stderr",
     "output_type": "stream",
     "text": [
      "Epoch 52 Training: 100%|██████████| 89/89 [01:39<00:00,  1.12s/it, loss=0.0406]\n",
      "Validating: 100%|██████████| 23/23 [00:37<00:00,  1.62s/it, loss=1.1]  \n"
     ]
    },
    {
     "name": "stdout",
     "output_type": "stream",
     "text": [
      "Epoch 52/100\n",
      "Train Loss: 0.0408, Train Acc: 100.00%\n",
      "Val Loss: 0.7011, Val Acc: 86.64%\n",
      "验证损失改善 (0.7017 → 0.7011). 保存模型...\n",
      "Starting epoch 53/100\n"
     ]
    },
    {
     "name": "stderr",
     "output_type": "stream",
     "text": [
      "Epoch 53 Training: 100%|██████████| 89/89 [01:39<00:00,  1.12s/it, loss=0.0388]\n",
      "Validating: 100%|██████████| 23/23 [00:37<00:00,  1.61s/it, loss=1.1]  \n"
     ]
    },
    {
     "name": "stdout",
     "output_type": "stream",
     "text": [
      "Epoch 53/100\n",
      "Train Loss: 0.0402, Train Acc: 100.00%\n",
      "Val Loss: 0.7000, Val Acc: 86.64%\n",
      "验证损失改善 (0.7011 → 0.7000). 保存模型...\n",
      "Starting epoch 54/100\n"
     ]
    },
    {
     "name": "stderr",
     "output_type": "stream",
     "text": [
      "Epoch 54 Training: 100%|██████████| 89/89 [01:39<00:00,  1.12s/it, loss=0.0511]\n",
      "Validating: 100%|██████████| 23/23 [00:37<00:00,  1.62s/it, loss=1.1]  \n"
     ]
    },
    {
     "name": "stdout",
     "output_type": "stream",
     "text": [
      "Epoch 54/100\n",
      "Train Loss: 0.0396, Train Acc: 100.00%\n",
      "Val Loss: 0.6989, Val Acc: 86.64%\n",
      "验证损失改善 (0.7000 → 0.6989). 保存模型...\n",
      "Starting epoch 55/100\n"
     ]
    },
    {
     "name": "stderr",
     "output_type": "stream",
     "text": [
      "Epoch 55 Training: 100%|██████████| 89/89 [01:39<00:00,  1.12s/it, loss=0.0446]\n",
      "Validating: 100%|██████████| 23/23 [00:37<00:00,  1.62s/it, loss=1.1]  \n"
     ]
    },
    {
     "name": "stdout",
     "output_type": "stream",
     "text": [
      "Epoch 55/100\n",
      "Train Loss: 0.0390, Train Acc: 100.00%\n",
      "Val Loss: 0.6970, Val Acc: 86.64%\n",
      "验证损失改善 (0.6989 → 0.6970). 保存模型...\n",
      "Starting epoch 56/100\n"
     ]
    },
    {
     "name": "stderr",
     "output_type": "stream",
     "text": [
      "Epoch 56 Training: 100%|██████████| 89/89 [01:39<00:00,  1.12s/it, loss=0.0385]\n",
      "Validating: 100%|██████████| 23/23 [00:37<00:00,  1.62s/it, loss=1.11] \n"
     ]
    },
    {
     "name": "stdout",
     "output_type": "stream",
     "text": [
      "Epoch 56/100\n",
      "Train Loss: 0.0383, Train Acc: 100.00%\n",
      "Val Loss: 0.6969, Val Acc: 86.64%\n",
      "验证损失改善 (0.6970 → 0.6969). 保存模型...\n",
      "Starting epoch 57/100\n"
     ]
    },
    {
     "name": "stderr",
     "output_type": "stream",
     "text": [
      "Epoch 57 Training: 100%|██████████| 89/89 [01:39<00:00,  1.12s/it, loss=0.0414]\n",
      "Validating: 100%|██████████| 23/23 [00:37<00:00,  1.62s/it, loss=1.11] \n"
     ]
    },
    {
     "name": "stdout",
     "output_type": "stream",
     "text": [
      "Epoch 57/100\n",
      "Train Loss: 0.0376, Train Acc: 100.00%\n",
      "Val Loss: 0.6954, Val Acc: 86.64%\n",
      "验证损失改善 (0.6969 → 0.6954). 保存模型...\n",
      "Starting epoch 58/100\n"
     ]
    },
    {
     "name": "stderr",
     "output_type": "stream",
     "text": [
      "Epoch 58 Training: 100%|██████████| 89/89 [01:39<00:00,  1.12s/it, loss=0.0329]\n",
      "Validating: 100%|██████████| 23/23 [00:37<00:00,  1.62s/it, loss=1.1]  \n"
     ]
    },
    {
     "name": "stdout",
     "output_type": "stream",
     "text": [
      "Epoch 58/100\n",
      "Train Loss: 0.0367, Train Acc: 100.00%\n",
      "Val Loss: 0.6941, Val Acc: 86.78%\n",
      "验证损失改善 (0.6954 → 0.6941). 保存模型...\n",
      "Starting epoch 59/100\n"
     ]
    },
    {
     "name": "stderr",
     "output_type": "stream",
     "text": [
      "Epoch 59 Training: 100%|██████████| 89/89 [01:39<00:00,  1.12s/it, loss=0.0353]\n",
      "Validating: 100%|██████████| 23/23 [00:37<00:00,  1.62s/it, loss=1.1]  \n"
     ]
    },
    {
     "name": "stdout",
     "output_type": "stream",
     "text": [
      "Epoch 59/100\n",
      "Train Loss: 0.0359, Train Acc: 100.00%\n",
      "Val Loss: 0.6923, Val Acc: 86.64%\n",
      "验证损失改善 (0.6941 → 0.6923). 保存模型...\n",
      "Starting epoch 60/100\n"
     ]
    },
    {
     "name": "stderr",
     "output_type": "stream",
     "text": [
      "Epoch 60 Training: 100%|██████████| 89/89 [01:39<00:00,  1.12s/it, loss=0.0326]\n",
      "Validating: 100%|██████████| 23/23 [00:37<00:00,  1.62s/it, loss=1.11] \n"
     ]
    },
    {
     "name": "stdout",
     "output_type": "stream",
     "text": [
      "Epoch 60/100\n",
      "Train Loss: 0.0350, Train Acc: 100.00%\n",
      "Val Loss: 0.6905, Val Acc: 86.78%\n",
      "验证损失改善 (0.6923 → 0.6905). 保存模型...\n",
      "Starting epoch 61/100\n"
     ]
    },
    {
     "name": "stderr",
     "output_type": "stream",
     "text": [
      "Epoch 61 Training: 100%|██████████| 89/89 [01:40<00:00,  1.13s/it, loss=0.0327]\n",
      "Validating: 100%|██████████| 23/23 [00:37<00:00,  1.62s/it, loss=1.11] \n"
     ]
    },
    {
     "name": "stdout",
     "output_type": "stream",
     "text": [
      "Epoch 61/100\n",
      "Train Loss: 0.0340, Train Acc: 100.00%\n",
      "Val Loss: 0.6885, Val Acc: 86.92%\n",
      "验证损失改善 (0.6905 → 0.6885). 保存模型...\n",
      "Starting epoch 62/100\n"
     ]
    },
    {
     "name": "stderr",
     "output_type": "stream",
     "text": [
      "Epoch 62 Training: 100%|██████████| 89/89 [01:39<00:00,  1.12s/it, loss=0.0287]\n",
      "Validating: 100%|██████████| 23/23 [00:37<00:00,  1.62s/it, loss=1.11] \n"
     ]
    },
    {
     "name": "stdout",
     "output_type": "stream",
     "text": [
      "Epoch 62/100\n",
      "Train Loss: 0.0330, Train Acc: 100.00%\n",
      "Val Loss: 0.6882, Val Acc: 86.92%\n",
      "验证损失改善 (0.6885 → 0.6882). 保存模型...\n",
      "Starting epoch 63/100\n"
     ]
    },
    {
     "name": "stderr",
     "output_type": "stream",
     "text": [
      "Epoch 63 Training: 100%|██████████| 89/89 [01:39<00:00,  1.12s/it, loss=0.0296]\n",
      "Validating: 100%|██████████| 23/23 [00:37<00:00,  1.62s/it, loss=1.11] \n"
     ]
    },
    {
     "name": "stdout",
     "output_type": "stream",
     "text": [
      "Epoch 63/100\n",
      "Train Loss: 0.0319, Train Acc: 100.00%\n",
      "Val Loss: 0.6852, Val Acc: 86.78%\n",
      "验证损失改善 (0.6882 → 0.6852). 保存模型...\n",
      "Starting epoch 64/100\n"
     ]
    },
    {
     "name": "stderr",
     "output_type": "stream",
     "text": [
      "Epoch 64 Training: 100%|██████████| 89/89 [01:38<00:00,  1.11s/it, loss=0.0328]\n",
      "Validating: 100%|██████████| 23/23 [00:37<00:00,  1.62s/it, loss=1.11] \n"
     ]
    },
    {
     "name": "stdout",
     "output_type": "stream",
     "text": [
      "Epoch 64/100\n",
      "Train Loss: 0.0307, Train Acc: 100.00%\n",
      "Val Loss: 0.6825, Val Acc: 86.92%\n",
      "验证损失改善 (0.6852 → 0.6825). 保存模型...\n",
      "Starting epoch 65/100\n"
     ]
    },
    {
     "name": "stderr",
     "output_type": "stream",
     "text": [
      "Epoch 65 Training: 100%|██████████| 89/89 [01:39<00:00,  1.12s/it, loss=0.0288]\n",
      "Validating: 100%|██████████| 23/23 [00:37<00:00,  1.63s/it, loss=1.11] \n"
     ]
    },
    {
     "name": "stdout",
     "output_type": "stream",
     "text": [
      "Epoch 65/100\n",
      "Train Loss: 0.0295, Train Acc: 100.00%\n",
      "Val Loss: 0.6818, Val Acc: 86.92%\n",
      "验证损失改善 (0.6825 → 0.6818). 保存模型...\n",
      "Starting epoch 66/100\n"
     ]
    },
    {
     "name": "stderr",
     "output_type": "stream",
     "text": [
      "Epoch 66 Training: 100%|██████████| 89/89 [01:40<00:00,  1.13s/it, loss=0.0283]\n",
      "Validating: 100%|██████████| 23/23 [00:37<00:00,  1.62s/it, loss=1.11] \n"
     ]
    },
    {
     "name": "stdout",
     "output_type": "stream",
     "text": [
      "Epoch 66/100\n",
      "Train Loss: 0.0283, Train Acc: 100.00%\n",
      "Val Loss: 0.6775, Val Acc: 86.64%\n",
      "验证损失改善 (0.6818 → 0.6775). 保存模型...\n",
      "Starting epoch 67/100\n"
     ]
    },
    {
     "name": "stderr",
     "output_type": "stream",
     "text": [
      "Epoch 67 Training:  25%|██▍       | 22/89 [00:42<02:09,  1.93s/it, loss=0.0304]\n"
     ]
    },
    {
     "ename": "KeyboardInterrupt",
     "evalue": "",
     "output_type": "error",
     "traceback": [
      "\u001b[31m---------------------------------------------------------------------------\u001b[39m",
      "\u001b[31mKeyboardInterrupt\u001b[39m                         Traceback (most recent call last)",
      "\u001b[36mCell\u001b[39m\u001b[36m \u001b[39m\u001b[32mIn[18]\u001b[39m\u001b[32m, line 28\u001b[39m\n\u001b[32m     25\u001b[39m loss.backward() \u001b[38;5;66;03m#反向传播\u001b[39;00m\n\u001b[32m     26\u001b[39m optimizer.step() \u001b[38;5;66;03m#更新参数\u001b[39;00m\n\u001b[32m---> \u001b[39m\u001b[32m28\u001b[39m train_loss+=\u001b[43mloss\u001b[49m\u001b[43m.\u001b[49m\u001b[43mitem\u001b[49m\u001b[43m(\u001b[49m\u001b[43m)\u001b[49m\n\u001b[32m     29\u001b[39m _, predicted = torch.max(logits, \u001b[32m1\u001b[39m)\n\u001b[32m     30\u001b[39m train_total += labels.size(\u001b[32m0\u001b[39m)\n",
      "\u001b[31mKeyboardInterrupt\u001b[39m: "
     ]
    }
   ],
   "source": [
    "from tqdm import tqdm\n",
    "#轮数\n",
    "num_epochs=100\n",
    "\n",
    "# 训练模型\n",
    "for epoch in range(num_epochs):  # 假设训练5个epoch\n",
    "    print(f\"Starting epoch {epoch+1}/{num_epochs}\")\n",
    "    model.train()\n",
    "    train_loss=0.0\n",
    "    train_correct=0\n",
    "    train_total=0\n",
    "    \n",
    "    \n",
    "    train_bar = tqdm(train_loader, desc=f\"Epoch {epoch+1} Training\")\n",
    "\n",
    "    for inputs, labels in train_bar:\n",
    "        inputs = inputs.to(device)  # 将输入数据移动到 GPU\n",
    "        labels = labels.to(device)  # 将标签数据移动到 GPU\n",
    "\n",
    "        optimizer.zero_grad() #清零梯度\n",
    "        outputs = model(inputs) #前向传播\n",
    "        logits=outputs.logits\n",
    "\n",
    "        loss = criterion(logits, labels) #损失计算\n",
    "        loss.backward() #反向传播\n",
    "        optimizer.step() #更新参数\n",
    "\n",
    "        train_loss+=loss.item()\n",
    "        _, predicted = torch.max(logits, 1)\n",
    "        train_total += labels.size(0)\n",
    "        train_correct += (predicted == labels).sum().item()\n",
    "\n",
    "        # 更新进度条\n",
    "        train_bar.set_postfix(loss=loss.item())\n",
    "        train_bar.update(1)\n",
    "\n",
    "    train_loss = train_loss / len(train_loader)\n",
    "    train_acc = 100 * train_correct / train_total\n",
    "    \n",
    "    # 验证阶段\n",
    "    model.eval()\n",
    "    val_loss = 0.0\n",
    "    val_correct = 0\n",
    "    val_total = 0\n",
    "    \n",
    "    val_bar = tqdm(val_loader, desc=\"Validating\")\n",
    "    with torch.no_grad():\n",
    "        for inputs, labels in val_bar:\n",
    "            inputs, labels = inputs.to(device), labels.to(device)\n",
    "            \n",
    "            outputs = model(inputs)\n",
    "            logits=outputs.logits\n",
    "\n",
    "            loss = criterion(logits, labels)\n",
    "            \n",
    "            val_loss += loss.item()\n",
    "            _, predicted = torch.max(logits, 1)\n",
    "            val_total += labels.size(0)\n",
    "            val_correct += (predicted == labels).sum().item()\n",
    "            \n",
    "            val_bar.set_postfix(loss=loss.item())\n",
    "\n",
    "    val_loss = val_loss / len(val_loader)\n",
    "    val_acc = 100 * val_correct / val_total\n",
    "    \n",
    "    print(f'Epoch {epoch+1}/{num_epochs}')\n",
    "    print(f'Train Loss: {train_loss:.4f}, Train Acc: {train_acc:.2f}%')\n",
    "    print(f'Val Loss: {val_loss:.4f}, Val Acc: {val_acc:.2f}%')\n",
    "    \n",
    "    scheduler.step()\n",
    "\n",
    "    # 早停机制检查\n",
    "    early_stopping(val_loss, model)\n",
    "    if early_stopping.early_stop:\n",
    "        print(\"早停触发，停止训练\")\n",
    "        break\n",
    "\n",
    "    \n",
    "\n"
   ]
  },
  {
   "cell_type": "markdown",
   "metadata": {},
   "source": [
    "---\n",
    "# 6. 模型评估"
   ]
  },
  {
   "cell_type": "markdown",
   "metadata": {},
   "source": [
    "## 6.1 模型加载"
   ]
  },
  {
   "cell_type": "code",
   "execution_count": 19,
   "metadata": {},
   "outputs": [
    {
     "name": "stderr",
     "output_type": "stream",
     "text": [
      "Some weights of the model checkpoint at google/vit-large-patch16-224-in21k were not used when initializing ViTForImageClassification: ['pooler.dense.bias', 'pooler.dense.weight']\n",
      "- This IS expected if you are initializing ViTForImageClassification from the checkpoint of a model trained on another task or with another architecture (e.g. initializing a BertForSequenceClassification model from a BertForPreTraining model).\n",
      "- This IS NOT expected if you are initializing ViTForImageClassification from the checkpoint of a model that you expect to be exactly identical (initializing a BertForSequenceClassification model from a BertForSequenceClassification model).\n",
      "Some weights of ViTForImageClassification were not initialized from the model checkpoint at google/vit-large-patch16-224-in21k and are newly initialized: ['classifier.weight', 'classifier.bias']\n",
      "You should probably TRAIN this model on a down-stream task to be able to use it for predictions and inference.\n"
     ]
    }
   ],
   "source": [
    "# 模型加载修改\n",
    "model = ViTForImageClassification.from_pretrained(\n",
    "    'google/vit-large-patch16-224-in21k',\n",
    "    num_labels=100,\n",
    "    ignore_mismatched_sizes=True\n",
    ")\n",
    "model.load_state_dict(torch.load('best_model.pth'))\n",
    "model = model.to(device)"
   ]
  },
  {
   "cell_type": "markdown",
   "metadata": {},
   "source": [
    "## 6.2 推理预测"
   ]
  },
  {
   "cell_type": "code",
   "execution_count": 20,
   "metadata": {},
   "outputs": [],
   "source": [
    "model=model.to(device)\n",
    "model.eval()\n",
    "predicts = []\n",
    "idx = []\n",
    "\n",
    "# 对测试集中的每张图像进行预测\n",
    "with torch.no_grad():\n",
    "    for img_name in test_images:\n",
    "        img_path = os.path.join(test_folder, img_name)        \n",
    "        image = Image.open(img_path).convert('RGB')  # 以RGB模式打开图像\n",
    "        image = transform(image).unsqueeze(0).to(device)  # 应用预处理并增加batch维度\n",
    "        outputs = model(image)\n",
    "        logits=outputs.logits\n",
    "\n",
    "        _, predicted = torch.max(logits, 1)\n",
    "        predicts.append(predicted.item())\n",
    "        idx.append(img_name.replace('.jpg', ''))  # 去掉文件扩展名作为ID\n"
   ]
  },
  {
   "cell_type": "markdown",
   "metadata": {},
   "source": [
    "## 6.3 结果保存"
   ]
  },
  {
   "cell_type": "code",
   "execution_count": 21,
   "metadata": {},
   "outputs": [
    {
     "data": {
      "text/html": [
       "<div>\n",
       "<style scoped>\n",
       "    .dataframe tbody tr th:only-of-type {\n",
       "        vertical-align: middle;\n",
       "    }\n",
       "\n",
       "    .dataframe tbody tr th {\n",
       "        vertical-align: top;\n",
       "    }\n",
       "\n",
       "    .dataframe thead th {\n",
       "        text-align: right;\n",
       "    }\n",
       "</style>\n",
       "<table border=\"1\" class=\"dataframe\">\n",
       "  <thead>\n",
       "    <tr style=\"text-align: right;\">\n",
       "      <th></th>\n",
       "      <th>id</th>\n",
       "      <th>label</th>\n",
       "    </tr>\n",
       "  </thead>\n",
       "  <tbody>\n",
       "    <tr>\n",
       "      <th>0</th>\n",
       "      <td>0</td>\n",
       "      <td>65</td>\n",
       "    </tr>\n",
       "    <tr>\n",
       "      <th>1</th>\n",
       "      <td>1</td>\n",
       "      <td>39</td>\n",
       "    </tr>\n",
       "    <tr>\n",
       "      <th>237</th>\n",
       "      <td>2</td>\n",
       "      <td>87</td>\n",
       "    </tr>\n",
       "    <tr>\n",
       "      <th>348</th>\n",
       "      <td>3</td>\n",
       "      <td>94</td>\n",
       "    </tr>\n",
       "    <tr>\n",
       "      <th>459</th>\n",
       "      <td>4</td>\n",
       "      <td>90</td>\n",
       "    </tr>\n",
       "    <tr>\n",
       "      <th>...</th>\n",
       "      <td>...</td>\n",
       "      <td>...</td>\n",
       "    </tr>\n",
       "    <tr>\n",
       "      <th>137</th>\n",
       "      <td>1120</td>\n",
       "      <td>6</td>\n",
       "    </tr>\n",
       "    <tr>\n",
       "      <th>138</th>\n",
       "      <td>1121</td>\n",
       "      <td>54</td>\n",
       "    </tr>\n",
       "    <tr>\n",
       "      <th>139</th>\n",
       "      <td>1122</td>\n",
       "      <td>6</td>\n",
       "    </tr>\n",
       "    <tr>\n",
       "      <th>140</th>\n",
       "      <td>1123</td>\n",
       "      <td>65</td>\n",
       "    </tr>\n",
       "    <tr>\n",
       "      <th>141</th>\n",
       "      <td>1124</td>\n",
       "      <td>62</td>\n",
       "    </tr>\n",
       "  </tbody>\n",
       "</table>\n",
       "<p>1125 rows × 2 columns</p>\n",
       "</div>"
      ],
      "text/plain": [
       "       id  label\n",
       "0       0     65\n",
       "1       1     39\n",
       "237     2     87\n",
       "348     3     94\n",
       "459     4     90\n",
       "..    ...    ...\n",
       "137  1120      6\n",
       "138  1121     54\n",
       "139  1122      6\n",
       "140  1123     65\n",
       "141  1124     62\n",
       "\n",
       "[1125 rows x 2 columns]"
      ]
     },
     "execution_count": 21,
     "metadata": {},
     "output_type": "execute_result"
    }
   ],
   "source": [
    "# 保存预测结果到CSV文件\n",
    "submission = pd.DataFrame({'id': idx, 'label': predicts})\n",
    "submission['id']=submission['id'].astype(int)\n",
    "submission=submission.sort_values(by='id')\n",
    "submission"
   ]
  },
  {
   "cell_type": "code",
   "execution_count": 22,
   "metadata": {},
   "outputs": [],
   "source": [
    "submission.to_csv(subdir + student_id + 'submission_{}.csv'.format(\n",
    "    datetime.datetime.now().strftime('%Y%m%d_%H%M%S')),\n",
    "                index=False)"
   ]
  },
  {
   "cell_type": "markdown",
   "metadata": {},
   "source": [
    "---\n",
    "# 7. 陈述总结"
   ]
  }
 ],
 "metadata": {
  "kernelspec": {
   "display_name": "Deep",
   "language": "python",
   "name": "python3"
  },
  "language_info": {
   "codemirror_mode": {
    "name": "ipython",
    "version": 3
   },
   "file_extension": ".py",
   "mimetype": "text/x-python",
   "name": "python",
   "nbconvert_exporter": "python",
   "pygments_lexer": "ipython3",
   "version": "3.11.5"
  }
 },
 "nbformat": 4,
 "nbformat_minor": 2
}
