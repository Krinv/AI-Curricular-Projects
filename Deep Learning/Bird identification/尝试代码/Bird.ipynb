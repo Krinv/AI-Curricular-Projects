{
 "cells": [
  {
   "cell_type": "markdown",
   "metadata": {},
   "source": [
    "## 深度学习报告\n",
    "作业报告基于B榜最优分数编写，用中文完成（可附带英文版本），整合在Jupyter notebook文件，至少包括以下部分：\n",
    "- 数据预处理\n",
    "- 数据可视化\n",
    "- 模型构建\n",
    "- 模型训练\n",
    "- 模型评估\n",
    "- 陈述总结\n",
    "- 参考文献，注意全部列出的参考文献需在文中引用。\n"
   ]
  },
  {
   "cell_type": "markdown",
   "metadata": {},
   "source": [
    "---\n",
    "# 1. 库\n"
   ]
  },
  {
   "cell_type": "code",
   "execution_count": 21,
   "metadata": {},
   "outputs": [],
   "source": [
    "import torch\n",
    "import torchvision\n",
    "import torchvision.transforms as transforms\n",
    "import torch.nn as nn\n",
    "import torch.optim as optim\n",
    "from torch.utils.data import DataLoader\n",
    "import torchvision.models as models\n",
    "from torchtoolbox.transform import Cutout\n",
    "import os\n",
    "from PIL import Image \n",
    "import pandas as pd\n",
    "from PIL import Image \n",
    "import pandas\n",
    "import datetime\n",
    "from torch.utils.data import random_split\n",
    "\n",
    "\n",
    "from transformers import ViTFeatureExtractor, ViTForImageClassification"
   ]
  },
  {
   "cell_type": "markdown",
   "metadata": {},
   "source": [
    "---\n",
    "# 2. 数据导入与处理"
   ]
  },
  {
   "cell_type": "markdown",
   "metadata": {},
   "source": [
    "## 2.1 数据预处理"
   ]
  },
  {
   "cell_type": "code",
   "execution_count": 22,
   "metadata": {},
   "outputs": [],
   "source": [
    "transform = transforms.Compose([\n",
    "    transforms.Resize(256),\n",
    "    transforms.CenterCrop(224),\n",
    "    transforms.RandomHorizontalFlip(),\n",
    "    transforms.ColorJitter(brightness=0.4, contrast=0.4, saturation=0.4),\n",
    "    Cutout(), #遮挡增强\n",
    "    transforms.ToTensor(),\n",
    "    transforms.Normalize(mean=[0.5, 0.5, 0.5], std=[ 0.5,  0.5,  0.5])\n",
    "])"
   ]
  },
  {
   "cell_type": "markdown",
   "metadata": {},
   "source": [
    "## 2.2 学号信息"
   ]
  },
  {
   "cell_type": "code",
   "execution_count": 23,
   "metadata": {},
   "outputs": [],
   "source": [
    "#22211360121-李凯荣-22人工智能1班\n",
    "student_id = '22211360121'\n",
    "#生成路径\n",
    "subdir = ''"
   ]
  },
  {
   "cell_type": "markdown",
   "metadata": {},
   "source": [
    "## 2.3 训练数据集"
   ]
  },
  {
   "cell_type": "code",
   "execution_count": 24,
   "metadata": {},
   "outputs": [],
   "source": [
    "# 加载数据集\n",
    "full_dataset = torchvision.datasets.ImageFolder(root='new data/train', transform=transform)\n"
   ]
  },
  {
   "cell_type": "code",
   "execution_count": 25,
   "metadata": {},
   "outputs": [],
   "source": [
    "# 训练数据集划分\n",
    "train_size=int(0.8 * len(full_dataset))\n",
    "val_size = len(full_dataset) - train_size\n",
    "train_dataset, val_dataset = random_split(full_dataset, [train_size, val_size])"
   ]
  },
  {
   "cell_type": "code",
   "execution_count": 26,
   "metadata": {},
   "outputs": [],
   "source": [
    "train_loader = DataLoader(train_dataset, batch_size=32, shuffle=True, num_workers=4,pin_memory=True)\n",
    "val_loader = DataLoader(val_dataset, batch_size=32, shuffle=False, num_workers=4, pin_memory=True)"
   ]
  },
  {
   "cell_type": "code",
   "execution_count": 27,
   "metadata": {},
   "outputs": [
    {
     "name": "stdout",
     "output_type": "stream",
     "text": [
      "训练集大小: 2844, 验证集大小: 711\n"
     ]
    }
   ],
   "source": [
    "print(f\"训练集大小: {len(train_dataset)}, 验证集大小: {len(val_dataset)}\")"
   ]
  },
  {
   "cell_type": "code",
   "execution_count": 28,
   "metadata": {},
   "outputs": [
    {
     "name": "stdout",
     "output_type": "stream",
     "text": [
      "Number of batches in train_loader: 89\n"
     ]
    }
   ],
   "source": [
    "print(f\"Number of batches in train_loader: {len(train_loader)}\")"
   ]
  },
  {
   "cell_type": "code",
   "execution_count": 29,
   "metadata": {},
   "outputs": [
    {
     "name": "stdout",
     "output_type": "stream",
     "text": [
      "Dataset size: 2844\n"
     ]
    }
   ],
   "source": [
    "print(f\"Dataset size: {len(train_loader.dataset)}\")"
   ]
  },
  {
   "cell_type": "markdown",
   "metadata": {},
   "source": [
    "## 2.4 测试数据集 A"
   ]
  },
  {
   "cell_type": "code",
   "execution_count": 30,
   "metadata": {},
   "outputs": [],
   "source": [
    "# 加载测试集\n",
    "test_folder = 'new data/testA'\n",
    "test_images = [img for img in os.listdir(test_folder) if img.endswith('.jpg')]"
   ]
  },
  {
   "cell_type": "markdown",
   "metadata": {},
   "source": [
    "## 2.5 其他"
   ]
  },
  {
   "cell_type": "code",
   "execution_count": 31,
   "metadata": {},
   "outputs": [
    {
     "name": "stdout",
     "output_type": "stream",
     "text": [
      "Using device: cuda\n"
     ]
    }
   ],
   "source": [
    "device = torch.device(\"cuda\" if torch.cuda.is_available() else \"cpu\")\n",
    "print(f\"Using device: {device}\")"
   ]
  },
  {
   "cell_type": "markdown",
   "metadata": {},
   "source": [
    "---\n",
    "# 3. 数据可视化"
   ]
  },
  {
   "cell_type": "code",
   "execution_count": null,
   "metadata": {},
   "outputs": [],
   "source": []
  },
  {
   "cell_type": "code",
   "execution_count": null,
   "metadata": {},
   "outputs": [],
   "source": []
  },
  {
   "cell_type": "markdown",
   "metadata": {},
   "source": [
    "---\n",
    "# 4. 模型构建"
   ]
  },
  {
   "cell_type": "markdown",
   "metadata": {},
   "source": [
    "## 4.1 模型"
   ]
  },
  {
   "cell_type": "code",
   "execution_count": 32,
   "metadata": {},
   "outputs": [
    {
     "name": "stderr",
     "output_type": "stream",
     "text": [
      "c:\\Softwares\\Anaconda\\envs\\Deep\\Lib\\site-packages\\huggingface_hub\\file_download.py:943: FutureWarning: `resume_download` is deprecated and will be removed in version 1.0.0. Downloads always resume when possible. If you want to force a new download, use `force_download=True`.\n",
      "  warnings.warn(\n"
     ]
    }
   ],
   "source": [
    "from transformers import AutoImageProcessor, AutoModelForImageClassification\n",
    "\n",
    "processor = AutoImageProcessor.from_pretrained(\n",
    "    \"chriamue/bird-species-classifier\",\n",
    "    trust_remote_code=True\n",
    ")\n",
    "model = AutoModelForImageClassification.from_pretrained(\n",
    "    \"chriamue/bird-species-classifier\",\n",
    "    trust_remote_code=True\n",
    ")\n"
   ]
  },
  {
   "cell_type": "markdown",
   "metadata": {},
   "source": [
    "## 4.2 损失函数与优化器"
   ]
  },
  {
   "cell_type": "code",
   "execution_count": 33,
   "metadata": {},
   "outputs": [],
   "source": [
    "# 定义损失函数和优化器\n",
    "criterion = nn.CrossEntropyLoss()\n",
    "optimizer = torch.optim.AdamW(\n",
    "    model.parameters(), \n",
    "    lr=5e-5,  # 更小的学习率\n",
    "    weight_decay=0.05,  # 更强的权重衰减\n",
    "    eps=1e-8  # 数值稳定性\n",
    ")\n",
    "scheduler = torch.optim.lr_scheduler.CosineAnnealingLR(\n",
    "    optimizer, \n",
    "    T_max=50,  # 半周期长度\n",
    "    eta_min=1e-6  # 最小学习率\n",
    ")"
   ]
  },
  {
   "cell_type": "markdown",
   "metadata": {},
   "source": [
    "---\n",
    "# 5. 模型训练"
   ]
  },
  {
   "cell_type": "markdown",
   "metadata": {},
   "source": [
    "## 5.1 设备"
   ]
  },
  {
   "cell_type": "code",
   "execution_count": 34,
   "metadata": {},
   "outputs": [],
   "source": [
    "#使用GPU\n",
    "device = torch.device(\"cuda\" if torch.cuda.is_available() else \"cpu\")\n",
    "model = model.to(device)"
   ]
  },
  {
   "cell_type": "markdown",
   "metadata": {},
   "source": [
    "## 5. 训练"
   ]
  },
  {
   "cell_type": "code",
   "execution_count": 35,
   "metadata": {},
   "outputs": [],
   "source": [
    "#早停机制\n",
    "class EarlyStopping:\n",
    "    def __init__(self, patience=5, verbose=True, delta=0, path='best_model.pth'):\n",
    "        self.patience = patience\n",
    "        self.verbose = verbose\n",
    "        self.counter = 0\n",
    "        self.best_score = None\n",
    "        self.early_stop = False\n",
    "        self.val_loss_min = float('inf')\n",
    "        self.delta = delta\n",
    "        self.path = path\n",
    "        \n",
    "    def __call__(self, val_loss, model):\n",
    "        score = -val_loss\n",
    "        \n",
    "        if self.best_score is None:\n",
    "            self.best_score = score\n",
    "            self.save_checkpoint(val_loss, model)\n",
    "        elif score < self.best_score + self.delta:\n",
    "            self.counter += 1\n",
    "            if self.verbose:\n",
    "                print(f'EarlyStopping counter: {self.counter}/{self.patience}')\n",
    "            if self.counter >= self.patience:\n",
    "                self.early_stop = True\n",
    "        else:\n",
    "            self.best_score = score\n",
    "            self.save_checkpoint(val_loss, model)\n",
    "            self.counter = 0\n",
    "            \n",
    "    def save_checkpoint(self, val_loss, model):\n",
    "        if self.verbose:\n",
    "            print(f'验证损失改善 ({self.val_loss_min:.4f} → {val_loss:.4f}). 保存模型...')\n",
    "        torch.save(model.state_dict(), self.path)\n",
    "        self.val_loss_min = val_loss\n",
    "\n",
    "# 初始化时指定保存路径\n",
    "early_stopping = EarlyStopping(patience=5, verbose=True, path='best.pth')"
   ]
  },
  {
   "cell_type": "code",
   "execution_count": 36,
   "metadata": {},
   "outputs": [
    {
     "name": "stdout",
     "output_type": "stream",
     "text": [
      "Starting epoch 1/100\n"
     ]
    },
    {
     "name": "stderr",
     "output_type": "stream",
     "text": [
      "Epoch 1 Training: 100%|██████████| 89/89 [00:30<00:00,  2.94it/s, loss=6.26]\n",
      "Validating: 100%|██████████| 23/23 [00:11<00:00,  1.98it/s, loss=6.26]\n"
     ]
    },
    {
     "name": "stdout",
     "output_type": "stream",
     "text": [
      "Epoch 1/100\n",
      "Train Loss: 6.2576, Train Acc: 0.91%\n",
      "Val Loss: 6.2479, Val Acc: 1.69%\n",
      "验证损失改善 (inf → 6.2479). 保存模型...\n",
      "Starting epoch 2/100\n"
     ]
    },
    {
     "name": "stderr",
     "output_type": "stream",
     "text": [
      "Epoch 2 Training: 100%|██████████| 89/89 [00:30<00:00,  2.87it/s, loss=6.23]\n",
      "Validating: 100%|██████████| 23/23 [00:11<00:00,  1.94it/s, loss=6.27]\n"
     ]
    },
    {
     "name": "stdout",
     "output_type": "stream",
     "text": [
      "Epoch 2/100\n",
      "Train Loss: 6.2356, Train Acc: 3.31%\n",
      "Val Loss: 6.2302, Val Acc: 4.08%\n",
      "验证损失改善 (6.2479 → 6.2302). 保存模型...\n",
      "Starting epoch 3/100\n"
     ]
    },
    {
     "name": "stderr",
     "output_type": "stream",
     "text": [
      "Epoch 3 Training: 100%|██████████| 89/89 [00:32<00:00,  2.75it/s, loss=6.18]\n",
      "Validating: 100%|██████████| 23/23 [00:12<00:00,  1.87it/s, loss=6.27]\n"
     ]
    },
    {
     "name": "stdout",
     "output_type": "stream",
     "text": [
      "Epoch 3/100\n",
      "Train Loss: 6.2092, Train Acc: 6.15%\n",
      "Val Loss: 6.2008, Val Acc: 7.59%\n",
      "验证损失改善 (6.2302 → 6.2008). 保存模型...\n",
      "Starting epoch 4/100\n"
     ]
    },
    {
     "name": "stderr",
     "output_type": "stream",
     "text": [
      "Epoch 4 Training: 100%|██████████| 89/89 [01:02<00:00,  1.42it/s, loss=6.19]\n",
      "Validating: 100%|██████████| 23/23 [00:29<00:00,  1.30s/it, loss=6.27]\n"
     ]
    },
    {
     "name": "stdout",
     "output_type": "stream",
     "text": [
      "Epoch 4/100\n",
      "Train Loss: 6.1771, Train Acc: 9.49%\n",
      "Val Loss: 6.1771, Val Acc: 9.85%\n",
      "验证损失改善 (6.2008 → 6.1771). 保存模型...\n",
      "Starting epoch 5/100\n"
     ]
    },
    {
     "name": "stderr",
     "output_type": "stream",
     "text": [
      "Epoch 5 Training: 100%|██████████| 89/89 [06:50<00:00,  4.62s/it, loss=6.09]\n",
      "Validating: 100%|██████████| 23/23 [02:55<00:00,  7.64s/it, loss=6.26]\n"
     ]
    },
    {
     "name": "stdout",
     "output_type": "stream",
     "text": [
      "Epoch 5/100\n",
      "Train Loss: 6.1580, Train Acc: 11.11%\n",
      "Val Loss: 6.1713, Val Acc: 10.97%\n",
      "验证损失改善 (6.1771 → 6.1713). 保存模型...\n",
      "Starting epoch 6/100\n"
     ]
    },
    {
     "name": "stderr",
     "output_type": "stream",
     "text": [
      "Epoch 6 Training: 100%|██████████| 89/89 [00:34<00:00,  2.60it/s, loss=6.15]\n",
      "Validating: 100%|██████████| 23/23 [00:12<00:00,  1.77it/s, loss=6.26]\n"
     ]
    },
    {
     "name": "stdout",
     "output_type": "stream",
     "text": [
      "Epoch 6/100\n",
      "Train Loss: 6.1324, Train Acc: 13.85%\n",
      "Val Loss: 6.1496, Val Acc: 12.24%\n",
      "验证损失改善 (6.1713 → 6.1496). 保存模型...\n",
      "Starting epoch 7/100\n"
     ]
    },
    {
     "name": "stderr",
     "output_type": "stream",
     "text": [
      "Epoch 7 Training: 100%|██████████| 89/89 [00:28<00:00,  3.18it/s, loss=6.11]\n",
      "Validating: 100%|██████████| 23/23 [00:12<00:00,  1.82it/s, loss=6.26]\n"
     ]
    },
    {
     "name": "stdout",
     "output_type": "stream",
     "text": [
      "Epoch 7/100\n",
      "Train Loss: 6.1083, Train Acc: 16.39%\n",
      "Val Loss: 6.1442, Val Acc: 13.22%\n",
      "验证损失改善 (6.1496 → 6.1442). 保存模型...\n",
      "Starting epoch 8/100\n"
     ]
    },
    {
     "name": "stderr",
     "output_type": "stream",
     "text": [
      "Epoch 8 Training: 100%|██████████| 89/89 [00:28<00:00,  3.17it/s, loss=6.13]\n",
      "Validating: 100%|██████████| 23/23 [00:12<00:00,  1.88it/s, loss=6.16]\n"
     ]
    },
    {
     "name": "stdout",
     "output_type": "stream",
     "text": [
      "Epoch 8/100\n",
      "Train Loss: 6.0861, Train Acc: 18.71%\n",
      "Val Loss: 6.1185, Val Acc: 16.03%\n",
      "验证损失改善 (6.1442 → 6.1185). 保存模型...\n",
      "Starting epoch 9/100\n"
     ]
    },
    {
     "name": "stderr",
     "output_type": "stream",
     "text": [
      "Epoch 9 Training: 100%|██████████| 89/89 [00:28<00:00,  3.12it/s, loss=6.03]\n",
      "Validating: 100%|██████████| 23/23 [00:12<00:00,  1.84it/s, loss=6.12]\n"
     ]
    },
    {
     "name": "stdout",
     "output_type": "stream",
     "text": [
      "Epoch 9/100\n",
      "Train Loss: 6.0718, Train Acc: 19.94%\n",
      "Val Loss: 6.1044, Val Acc: 17.16%\n",
      "验证损失改善 (6.1185 → 6.1044). 保存模型...\n",
      "Starting epoch 10/100\n"
     ]
    },
    {
     "name": "stderr",
     "output_type": "stream",
     "text": [
      "Epoch 10 Training: 100%|██████████| 89/89 [00:28<00:00,  3.17it/s, loss=6.1] \n",
      "Validating: 100%|██████████| 23/23 [00:12<00:00,  1.81it/s, loss=6.12]\n"
     ]
    },
    {
     "name": "stdout",
     "output_type": "stream",
     "text": [
      "Epoch 10/100\n",
      "Train Loss: 6.0433, Train Acc: 23.10%\n",
      "Val Loss: 6.0838, Val Acc: 19.41%\n",
      "验证损失改善 (6.1044 → 6.0838). 保存模型...\n",
      "Starting epoch 11/100\n"
     ]
    },
    {
     "name": "stderr",
     "output_type": "stream",
     "text": [
      "Epoch 11 Training: 100%|██████████| 89/89 [00:28<00:00,  3.16it/s, loss=5.89]\n",
      "Validating: 100%|██████████| 23/23 [00:12<00:00,  1.84it/s, loss=6.27]\n"
     ]
    },
    {
     "name": "stdout",
     "output_type": "stream",
     "text": [
      "Epoch 11/100\n",
      "Train Loss: 6.0147, Train Acc: 26.27%\n",
      "Val Loss: 6.0595, Val Acc: 22.93%\n",
      "验证损失改善 (6.0838 → 6.0595). 保存模型...\n",
      "Starting epoch 12/100\n"
     ]
    },
    {
     "name": "stderr",
     "output_type": "stream",
     "text": [
      "Epoch 12 Training: 100%|██████████| 89/89 [00:28<00:00,  3.10it/s, loss=5.87]\n",
      "Validating: 100%|██████████| 23/23 [00:12<00:00,  1.78it/s, loss=6.12]\n"
     ]
    },
    {
     "name": "stdout",
     "output_type": "stream",
     "text": [
      "Epoch 12/100\n",
      "Train Loss: 6.0070, Train Acc: 26.76%\n",
      "Val Loss: 6.0389, Val Acc: 24.05%\n",
      "验证损失改善 (6.0595 → 6.0389). 保存模型...\n",
      "Starting epoch 13/100\n"
     ]
    },
    {
     "name": "stderr",
     "output_type": "stream",
     "text": [
      "Epoch 13 Training: 100%|██████████| 89/89 [00:29<00:00,  3.04it/s, loss=5.81]\n",
      "Validating: 100%|██████████| 23/23 [00:12<00:00,  1.79it/s, loss=6.12]\n"
     ]
    },
    {
     "name": "stdout",
     "output_type": "stream",
     "text": [
      "Epoch 13/100\n",
      "Train Loss: 5.9790, Train Acc: 29.61%\n",
      "Val Loss: 6.0132, Val Acc: 26.86%\n",
      "验证损失改善 (6.0389 → 6.0132). 保存模型...\n",
      "Starting epoch 14/100\n"
     ]
    },
    {
     "name": "stderr",
     "output_type": "stream",
     "text": [
      "Epoch 14 Training: 100%|██████████| 89/89 [00:28<00:00,  3.11it/s, loss=5.98]\n",
      "Validating: 100%|██████████| 23/23 [00:16<00:00,  1.36it/s, loss=6.12]\n"
     ]
    },
    {
     "name": "stdout",
     "output_type": "stream",
     "text": [
      "Epoch 14/100\n",
      "Train Loss: 5.9698, Train Acc: 30.45%\n",
      "Val Loss: 6.0025, Val Acc: 27.85%\n",
      "验证损失改善 (6.0132 → 6.0025). 保存模型...\n",
      "Starting epoch 15/100\n"
     ]
    },
    {
     "name": "stderr",
     "output_type": "stream",
     "text": [
      "Epoch 15 Training: 100%|██████████| 89/89 [00:50<00:00,  1.78it/s, loss=5.97]\n",
      "Validating: 100%|██████████| 23/23 [00:17<00:00,  1.29it/s, loss=6.12]\n"
     ]
    },
    {
     "name": "stdout",
     "output_type": "stream",
     "text": [
      "Epoch 15/100\n",
      "Train Loss: 5.9483, Train Acc: 32.56%\n",
      "Val Loss: 6.0157, Val Acc: 26.72%\n",
      "EarlyStopping counter: 1/5\n",
      "Starting epoch 16/100\n"
     ]
    },
    {
     "name": "stderr",
     "output_type": "stream",
     "text": [
      "Epoch 16 Training: 100%|██████████| 89/89 [00:50<00:00,  1.75it/s, loss=6.03]\n",
      "Validating: 100%|██████████| 23/23 [00:18<00:00,  1.25it/s, loss=6.13]\n"
     ]
    },
    {
     "name": "stdout",
     "output_type": "stream",
     "text": [
      "Epoch 16/100\n",
      "Train Loss: 5.9389, Train Acc: 33.61%\n",
      "Val Loss: 5.9860, Val Acc: 29.96%\n",
      "验证损失改善 (6.0025 → 5.9860). 保存模型...\n",
      "Starting epoch 17/100\n"
     ]
    },
    {
     "name": "stderr",
     "output_type": "stream",
     "text": [
      "Epoch 17 Training: 100%|██████████| 89/89 [00:53<00:00,  1.66it/s, loss=5.98]\n",
      "Validating: 100%|██████████| 23/23 [00:17<00:00,  1.30it/s, loss=6.12]\n"
     ]
    },
    {
     "name": "stdout",
     "output_type": "stream",
     "text": [
      "Epoch 17/100\n",
      "Train Loss: 5.9201, Train Acc: 35.72%\n",
      "Val Loss: 5.9833, Val Acc: 29.68%\n",
      "验证损失改善 (5.9860 → 5.9833). 保存模型...\n",
      "Starting epoch 18/100\n"
     ]
    },
    {
     "name": "stderr",
     "output_type": "stream",
     "text": [
      "Epoch 18 Training: 100%|██████████| 89/89 [00:54<00:00,  1.64it/s, loss=5.86]\n",
      "Validating: 100%|██████████| 23/23 [00:18<00:00,  1.25it/s, loss=6.12]\n"
     ]
    },
    {
     "name": "stdout",
     "output_type": "stream",
     "text": [
      "Epoch 18/100\n",
      "Train Loss: 5.9173, Train Acc: 35.58%\n",
      "Val Loss: 5.9658, Val Acc: 31.08%\n",
      "验证损失改善 (5.9833 → 5.9658). 保存模型...\n",
      "Starting epoch 19/100\n"
     ]
    },
    {
     "name": "stderr",
     "output_type": "stream",
     "text": [
      "Epoch 19 Training: 100%|██████████| 89/89 [00:56<00:00,  1.58it/s, loss=5.95]\n",
      "Validating: 100%|██████████| 23/23 [00:18<00:00,  1.25it/s, loss=6.12]\n"
     ]
    },
    {
     "name": "stdout",
     "output_type": "stream",
     "text": [
      "Epoch 19/100\n",
      "Train Loss: 5.9085, Train Acc: 36.64%\n",
      "Val Loss: 5.9783, Val Acc: 30.24%\n",
      "EarlyStopping counter: 1/5\n",
      "Starting epoch 20/100\n"
     ]
    },
    {
     "name": "stderr",
     "output_type": "stream",
     "text": [
      "Epoch 20 Training: 100%|██████████| 89/89 [00:41<00:00,  2.14it/s, loss=5.81]\n",
      "Validating: 100%|██████████| 23/23 [00:20<00:00,  1.13it/s, loss=6.12]\n"
     ]
    },
    {
     "name": "stdout",
     "output_type": "stream",
     "text": [
      "Epoch 20/100\n",
      "Train Loss: 5.9009, Train Acc: 37.55%\n",
      "Val Loss: 5.9568, Val Acc: 32.77%\n",
      "验证损失改善 (5.9658 → 5.9568). 保存模型...\n",
      "Starting epoch 21/100\n"
     ]
    },
    {
     "name": "stderr",
     "output_type": "stream",
     "text": [
      "Epoch 21 Training: 100%|██████████| 89/89 [00:58<00:00,  1.53it/s, loss=5.8] \n",
      "Validating: 100%|██████████| 23/23 [00:20<00:00,  1.12it/s, loss=6.12]\n"
     ]
    },
    {
     "name": "stdout",
     "output_type": "stream",
     "text": [
      "Epoch 21/100\n",
      "Train Loss: 5.8826, Train Acc: 39.31%\n",
      "Val Loss: 5.9630, Val Acc: 31.79%\n",
      "EarlyStopping counter: 1/5\n",
      "Starting epoch 22/100\n"
     ]
    },
    {
     "name": "stderr",
     "output_type": "stream",
     "text": [
      "Epoch 22 Training: 100%|██████████| 89/89 [00:53<00:00,  1.66it/s, loss=5.84]\n",
      "Validating: 100%|██████████| 23/23 [00:14<00:00,  1.57it/s, loss=6.12]\n"
     ]
    },
    {
     "name": "stdout",
     "output_type": "stream",
     "text": [
      "Epoch 22/100\n",
      "Train Loss: 5.8721, Train Acc: 40.61%\n",
      "Val Loss: 5.9600, Val Acc: 32.21%\n",
      "EarlyStopping counter: 2/5\n",
      "Starting epoch 23/100\n"
     ]
    },
    {
     "name": "stderr",
     "output_type": "stream",
     "text": [
      "Epoch 23 Training: 100%|██████████| 89/89 [00:48<00:00,  1.84it/s, loss=5.93]\n",
      "Validating: 100%|██████████| 23/23 [00:13<00:00,  1.65it/s, loss=6.12]\n"
     ]
    },
    {
     "name": "stdout",
     "output_type": "stream",
     "text": [
      "Epoch 23/100\n",
      "Train Loss: 5.8622, Train Acc: 41.56%\n",
      "Val Loss: 5.9493, Val Acc: 33.47%\n",
      "验证损失改善 (5.9568 → 5.9493). 保存模型...\n",
      "Starting epoch 24/100\n"
     ]
    },
    {
     "name": "stderr",
     "output_type": "stream",
     "text": [
      "Epoch 24 Training: 100%|██████████| 89/89 [00:50<00:00,  1.77it/s, loss=5.72]\n",
      "Validating: 100%|██████████| 23/23 [00:12<00:00,  1.82it/s, loss=6.12]\n"
     ]
    },
    {
     "name": "stdout",
     "output_type": "stream",
     "text": [
      "Epoch 24/100\n",
      "Train Loss: 5.8597, Train Acc: 41.42%\n",
      "Val Loss: 5.9484, Val Acc: 33.05%\n",
      "验证损失改善 (5.9493 → 5.9484). 保存模型...\n",
      "Starting epoch 25/100\n"
     ]
    },
    {
     "name": "stderr",
     "output_type": "stream",
     "text": [
      "Epoch 25 Training: 100%|██████████| 89/89 [00:46<00:00,  1.91it/s, loss=5.95]\n",
      "Validating: 100%|██████████| 23/23 [00:13<00:00,  1.65it/s, loss=6.12]\n"
     ]
    },
    {
     "name": "stdout",
     "output_type": "stream",
     "text": [
      "Epoch 25/100\n",
      "Train Loss: 5.8461, Train Acc: 42.90%\n",
      "Val Loss: 5.9385, Val Acc: 34.32%\n",
      "验证损失改善 (5.9484 → 5.9385). 保存模型...\n",
      "Starting epoch 26/100\n"
     ]
    },
    {
     "name": "stderr",
     "output_type": "stream",
     "text": [
      "Epoch 26 Training: 100%|██████████| 89/89 [00:35<00:00,  2.54it/s, loss=5.77]\n",
      "Validating: 100%|██████████| 23/23 [00:14<00:00,  1.63it/s, loss=6.12]\n"
     ]
    },
    {
     "name": "stdout",
     "output_type": "stream",
     "text": [
      "Epoch 26/100\n",
      "Train Loss: 5.8449, Train Acc: 42.72%\n",
      "Val Loss: 5.9308, Val Acc: 36.01%\n",
      "验证损失改善 (5.9385 → 5.9308). 保存模型...\n",
      "Starting epoch 27/100\n"
     ]
    },
    {
     "name": "stderr",
     "output_type": "stream",
     "text": [
      "Epoch 27 Training: 100%|██████████| 89/89 [00:47<00:00,  1.86it/s, loss=5.83]\n",
      "Validating: 100%|██████████| 23/23 [00:14<00:00,  1.57it/s, loss=6.12]\n"
     ]
    },
    {
     "name": "stdout",
     "output_type": "stream",
     "text": [
      "Epoch 27/100\n",
      "Train Loss: 5.8365, Train Acc: 44.02%\n",
      "Val Loss: 5.9419, Val Acc: 34.18%\n",
      "EarlyStopping counter: 1/5\n",
      "Starting epoch 28/100\n"
     ]
    },
    {
     "name": "stderr",
     "output_type": "stream",
     "text": [
      "Epoch 28 Training: 100%|██████████| 89/89 [00:47<00:00,  1.88it/s, loss=5.77]\n",
      "Validating: 100%|██████████| 23/23 [00:13<00:00,  1.77it/s, loss=6.12]\n"
     ]
    },
    {
     "name": "stdout",
     "output_type": "stream",
     "text": [
      "Epoch 28/100\n",
      "Train Loss: 5.8299, Train Acc: 44.48%\n",
      "Val Loss: 5.9266, Val Acc: 35.86%\n",
      "验证损失改善 (5.9308 → 5.9266). 保存模型...\n",
      "Starting epoch 29/100\n"
     ]
    },
    {
     "name": "stderr",
     "output_type": "stream",
     "text": [
      "Epoch 29 Training: 100%|██████████| 89/89 [00:46<00:00,  1.90it/s, loss=5.77]\n",
      "Validating: 100%|██████████| 23/23 [00:12<00:00,  1.85it/s, loss=6.12]\n"
     ]
    },
    {
     "name": "stdout",
     "output_type": "stream",
     "text": [
      "Epoch 29/100\n",
      "Train Loss: 5.8262, Train Acc: 44.80%\n",
      "Val Loss: 5.9165, Val Acc: 36.71%\n",
      "验证损失改善 (5.9266 → 5.9165). 保存模型...\n",
      "Starting epoch 30/100\n"
     ]
    },
    {
     "name": "stderr",
     "output_type": "stream",
     "text": [
      "Epoch 30 Training: 100%|██████████| 89/89 [00:46<00:00,  1.90it/s, loss=5.77]\n",
      "Validating: 100%|██████████| 23/23 [00:14<00:00,  1.58it/s, loss=6.12]\n"
     ]
    },
    {
     "name": "stdout",
     "output_type": "stream",
     "text": [
      "Epoch 30/100\n",
      "Train Loss: 5.8280, Train Acc: 44.90%\n",
      "Val Loss: 5.9245, Val Acc: 35.72%\n",
      "EarlyStopping counter: 1/5\n",
      "Starting epoch 31/100\n"
     ]
    },
    {
     "name": "stderr",
     "output_type": "stream",
     "text": [
      "Epoch 31 Training: 100%|██████████| 89/89 [00:48<00:00,  1.85it/s, loss=5.98]\n",
      "Validating: 100%|██████████| 23/23 [00:14<00:00,  1.63it/s, loss=6.12]\n"
     ]
    },
    {
     "name": "stdout",
     "output_type": "stream",
     "text": [
      "Epoch 31/100\n",
      "Train Loss: 5.8180, Train Acc: 45.85%\n",
      "Val Loss: 5.9203, Val Acc: 36.43%\n",
      "EarlyStopping counter: 2/5\n",
      "Starting epoch 32/100\n"
     ]
    },
    {
     "name": "stderr",
     "output_type": "stream",
     "text": [
      "Epoch 32 Training: 100%|██████████| 89/89 [00:48<00:00,  1.82it/s, loss=5.87]\n",
      "Validating: 100%|██████████| 23/23 [00:14<00:00,  1.55it/s, loss=6.13]\n"
     ]
    },
    {
     "name": "stdout",
     "output_type": "stream",
     "text": [
      "Epoch 32/100\n",
      "Train Loss: 5.8159, Train Acc: 46.06%\n",
      "Val Loss: 5.9181, Val Acc: 36.99%\n",
      "EarlyStopping counter: 3/5\n",
      "Starting epoch 33/100\n"
     ]
    },
    {
     "name": "stderr",
     "output_type": "stream",
     "text": [
      "Epoch 33 Training:  49%|████▉     | 44/89 [00:31<00:32,  1.38it/s, loss=6.07]\n"
     ]
    },
    {
     "ename": "KeyboardInterrupt",
     "evalue": "",
     "output_type": "error",
     "traceback": [
      "\u001b[31m---------------------------------------------------------------------------\u001b[39m",
      "\u001b[31mKeyboardInterrupt\u001b[39m                         Traceback (most recent call last)",
      "\u001b[36mCell\u001b[39m\u001b[36m \u001b[39m\u001b[32mIn[36]\u001b[39m\u001b[32m, line 31\u001b[39m\n\u001b[32m     28\u001b[39m loss.backward() \u001b[38;5;66;03m#反向传播\u001b[39;00m\n\u001b[32m     29\u001b[39m optimizer.step() \u001b[38;5;66;03m#更新参数\u001b[39;00m\n\u001b[32m---> \u001b[39m\u001b[32m31\u001b[39m train_loss+=\u001b[43mloss\u001b[49m\u001b[43m.\u001b[49m\u001b[43mitem\u001b[49m\u001b[43m(\u001b[49m\u001b[43m)\u001b[49m\n\u001b[32m     32\u001b[39m _, predicted = torch.max(logits, \u001b[32m1\u001b[39m)\n\u001b[32m     33\u001b[39m train_total += labels.size(\u001b[32m0\u001b[39m)\n",
      "\u001b[31mKeyboardInterrupt\u001b[39m: "
     ]
    }
   ],
   "source": [
    "from tqdm import tqdm\n",
    "#轮数\n",
    "num_epochs=100\n",
    "\n",
    "# 解冻计划：每N个epoch解冻一层\n",
    "unfreeze_interval = 5\n",
    "\n",
    "# 训练模型\n",
    "for epoch in range(num_epochs):  # 假设训练5个epoch\n",
    "    print(f\"Starting epoch {epoch+1}/{num_epochs}\")\n",
    "    model.train()\n",
    "    train_loss=0.0\n",
    "    train_correct=0\n",
    "    train_total=0\n",
    "    \n",
    "    \n",
    "    train_bar = tqdm(train_loader, desc=f\"Epoch {epoch+1} Training\")\n",
    "\n",
    "    for inputs, labels in train_bar:\n",
    "        inputs = inputs.to(device)  # 将输入数据移动到 GPU\n",
    "        labels = labels.to(device)  # 将标签数据移动到 GPU\n",
    "\n",
    "        optimizer.zero_grad() #清零梯度\n",
    "        outputs = model(inputs) #前向传播\n",
    "        logits=outputs.logits\n",
    "\n",
    "        loss = criterion(logits, labels) #损失计算\n",
    "        loss.backward() #反向传播\n",
    "        optimizer.step() #更新参数\n",
    "\n",
    "        train_loss+=loss.item()\n",
    "        _, predicted = torch.max(logits, 1)\n",
    "        train_total += labels.size(0)\n",
    "        train_correct += (predicted == labels).sum().item()\n",
    "\n",
    "        # 更新进度条\n",
    "        train_bar.set_postfix(loss=loss.item())\n",
    "        train_bar.update(1)\n",
    "\n",
    "    train_loss = train_loss / len(train_loader)\n",
    "    train_acc = 100 * train_correct / train_total\n",
    "    \n",
    "    # 验证阶段\n",
    "    model.eval()\n",
    "    val_loss = 0.0\n",
    "    val_correct = 0\n",
    "    val_total = 0\n",
    "    \n",
    "    val_bar = tqdm(val_loader, desc=\"Validating\")\n",
    "    with torch.no_grad():\n",
    "        for inputs, labels in val_bar:\n",
    "            inputs, labels = inputs.to(device), labels.to(device)\n",
    "            \n",
    "            outputs = model(inputs)\n",
    "            logits=outputs.logits\n",
    "\n",
    "            loss = criterion(logits, labels)\n",
    "            \n",
    "            val_loss += loss.item()\n",
    "            _, predicted = torch.max(logits, 1)\n",
    "            val_total += labels.size(0)\n",
    "            val_correct += (predicted == labels).sum().item()\n",
    "            \n",
    "            val_bar.set_postfix(loss=loss.item())\n",
    "\n",
    "    val_loss = val_loss / len(val_loader)\n",
    "    val_acc = 100 * val_correct / val_total\n",
    "    \n",
    "    print(f'Epoch {epoch+1}/{num_epochs}')\n",
    "    print(f'Train Loss: {train_loss:.4f}, Train Acc: {train_acc:.2f}%')\n",
    "    print(f'Val Loss: {val_loss:.4f}, Val Acc: {val_acc:.2f}%')\n",
    "    \n",
    "    scheduler.step()\n",
    "\n",
    "    # 早停机制检查\n",
    "    early_stopping(val_loss, model)\n",
    "    if early_stopping.early_stop:\n",
    "        print(\"早停触发，停止训练\")\n",
    "        break\n",
    "\n",
    "    \n",
    "\n"
   ]
  },
  {
   "cell_type": "markdown",
   "metadata": {},
   "source": [
    "---\n",
    "# 6. 模型评估"
   ]
  },
  {
   "cell_type": "markdown",
   "metadata": {},
   "source": [
    "## 6.1 模型加载"
   ]
  },
  {
   "cell_type": "code",
   "execution_count": null,
   "metadata": {},
   "outputs": [],
   "source": [
    "# 模型加载修改\n",
    "model = AutoModelForImageClassification.from_pretrained(\"chriamue/bird-species-classifier\")\n",
    "model.load_state_dict(torch.load('best.pth'))\n",
    "model = model.to(device)"
   ]
  },
  {
   "cell_type": "markdown",
   "metadata": {},
   "source": [
    "## 6.2 推理预测"
   ]
  },
  {
   "cell_type": "code",
   "execution_count": null,
   "metadata": {},
   "outputs": [],
   "source": [
    "model=model.to(device)\n",
    "model.eval()\n",
    "predicts = []\n",
    "idx = []\n",
    "\n",
    "# 对测试集中的每张图像进行预测\n",
    "with torch.no_grad():\n",
    "    for img_name in test_images:\n",
    "        img_path = os.path.join(test_folder, img_name)        \n",
    "        image = Image.open(img_path).convert('RGB')  # 以RGB模式打开图像\n",
    "        image = transform(image).unsqueeze(0).to(device)  # 应用预处理并增加batch维度\n",
    "        outputs = model(image)\n",
    "        logits=outputs.logits\n",
    "\n",
    "        _, predicted = torch.max(logits, 1)\n",
    "        predicts.append(predicted.item())\n",
    "        idx.append(img_name.replace('.jpg', ''))  # 去掉文件扩展名作为ID\n"
   ]
  },
  {
   "cell_type": "markdown",
   "metadata": {},
   "source": [
    "## 6.3 结果保存"
   ]
  },
  {
   "cell_type": "code",
   "execution_count": null,
   "metadata": {},
   "outputs": [
    {
     "data": {
      "text/html": [
       "<div>\n",
       "<style scoped>\n",
       "    .dataframe tbody tr th:only-of-type {\n",
       "        vertical-align: middle;\n",
       "    }\n",
       "\n",
       "    .dataframe tbody tr th {\n",
       "        vertical-align: top;\n",
       "    }\n",
       "\n",
       "    .dataframe thead th {\n",
       "        text-align: right;\n",
       "    }\n",
       "</style>\n",
       "<table border=\"1\" class=\"dataframe\">\n",
       "  <thead>\n",
       "    <tr style=\"text-align: right;\">\n",
       "      <th></th>\n",
       "      <th>id</th>\n",
       "      <th>label</th>\n",
       "    </tr>\n",
       "  </thead>\n",
       "  <tbody>\n",
       "    <tr>\n",
       "      <th>0</th>\n",
       "      <td>0</td>\n",
       "      <td>56</td>\n",
       "    </tr>\n",
       "    <tr>\n",
       "      <th>1</th>\n",
       "      <td>1</td>\n",
       "      <td>40</td>\n",
       "    </tr>\n",
       "    <tr>\n",
       "      <th>237</th>\n",
       "      <td>2</td>\n",
       "      <td>99</td>\n",
       "    </tr>\n",
       "    <tr>\n",
       "      <th>348</th>\n",
       "      <td>3</td>\n",
       "      <td>302</td>\n",
       "    </tr>\n",
       "    <tr>\n",
       "      <th>459</th>\n",
       "      <td>4</td>\n",
       "      <td>1</td>\n",
       "    </tr>\n",
       "    <tr>\n",
       "      <th>...</th>\n",
       "      <td>...</td>\n",
       "      <td>...</td>\n",
       "    </tr>\n",
       "    <tr>\n",
       "      <th>137</th>\n",
       "      <td>1120</td>\n",
       "      <td>43</td>\n",
       "    </tr>\n",
       "    <tr>\n",
       "      <th>138</th>\n",
       "      <td>1121</td>\n",
       "      <td>19</td>\n",
       "    </tr>\n",
       "    <tr>\n",
       "      <th>139</th>\n",
       "      <td>1122</td>\n",
       "      <td>59</td>\n",
       "    </tr>\n",
       "    <tr>\n",
       "      <th>140</th>\n",
       "      <td>1123</td>\n",
       "      <td>374</td>\n",
       "    </tr>\n",
       "    <tr>\n",
       "      <th>141</th>\n",
       "      <td>1124</td>\n",
       "      <td>210</td>\n",
       "    </tr>\n",
       "  </tbody>\n",
       "</table>\n",
       "<p>1125 rows × 2 columns</p>\n",
       "</div>"
      ],
      "text/plain": [
       "       id  label\n",
       "0       0     56\n",
       "1       1     40\n",
       "237     2     99\n",
       "348     3    302\n",
       "459     4      1\n",
       "..    ...    ...\n",
       "137  1120     43\n",
       "138  1121     19\n",
       "139  1122     59\n",
       "140  1123    374\n",
       "141  1124    210\n",
       "\n",
       "[1125 rows x 2 columns]"
      ]
     },
     "execution_count": 19,
     "metadata": {},
     "output_type": "execute_result"
    }
   ],
   "source": [
    "# 保存预测结果到CSV文件\n",
    "submission = pd.DataFrame({'id': idx, 'label': predicts})\n",
    "submission['id']=submission['id'].astype(int)\n",
    "submission=submission.sort_values(by='id')\n",
    "submission"
   ]
  },
  {
   "cell_type": "code",
   "execution_count": null,
   "metadata": {},
   "outputs": [],
   "source": [
    "submission.to_csv(subdir + student_id + 'submission_{}.csv'.format(\n",
    "    datetime.datetime.now().strftime('%Y%m%d_%H%M%S')),\n",
    "                index=False)"
   ]
  },
  {
   "cell_type": "markdown",
   "metadata": {},
   "source": [
    "---\n",
    "# 7. 陈述总结"
   ]
  }
 ],
 "metadata": {
  "kernelspec": {
   "display_name": "Deep",
   "language": "python",
   "name": "python3"
  },
  "language_info": {
   "codemirror_mode": {
    "name": "ipython",
    "version": 3
   },
   "file_extension": ".py",
   "mimetype": "text/x-python",
   "name": "python",
   "nbconvert_exporter": "python",
   "pygments_lexer": "ipython3",
   "version": "3.11.5"
  }
 },
 "nbformat": 4,
 "nbformat_minor": 2
}
