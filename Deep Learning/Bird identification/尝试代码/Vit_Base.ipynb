{
 "cells": [
  {
   "cell_type": "markdown",
   "metadata": {},
   "source": [
    "## 深度学习报告\n",
    "作业报告基于B榜最优分数编写，用中文完成（可附带英文版本），整合在Jupyter notebook文件，至少包括以下部分：\n",
    "- 数据预处理\n",
    "- 数据可视化\n",
    "- 模型构建\n",
    "- 模型训练\n",
    "- 模型评估\n",
    "- 陈述总结\n",
    "- 参考文献，注意全部列出的参考文献需在文中引用。\n"
   ]
  },
  {
   "cell_type": "markdown",
   "metadata": {},
   "source": [
    "---\n",
    "# 1. 库\n"
   ]
  },
  {
   "cell_type": "code",
   "execution_count": 1,
   "metadata": {},
   "outputs": [
    {
     "name": "stderr",
     "output_type": "stream",
     "text": [
      "c:\\Softwares\\Anaconda\\envs\\Deep\\Lib\\site-packages\\tqdm\\auto.py:21: TqdmWarning: IProgress not found. Please update jupyter and ipywidgets. See https://ipywidgets.readthedocs.io/en/stable/user_install.html\n",
      "  from .autonotebook import tqdm as notebook_tqdm\n"
     ]
    }
   ],
   "source": [
    "import torch\n",
    "import torchvision\n",
    "import torchvision.transforms as transforms\n",
    "import torch.nn as nn\n",
    "import torch.optim as optim\n",
    "from torch.utils.data import DataLoader\n",
    "import torchvision.models as models\n",
    "from torchtoolbox.transform import Cutout\n",
    "import os\n",
    "from PIL import Image \n",
    "import pandas as pd\n",
    "from PIL import Image \n",
    "import pandas\n",
    "import datetime\n",
    "from torch.utils.data import random_split\n",
    "\n",
    "\n",
    "from transformers import ViTFeatureExtractor, ViTForImageClassification"
   ]
  },
  {
   "cell_type": "markdown",
   "metadata": {},
   "source": [
    "---\n",
    "# 2. 数据导入与处理"
   ]
  },
  {
   "cell_type": "markdown",
   "metadata": {},
   "source": [
    "## 2.1 数据预处理"
   ]
  },
  {
   "cell_type": "code",
   "execution_count": 2,
   "metadata": {},
   "outputs": [],
   "source": [
    "transform = transforms.Compose([\n",
    "    transforms.Resize(256),\n",
    "    transforms.CenterCrop(224),\n",
    "    transforms.RandomHorizontalFlip(),\n",
    "    transforms.ColorJitter(brightness=0.4, contrast=0.4, saturation=0.4),\n",
    "    Cutout(), #遮挡增强\n",
    "    transforms.ToTensor(),\n",
    "    transforms.Normalize(mean=[0.5, 0.5, 0.5], std=[ 0.5,  0.5,  0.5])\n",
    "])"
   ]
  },
  {
   "cell_type": "markdown",
   "metadata": {},
   "source": [
    "## 2.2 学号信息"
   ]
  },
  {
   "cell_type": "code",
   "execution_count": 3,
   "metadata": {},
   "outputs": [],
   "source": [
    "#22211360121-李凯荣-22人工智能1班\n",
    "student_id = '22211360121'\n",
    "#生成路径\n",
    "subdir = ''"
   ]
  },
  {
   "cell_type": "markdown",
   "metadata": {},
   "source": [
    "## 2.3 训练数据集"
   ]
  },
  {
   "cell_type": "code",
   "execution_count": 4,
   "metadata": {},
   "outputs": [],
   "source": [
    "# 加载数据集\n",
    "full_dataset = torchvision.datasets.ImageFolder(root='new data/train', transform=transform)\n"
   ]
  },
  {
   "cell_type": "code",
   "execution_count": 5,
   "metadata": {},
   "outputs": [],
   "source": [
    "# 训练数据集划分\n",
    "train_size=int(0.8 * len(full_dataset))\n",
    "val_size = len(full_dataset) - train_size\n",
    "train_dataset, val_dataset = random_split(full_dataset, [train_size, val_size])"
   ]
  },
  {
   "cell_type": "code",
   "execution_count": 6,
   "metadata": {},
   "outputs": [],
   "source": [
    "train_loader = DataLoader(train_dataset, batch_size=32, shuffle=True, num_workers=4,pin_memory=True)\n",
    "val_loader = DataLoader(val_dataset, batch_size=32, shuffle=False, num_workers=4, pin_memory=True)"
   ]
  },
  {
   "cell_type": "code",
   "execution_count": 7,
   "metadata": {},
   "outputs": [
    {
     "name": "stdout",
     "output_type": "stream",
     "text": [
      "训练集大小: 2844, 验证集大小: 711\n"
     ]
    }
   ],
   "source": [
    "print(f\"训练集大小: {len(train_dataset)}, 验证集大小: {len(val_dataset)}\")"
   ]
  },
  {
   "cell_type": "code",
   "execution_count": 8,
   "metadata": {},
   "outputs": [
    {
     "name": "stdout",
     "output_type": "stream",
     "text": [
      "Number of batches in train_loader: 89\n"
     ]
    }
   ],
   "source": [
    "print(f\"Number of batches in train_loader: {len(train_loader)}\")"
   ]
  },
  {
   "cell_type": "code",
   "execution_count": 9,
   "metadata": {},
   "outputs": [
    {
     "name": "stdout",
     "output_type": "stream",
     "text": [
      "Dataset size: 2844\n"
     ]
    }
   ],
   "source": [
    "print(f\"Dataset size: {len(train_loader.dataset)}\")"
   ]
  },
  {
   "cell_type": "markdown",
   "metadata": {},
   "source": [
    "## 2.4 测试数据集 A"
   ]
  },
  {
   "cell_type": "code",
   "execution_count": 10,
   "metadata": {},
   "outputs": [],
   "source": [
    "# 加载测试集\n",
    "test_folder = 'new data/testA'\n",
    "test_images = [img for img in os.listdir(test_folder) if img.endswith('.jpg')]"
   ]
  },
  {
   "cell_type": "markdown",
   "metadata": {},
   "source": [
    "## 2.5 其他"
   ]
  },
  {
   "cell_type": "code",
   "execution_count": 11,
   "metadata": {},
   "outputs": [
    {
     "name": "stdout",
     "output_type": "stream",
     "text": [
      "Using device: cuda\n"
     ]
    }
   ],
   "source": [
    "device = torch.device(\"cuda\" if torch.cuda.is_available() else \"cpu\")\n",
    "print(f\"Using device: {device}\")"
   ]
  },
  {
   "cell_type": "markdown",
   "metadata": {},
   "source": [
    "---\n",
    "# 3. 数据可视化"
   ]
  },
  {
   "cell_type": "code",
   "execution_count": null,
   "metadata": {},
   "outputs": [],
   "source": []
  },
  {
   "cell_type": "code",
   "execution_count": null,
   "metadata": {},
   "outputs": [],
   "source": []
  },
  {
   "cell_type": "markdown",
   "metadata": {},
   "source": [
    "---\n",
    "# 4. 模型构建"
   ]
  },
  {
   "cell_type": "markdown",
   "metadata": {},
   "source": [
    "## 4.1 模型"
   ]
  },
  {
   "cell_type": "code",
   "execution_count": null,
   "metadata": {},
   "outputs": [
    {
     "name": "stderr",
     "output_type": "stream",
     "text": [
      "Some weights of ViTForImageClassification were not initialized from the model checkpoint at google/vit-base-patch16-224-in21k and are newly initialized: ['classifier.bias', 'classifier.weight']\n",
      "You should probably TRAIN this model on a down-stream task to be able to use it for predictions and inference.\n"
     ]
    }
   ],
   "source": [
    "model = ViTForImageClassification.from_pretrained(\n",
    "    'google/vit-large-patch16-224-in21k',\n",
    "    num_labels=100,  # 100个鸟类类别\n",
    "    ignore_mismatched_sizes=True\n",
    ")"
   ]
  },
  {
   "cell_type": "code",
   "execution_count": 13,
   "metadata": {},
   "outputs": [],
   "source": [
    "# 冻结除最后4层外的所有层\n",
    "for name, param in model.named_parameters():\n",
    "    # 解冻分类头层\n",
    "    if 'classifier' in name:\n",
    "        param.requires_grad = True\n",
    "    # 解冻最后4个Transformer块\n",
    "    elif 'encoder.layer.20' in name or 'encoder.layer.21' in name or \\\n",
    "        'encoder.layer.22' in name or 'encoder.layer.23' in name:\n",
    "        param.requires_grad = True\n",
    "    else:\n",
    "        param.requires_grad = False  # 冻结其他层\n",
    "\n",
    "# 将模型移至设备\n",
    "model = model.to(device)"
   ]
  },
  {
   "cell_type": "markdown",
   "metadata": {},
   "source": [
    "## 4.2 损失函数与优化器"
   ]
  },
  {
   "cell_type": "code",
   "execution_count": 14,
   "metadata": {},
   "outputs": [],
   "source": [
    "# 定义损失函数和优化器\n",
    "criterion = nn.CrossEntropyLoss()\n",
    "optimizer = torch.optim.AdamW(\n",
    "    model.parameters(), \n",
    "    lr=5e-5,  # 更小的学习率\n",
    "    weight_decay=0.05,  # 更强的权重衰减\n",
    "    eps=1e-8  # 数值稳定性\n",
    ")\n",
    "scheduler = torch.optim.lr_scheduler.CosineAnnealingLR(\n",
    "    optimizer, \n",
    "    T_max=50,  # 半周期长度\n",
    "    eta_min=1e-6  # 最小学习率\n",
    ")"
   ]
  },
  {
   "cell_type": "markdown",
   "metadata": {},
   "source": [
    "---\n",
    "# 5. 模型训练"
   ]
  },
  {
   "cell_type": "markdown",
   "metadata": {},
   "source": [
    "## 5.1 设备"
   ]
  },
  {
   "cell_type": "code",
   "execution_count": 15,
   "metadata": {},
   "outputs": [],
   "source": [
    "#使用GPU\n",
    "device = torch.device(\"cuda\" if torch.cuda.is_available() else \"cpu\")\n",
    "model = model.to(device)"
   ]
  },
  {
   "cell_type": "markdown",
   "metadata": {},
   "source": [
    "## 5. 训练"
   ]
  },
  {
   "cell_type": "code",
   "execution_count": 16,
   "metadata": {},
   "outputs": [],
   "source": [
    "#早停机制\n",
    "class EarlyStopping:\n",
    "    def __init__(self, patience=5, verbose=True, delta=0, path='best_model.pth'):\n",
    "        self.patience = patience\n",
    "        self.verbose = verbose\n",
    "        self.counter = 0\n",
    "        self.best_score = None\n",
    "        self.early_stop = False\n",
    "        self.val_loss_min = float('inf')\n",
    "        self.delta = delta\n",
    "        self.path = path\n",
    "        \n",
    "    def __call__(self, val_loss, model):\n",
    "        score = -val_loss\n",
    "        \n",
    "        if self.best_score is None:\n",
    "            self.best_score = score\n",
    "            self.save_checkpoint(val_loss, model)\n",
    "        elif score < self.best_score + self.delta:\n",
    "            self.counter += 1\n",
    "            if self.verbose:\n",
    "                print(f'EarlyStopping counter: {self.counter}/{self.patience}')\n",
    "            if self.counter >= self.patience:\n",
    "                self.early_stop = True\n",
    "        else:\n",
    "            self.best_score = score\n",
    "            self.save_checkpoint(val_loss, model)\n",
    "            self.counter = 0\n",
    "            \n",
    "    def save_checkpoint(self, val_loss, model):\n",
    "        if self.verbose:\n",
    "            print(f'验证损失改善 ({self.val_loss_min:.4f} → {val_loss:.4f}). 保存模型...')\n",
    "        torch.save(model.state_dict(), self.path)\n",
    "        self.val_loss_min = val_loss\n",
    "\n",
    "# 初始化时指定保存路径\n",
    "early_stopping = EarlyStopping(patience=5, verbose=True, path='best_model.pth')"
   ]
  },
  {
   "cell_type": "code",
   "execution_count": 20,
   "metadata": {},
   "outputs": [
    {
     "name": "stdout",
     "output_type": "stream",
     "text": [
      "Starting epoch 1/100\n"
     ]
    },
    {
     "name": "stderr",
     "output_type": "stream",
     "text": [
      "Epoch 1 Training: 100%|██████████| 89/89 [00:31<00:00,  2.82it/s, loss=3.48]\n",
      "Validating: 100%|██████████| 23/23 [00:16<00:00,  1.42it/s, loss=3.73]\n"
     ]
    },
    {
     "name": "stdout",
     "output_type": "stream",
     "text": [
      "Epoch 1/100\n",
      "Train Loss: 3.5194, Train Acc: 63.26%\n",
      "Val Loss: 3.5330, Val Acc: 55.41%\n",
      "验证损失改善 (3.5914 → 3.5330). 保存模型...\n",
      "Starting epoch 2/100\n"
     ]
    },
    {
     "name": "stderr",
     "output_type": "stream",
     "text": [
      "Epoch 2 Training: 100%|██████████| 89/89 [00:31<00:00,  2.87it/s, loss=3.5] \n",
      "Validating: 100%|██████████| 23/23 [00:15<00:00,  1.46it/s, loss=3.65]\n"
     ]
    },
    {
     "name": "stdout",
     "output_type": "stream",
     "text": [
      "Epoch 2/100\n",
      "Train Loss: 3.4548, Train Acc: 63.78%\n",
      "Val Loss: 3.4522, Val Acc: 58.23%\n",
      "验证损失改善 (3.5330 → 3.4522). 保存模型...\n",
      "Starting epoch 3/100\n"
     ]
    },
    {
     "name": "stderr",
     "output_type": "stream",
     "text": [
      "Epoch 3 Training: 100%|██████████| 89/89 [00:31<00:00,  2.81it/s, loss=3.32]\n",
      "Validating: 100%|██████████| 23/23 [00:16<00:00,  1.41it/s, loss=3.28]\n"
     ]
    },
    {
     "name": "stdout",
     "output_type": "stream",
     "text": [
      "Epoch 3/100\n",
      "Train Loss: 3.3818, Train Acc: 63.47%\n",
      "Val Loss: 3.3861, Val Acc: 58.51%\n",
      "验证损失改善 (3.4522 → 3.3861). 保存模型...\n",
      "Starting epoch 4/100\n"
     ]
    },
    {
     "name": "stderr",
     "output_type": "stream",
     "text": [
      "Epoch 4 Training: 100%|██████████| 89/89 [00:30<00:00,  2.95it/s, loss=3.43]\n",
      "Validating: 100%|██████████| 23/23 [00:15<00:00,  1.44it/s, loss=3.22]\n"
     ]
    },
    {
     "name": "stdout",
     "output_type": "stream",
     "text": [
      "Epoch 4/100\n",
      "Train Loss: 3.3087, Train Acc: 64.42%\n",
      "Val Loss: 3.3050, Val Acc: 59.07%\n",
      "验证损失改善 (3.3861 → 3.3050). 保存模型...\n",
      "Starting epoch 5/100\n"
     ]
    },
    {
     "name": "stderr",
     "output_type": "stream",
     "text": [
      "Epoch 5 Training: 100%|██████████| 89/89 [00:30<00:00,  2.96it/s, loss=3.31]\n",
      "Validating: 100%|██████████| 23/23 [00:15<00:00,  1.45it/s, loss=3.31]\n"
     ]
    },
    {
     "name": "stdout",
     "output_type": "stream",
     "text": [
      "Epoch 5/100\n",
      "Train Loss: 3.2438, Train Acc: 65.08%\n",
      "Val Loss: 3.2397, Val Acc: 62.31%\n",
      "验证损失改善 (3.3050 → 3.2397). 保存模型...\n",
      "Starting epoch 6/100\n"
     ]
    },
    {
     "name": "stderr",
     "output_type": "stream",
     "text": [
      "Epoch 6 Training: 100%|██████████| 89/89 [00:30<00:00,  2.93it/s, loss=3.25]\n",
      "Validating: 100%|██████████| 23/23 [00:16<00:00,  1.43it/s, loss=3.07]\n"
     ]
    },
    {
     "name": "stdout",
     "output_type": "stream",
     "text": [
      "Epoch 6/100\n",
      "Train Loss: 3.1789, Train Acc: 65.26%\n",
      "Val Loss: 3.1916, Val Acc: 60.90%\n",
      "验证损失改善 (3.2397 → 3.1916). 保存模型...\n",
      "Starting epoch 7/100\n"
     ]
    },
    {
     "name": "stderr",
     "output_type": "stream",
     "text": [
      "Epoch 7 Training: 100%|██████████| 89/89 [00:30<00:00,  2.94it/s, loss=2.93]\n",
      "Validating: 100%|██████████| 23/23 [00:16<00:00,  1.41it/s, loss=3.32]\n"
     ]
    },
    {
     "name": "stdout",
     "output_type": "stream",
     "text": [
      "Epoch 7/100\n",
      "Train Loss: 3.1135, Train Acc: 66.17%\n",
      "Val Loss: 3.1436, Val Acc: 61.04%\n",
      "验证损失改善 (3.1916 → 3.1436). 保存模型...\n",
      "Starting epoch 8/100\n"
     ]
    },
    {
     "name": "stderr",
     "output_type": "stream",
     "text": [
      "Epoch 8 Training: 100%|██████████| 89/89 [00:30<00:00,  2.91it/s, loss=3]   \n",
      "Validating: 100%|██████████| 23/23 [00:15<00:00,  1.45it/s, loss=2.98]\n"
     ]
    },
    {
     "name": "stdout",
     "output_type": "stream",
     "text": [
      "Epoch 8/100\n",
      "Train Loss: 3.0603, Train Acc: 66.24%\n",
      "Val Loss: 3.0919, Val Acc: 62.03%\n",
      "验证损失改善 (3.1436 → 3.0919). 保存模型...\n",
      "Starting epoch 9/100\n"
     ]
    },
    {
     "name": "stderr",
     "output_type": "stream",
     "text": [
      "Epoch 9 Training: 100%|██████████| 89/89 [00:30<00:00,  2.92it/s, loss=2.96]\n",
      "Validating: 100%|██████████| 23/23 [00:15<00:00,  1.45it/s, loss=2.92]\n"
     ]
    },
    {
     "name": "stdout",
     "output_type": "stream",
     "text": [
      "Epoch 9/100\n",
      "Train Loss: 3.0027, Train Acc: 67.33%\n",
      "Val Loss: 3.0182, Val Acc: 62.31%\n",
      "验证损失改善 (3.0919 → 3.0182). 保存模型...\n",
      "Starting epoch 10/100\n"
     ]
    },
    {
     "name": "stderr",
     "output_type": "stream",
     "text": [
      "Epoch 10 Training: 100%|██████████| 89/89 [00:30<00:00,  2.93it/s, loss=2.88]\n",
      "Validating: 100%|██████████| 23/23 [00:15<00:00,  1.45it/s, loss=2.79]\n"
     ]
    },
    {
     "name": "stdout",
     "output_type": "stream",
     "text": [
      "Epoch 10/100\n",
      "Train Loss: 2.9657, Train Acc: 67.12%\n",
      "Val Loss: 2.9658, Val Acc: 63.43%\n",
      "验证损失改善 (3.0182 → 2.9658). 保存模型...\n",
      "Starting epoch 11/100\n"
     ]
    },
    {
     "name": "stderr",
     "output_type": "stream",
     "text": [
      "Epoch 11 Training: 100%|██████████| 89/89 [00:30<00:00,  2.94it/s, loss=2.54]\n",
      "Validating: 100%|██████████| 23/23 [00:15<00:00,  1.44it/s, loss=2.98]\n"
     ]
    },
    {
     "name": "stdout",
     "output_type": "stream",
     "text": [
      "Epoch 11/100\n",
      "Train Loss: 2.9056, Train Acc: 67.90%\n",
      "Val Loss: 2.9395, Val Acc: 62.31%\n",
      "验证损失改善 (2.9658 → 2.9395). 保存模型...\n",
      "Starting epoch 12/100\n"
     ]
    },
    {
     "name": "stderr",
     "output_type": "stream",
     "text": [
      "Epoch 12 Training: 100%|██████████| 89/89 [00:30<00:00,  2.93it/s, loss=2.9] \n",
      "Validating: 100%|██████████| 23/23 [00:15<00:00,  1.44it/s, loss=2.91]\n"
     ]
    },
    {
     "name": "stdout",
     "output_type": "stream",
     "text": [
      "Epoch 12/100\n",
      "Train Loss: 2.8599, Train Acc: 67.05%\n",
      "Val Loss: 2.9389, Val Acc: 61.04%\n",
      "验证损失改善 (2.9395 → 2.9389). 保存模型...\n",
      "Starting epoch 13/100\n"
     ]
    },
    {
     "name": "stderr",
     "output_type": "stream",
     "text": [
      "Epoch 13 Training: 100%|██████████| 89/89 [00:30<00:00,  2.96it/s, loss=2.77]\n",
      "Validating: 100%|██████████| 23/23 [00:15<00:00,  1.45it/s, loss=2.75]\n"
     ]
    },
    {
     "name": "stdout",
     "output_type": "stream",
     "text": [
      "Epoch 13/100\n",
      "Train Loss: 2.8189, Train Acc: 68.71%\n",
      "Val Loss: 2.8757, Val Acc: 63.01%\n",
      "验证损失改善 (2.9389 → 2.8757). 保存模型...\n",
      "Starting epoch 14/100\n"
     ]
    },
    {
     "name": "stderr",
     "output_type": "stream",
     "text": [
      "Epoch 14 Training: 100%|██████████| 89/89 [00:30<00:00,  2.96it/s, loss=2.82]\n",
      "Validating: 100%|██████████| 23/23 [00:15<00:00,  1.45it/s, loss=2.69]\n"
     ]
    },
    {
     "name": "stdout",
     "output_type": "stream",
     "text": [
      "Epoch 14/100\n",
      "Train Loss: 2.7787, Train Acc: 68.28%\n",
      "Val Loss: 2.8354, Val Acc: 61.60%\n",
      "验证损失改善 (2.8757 → 2.8354). 保存模型...\n",
      "Starting epoch 15/100\n"
     ]
    },
    {
     "name": "stderr",
     "output_type": "stream",
     "text": [
      "Epoch 15 Training: 100%|██████████| 89/89 [00:30<00:00,  2.95it/s, loss=2.75]\n",
      "Validating: 100%|██████████| 23/23 [00:15<00:00,  1.45it/s, loss=3.03]\n"
     ]
    },
    {
     "name": "stdout",
     "output_type": "stream",
     "text": [
      "Epoch 15/100\n",
      "Train Loss: 2.7367, Train Acc: 68.81%\n",
      "Val Loss: 2.7911, Val Acc: 64.28%\n",
      "验证损失改善 (2.8354 → 2.7911). 保存模型...\n",
      "Starting epoch 16/100\n"
     ]
    },
    {
     "name": "stderr",
     "output_type": "stream",
     "text": [
      "Epoch 16 Training: 100%|██████████| 89/89 [00:30<00:00,  2.96it/s, loss=2.67]\n",
      "Validating: 100%|██████████| 23/23 [00:15<00:00,  1.46it/s, loss=2.65]\n"
     ]
    },
    {
     "name": "stdout",
     "output_type": "stream",
     "text": [
      "Epoch 16/100\n",
      "Train Loss: 2.7001, Train Acc: 69.73%\n",
      "Val Loss: 2.7247, Val Acc: 65.40%\n",
      "验证损失改善 (2.7911 → 2.7247). 保存模型...\n",
      "Starting epoch 17/100\n"
     ]
    },
    {
     "name": "stderr",
     "output_type": "stream",
     "text": [
      "Epoch 17 Training: 100%|██████████| 89/89 [00:30<00:00,  2.95it/s, loss=2.87]\n",
      "Validating: 100%|██████████| 23/23 [00:15<00:00,  1.45it/s, loss=2.81]\n"
     ]
    },
    {
     "name": "stdout",
     "output_type": "stream",
     "text": [
      "Epoch 17/100\n",
      "Train Loss: 2.6827, Train Acc: 68.50%\n",
      "Val Loss: 2.7242, Val Acc: 63.85%\n",
      "验证损失改善 (2.7247 → 2.7242). 保存模型...\n",
      "Starting epoch 18/100\n"
     ]
    },
    {
     "name": "stderr",
     "output_type": "stream",
     "text": [
      "Epoch 18 Training: 100%|██████████| 89/89 [00:30<00:00,  2.95it/s, loss=2.71]\n",
      "Validating: 100%|██████████| 23/23 [00:15<00:00,  1.44it/s, loss=2.64]\n"
     ]
    },
    {
     "name": "stdout",
     "output_type": "stream",
     "text": [
      "Epoch 18/100\n",
      "Train Loss: 2.6431, Train Acc: 69.73%\n",
      "Val Loss: 2.6761, Val Acc: 65.54%\n",
      "验证损失改善 (2.7242 → 2.6761). 保存模型...\n",
      "Starting epoch 19/100\n"
     ]
    },
    {
     "name": "stderr",
     "output_type": "stream",
     "text": [
      "Epoch 19 Training: 100%|██████████| 89/89 [00:30<00:00,  2.94it/s, loss=2.47]\n",
      "Validating: 100%|██████████| 23/23 [00:15<00:00,  1.44it/s, loss=2.79]\n"
     ]
    },
    {
     "name": "stdout",
     "output_type": "stream",
     "text": [
      "Epoch 19/100\n",
      "Train Loss: 2.6409, Train Acc: 69.44%\n",
      "Val Loss: 2.6849, Val Acc: 62.87%\n",
      "EarlyStopping counter: 1/5\n",
      "Starting epoch 20/100\n"
     ]
    },
    {
     "name": "stderr",
     "output_type": "stream",
     "text": [
      "Epoch 20 Training: 100%|██████████| 89/89 [00:30<00:00,  2.93it/s, loss=2.52]\n",
      "Validating: 100%|██████████| 23/23 [00:16<00:00,  1.44it/s, loss=2.81]\n"
     ]
    },
    {
     "name": "stdout",
     "output_type": "stream",
     "text": [
      "Epoch 20/100\n",
      "Train Loss: 2.5925, Train Acc: 70.29%\n",
      "Val Loss: 2.6560, Val Acc: 64.28%\n",
      "验证损失改善 (2.6761 → 2.6560). 保存模型...\n",
      "Starting epoch 21/100\n"
     ]
    },
    {
     "name": "stderr",
     "output_type": "stream",
     "text": [
      "Epoch 21 Training: 100%|██████████| 89/89 [00:30<00:00,  2.92it/s, loss=2.54]\n",
      "Validating: 100%|██████████| 23/23 [00:15<00:00,  1.44it/s, loss=2.42]\n"
     ]
    },
    {
     "name": "stdout",
     "output_type": "stream",
     "text": [
      "Epoch 21/100\n",
      "Train Loss: 2.5860, Train Acc: 69.66%\n",
      "Val Loss: 2.6340, Val Acc: 64.70%\n",
      "验证损失改善 (2.6560 → 2.6340). 保存模型...\n",
      "Starting epoch 22/100\n"
     ]
    },
    {
     "name": "stderr",
     "output_type": "stream",
     "text": [
      "Epoch 22 Training: 100%|██████████| 89/89 [00:30<00:00,  2.91it/s, loss=2.6] \n",
      "Validating: 100%|██████████| 23/23 [00:15<00:00,  1.47it/s, loss=2.42]\n"
     ]
    },
    {
     "name": "stdout",
     "output_type": "stream",
     "text": [
      "Epoch 22/100\n",
      "Train Loss: 2.5523, Train Acc: 68.95%\n",
      "Val Loss: 2.5995, Val Acc: 64.14%\n",
      "验证损失改善 (2.6340 → 2.5995). 保存模型...\n",
      "Starting epoch 23/100\n"
     ]
    },
    {
     "name": "stderr",
     "output_type": "stream",
     "text": [
      "Epoch 23 Training: 100%|██████████| 89/89 [00:30<00:00,  2.94it/s, loss=2.56]\n",
      "Validating: 100%|██████████| 23/23 [00:16<00:00,  1.42it/s, loss=2.57]\n"
     ]
    },
    {
     "name": "stdout",
     "output_type": "stream",
     "text": [
      "Epoch 23/100\n",
      "Train Loss: 2.5381, Train Acc: 69.55%\n",
      "Val Loss: 2.6022, Val Acc: 64.42%\n",
      "EarlyStopping counter: 1/5\n",
      "Starting epoch 24/100\n"
     ]
    },
    {
     "name": "stderr",
     "output_type": "stream",
     "text": [
      "Epoch 24 Training: 100%|██████████| 89/89 [00:30<00:00,  2.93it/s, loss=2.55]\n",
      "Validating: 100%|██████████| 23/23 [00:15<00:00,  1.45it/s, loss=2.45]\n"
     ]
    },
    {
     "name": "stdout",
     "output_type": "stream",
     "text": [
      "Epoch 24/100\n",
      "Train Loss: 2.5287, Train Acc: 68.95%\n",
      "Val Loss: 2.5566, Val Acc: 65.12%\n",
      "验证损失改善 (2.5995 → 2.5566). 保存模型...\n",
      "Starting epoch 25/100\n"
     ]
    },
    {
     "name": "stderr",
     "output_type": "stream",
     "text": [
      "Epoch 25 Training: 100%|██████████| 89/89 [00:30<00:00,  2.91it/s, loss=2.27]\n",
      "Validating: 100%|██████████| 23/23 [00:16<00:00,  1.41it/s, loss=2.55]\n"
     ]
    },
    {
     "name": "stdout",
     "output_type": "stream",
     "text": [
      "Epoch 25/100\n",
      "Train Loss: 2.5067, Train Acc: 69.83%\n",
      "Val Loss: 2.5640, Val Acc: 66.10%\n",
      "EarlyStopping counter: 1/5\n",
      "Starting epoch 26/100\n"
     ]
    },
    {
     "name": "stderr",
     "output_type": "stream",
     "text": [
      "Epoch 26 Training: 100%|██████████| 89/89 [00:30<00:00,  2.92it/s, loss=2.58]\n",
      "Validating: 100%|██████████| 23/23 [00:16<00:00,  1.44it/s, loss=2.43]\n"
     ]
    },
    {
     "name": "stdout",
     "output_type": "stream",
     "text": [
      "Epoch 26/100\n",
      "Train Loss: 2.4888, Train Acc: 70.78%\n",
      "Val Loss: 2.5283, Val Acc: 65.68%\n",
      "验证损失改善 (2.5566 → 2.5283). 保存模型...\n",
      "Starting epoch 27/100\n"
     ]
    },
    {
     "name": "stderr",
     "output_type": "stream",
     "text": [
      "Epoch 27 Training: 100%|██████████| 89/89 [00:30<00:00,  2.89it/s, loss=2.49]\n",
      "Validating: 100%|██████████| 23/23 [00:15<00:00,  1.45it/s, loss=2.4] \n"
     ]
    },
    {
     "name": "stdout",
     "output_type": "stream",
     "text": [
      "Epoch 27/100\n",
      "Train Loss: 2.4818, Train Acc: 70.64%\n",
      "Val Loss: 2.5236, Val Acc: 66.39%\n",
      "验证损失改善 (2.5283 → 2.5236). 保存模型...\n",
      "Starting epoch 28/100\n"
     ]
    },
    {
     "name": "stderr",
     "output_type": "stream",
     "text": [
      "Epoch 28 Training: 100%|██████████| 89/89 [00:29<00:00,  2.97it/s, loss=2.57]\n",
      "Validating: 100%|██████████| 23/23 [00:16<00:00,  1.44it/s, loss=2.39]\n"
     ]
    },
    {
     "name": "stdout",
     "output_type": "stream",
     "text": [
      "Epoch 28/100\n",
      "Train Loss: 2.4833, Train Acc: 68.32%\n",
      "Val Loss: 2.5141, Val Acc: 65.12%\n",
      "验证损失改善 (2.5236 → 2.5141). 保存模型...\n",
      "Starting epoch 29/100\n"
     ]
    },
    {
     "name": "stderr",
     "output_type": "stream",
     "text": [
      "Epoch 29 Training: 100%|██████████| 89/89 [00:30<00:00,  2.93it/s, loss=2.18]\n",
      "Validating: 100%|██████████| 23/23 [00:16<00:00,  1.44it/s, loss=2.67]\n"
     ]
    },
    {
     "name": "stdout",
     "output_type": "stream",
     "text": [
      "Epoch 29/100\n",
      "Train Loss: 2.4687, Train Acc: 69.51%\n",
      "Val Loss: 2.5204, Val Acc: 67.09%\n",
      "EarlyStopping counter: 1/5\n",
      "Starting epoch 30/100\n"
     ]
    },
    {
     "name": "stderr",
     "output_type": "stream",
     "text": [
      "Epoch 30 Training: 100%|██████████| 89/89 [00:29<00:00,  2.98it/s, loss=2.3] \n",
      "Validating: 100%|██████████| 23/23 [00:16<00:00,  1.43it/s, loss=2.28]\n"
     ]
    },
    {
     "name": "stdout",
     "output_type": "stream",
     "text": [
      "Epoch 30/100\n",
      "Train Loss: 2.4442, Train Acc: 69.69%\n",
      "Val Loss: 2.4947, Val Acc: 66.67%\n",
      "验证损失改善 (2.5141 → 2.4947). 保存模型...\n",
      "Starting epoch 31/100\n"
     ]
    },
    {
     "name": "stderr",
     "output_type": "stream",
     "text": [
      "Epoch 31 Training: 100%|██████████| 89/89 [00:29<00:00,  2.99it/s, loss=2.29]\n",
      "Validating: 100%|██████████| 23/23 [00:15<00:00,  1.50it/s, loss=2.35]\n"
     ]
    },
    {
     "name": "stdout",
     "output_type": "stream",
     "text": [
      "Epoch 31/100\n",
      "Train Loss: 2.4595, Train Acc: 69.37%\n",
      "Val Loss: 2.5118, Val Acc: 66.24%\n",
      "EarlyStopping counter: 1/5\n",
      "Starting epoch 32/100\n"
     ]
    },
    {
     "name": "stderr",
     "output_type": "stream",
     "text": [
      "Epoch 32 Training: 100%|██████████| 89/89 [00:29<00:00,  3.03it/s, loss=2.47]\n",
      "Validating: 100%|██████████| 23/23 [00:15<00:00,  1.45it/s, loss=2.78]\n"
     ]
    },
    {
     "name": "stdout",
     "output_type": "stream",
     "text": [
      "Epoch 32/100\n",
      "Train Loss: 2.4486, Train Acc: 69.59%\n",
      "Val Loss: 2.4860, Val Acc: 65.40%\n",
      "验证损失改善 (2.4947 → 2.4860). 保存模型...\n",
      "Starting epoch 33/100\n"
     ]
    },
    {
     "name": "stderr",
     "output_type": "stream",
     "text": [
      "Epoch 33 Training: 100%|██████████| 89/89 [00:29<00:00,  3.05it/s, loss=2.34]\n",
      "Validating: 100%|██████████| 23/23 [00:15<00:00,  1.50it/s, loss=2.6] \n"
     ]
    },
    {
     "name": "stdout",
     "output_type": "stream",
     "text": [
      "Epoch 33/100\n",
      "Train Loss: 2.4367, Train Acc: 70.82%\n",
      "Val Loss: 2.5057, Val Acc: 64.56%\n",
      "EarlyStopping counter: 1/5\n",
      "Starting epoch 34/100\n"
     ]
    },
    {
     "name": "stderr",
     "output_type": "stream",
     "text": [
      "Epoch 34 Training: 100%|██████████| 89/89 [00:32<00:00,  2.71it/s, loss=2.73]\n",
      "Validating: 100%|██████████| 23/23 [00:17<00:00,  1.32it/s, loss=2.4] \n"
     ]
    },
    {
     "name": "stdout",
     "output_type": "stream",
     "text": [
      "Epoch 34/100\n",
      "Train Loss: 2.4256, Train Acc: 70.89%\n",
      "Val Loss: 2.4820, Val Acc: 65.68%\n",
      "验证损失改善 (2.4860 → 2.4820). 保存模型...\n",
      "Starting epoch 35/100\n"
     ]
    },
    {
     "name": "stderr",
     "output_type": "stream",
     "text": [
      "Epoch 35 Training: 100%|██████████| 89/89 [00:32<00:00,  2.72it/s, loss=2.47]\n",
      "Validating: 100%|██████████| 23/23 [00:17<00:00,  1.35it/s, loss=2.5] \n"
     ]
    },
    {
     "name": "stdout",
     "output_type": "stream",
     "text": [
      "Epoch 35/100\n",
      "Train Loss: 2.4361, Train Acc: 69.76%\n",
      "Val Loss: 2.4830, Val Acc: 66.10%\n",
      "EarlyStopping counter: 1/5\n",
      "Starting epoch 36/100\n"
     ]
    },
    {
     "name": "stderr",
     "output_type": "stream",
     "text": [
      "Epoch 36 Training: 100%|██████████| 89/89 [00:33<00:00,  2.65it/s, loss=2.42]\n",
      "Validating: 100%|██████████| 23/23 [00:17<00:00,  1.35it/s, loss=2.29]\n"
     ]
    },
    {
     "name": "stdout",
     "output_type": "stream",
     "text": [
      "Epoch 36/100\n",
      "Train Loss: 2.4284, Train Acc: 70.29%\n",
      "Val Loss: 2.4710, Val Acc: 66.67%\n",
      "验证损失改善 (2.4820 → 2.4710). 保存模型...\n",
      "Starting epoch 37/100\n"
     ]
    },
    {
     "name": "stderr",
     "output_type": "stream",
     "text": [
      "Epoch 37 Training: 100%|██████████| 89/89 [00:32<00:00,  2.72it/s, loss=2.57]\n",
      "Validating: 100%|██████████| 23/23 [00:17<00:00,  1.34it/s, loss=2.42]\n"
     ]
    },
    {
     "name": "stdout",
     "output_type": "stream",
     "text": [
      "Epoch 37/100\n",
      "Train Loss: 2.4237, Train Acc: 70.11%\n",
      "Val Loss: 2.5134, Val Acc: 62.45%\n",
      "EarlyStopping counter: 1/5\n",
      "Starting epoch 38/100\n"
     ]
    },
    {
     "name": "stderr",
     "output_type": "stream",
     "text": [
      "Epoch 38 Training: 100%|██████████| 89/89 [00:33<00:00,  2.65it/s, loss=2.3] \n",
      "Validating: 100%|██████████| 23/23 [00:17<00:00,  1.31it/s, loss=2.34]\n"
     ]
    },
    {
     "name": "stdout",
     "output_type": "stream",
     "text": [
      "Epoch 38/100\n",
      "Train Loss: 2.4275, Train Acc: 70.29%\n",
      "Val Loss: 2.4542, Val Acc: 66.10%\n",
      "验证损失改善 (2.4710 → 2.4542). 保存模型...\n",
      "Starting epoch 39/100\n"
     ]
    },
    {
     "name": "stderr",
     "output_type": "stream",
     "text": [
      "Epoch 39 Training: 100%|██████████| 89/89 [00:33<00:00,  2.63it/s, loss=2.51]\n",
      "Validating: 100%|██████████| 23/23 [00:17<00:00,  1.32it/s, loss=2.36]\n"
     ]
    },
    {
     "name": "stdout",
     "output_type": "stream",
     "text": [
      "Epoch 39/100\n",
      "Train Loss: 2.4073, Train Acc: 69.87%\n",
      "Val Loss: 2.4651, Val Acc: 68.21%\n",
      "EarlyStopping counter: 1/5\n",
      "Starting epoch 40/100\n"
     ]
    },
    {
     "name": "stderr",
     "output_type": "stream",
     "text": [
      "Epoch 40 Training: 100%|██████████| 89/89 [00:33<00:00,  2.67it/s, loss=2.48]\n",
      "Validating: 100%|██████████| 23/23 [00:16<00:00,  1.35it/s, loss=2.63]\n"
     ]
    },
    {
     "name": "stdout",
     "output_type": "stream",
     "text": [
      "Epoch 40/100\n",
      "Train Loss: 2.4256, Train Acc: 69.51%\n",
      "Val Loss: 2.4623, Val Acc: 66.10%\n",
      "EarlyStopping counter: 2/5\n",
      "Starting epoch 41/100\n"
     ]
    },
    {
     "name": "stderr",
     "output_type": "stream",
     "text": [
      "Epoch 41 Training: 100%|██████████| 89/89 [00:33<00:00,  2.65it/s, loss=2.47]\n",
      "Validating: 100%|██████████| 23/23 [00:18<00:00,  1.27it/s, loss=2.44]\n"
     ]
    },
    {
     "name": "stdout",
     "output_type": "stream",
     "text": [
      "Epoch 41/100\n",
      "Train Loss: 2.4104, Train Acc: 71.24%\n",
      "Val Loss: 2.4643, Val Acc: 66.39%\n",
      "EarlyStopping counter: 3/5\n",
      "Starting epoch 42/100\n"
     ]
    },
    {
     "name": "stderr",
     "output_type": "stream",
     "text": [
      "Epoch 42 Training: 100%|██████████| 89/89 [00:33<00:00,  2.69it/s, loss=2.57]\n",
      "Validating: 100%|██████████| 23/23 [00:16<00:00,  1.43it/s, loss=2.37]\n"
     ]
    },
    {
     "name": "stdout",
     "output_type": "stream",
     "text": [
      "Epoch 42/100\n",
      "Train Loss: 2.4143, Train Acc: 70.50%\n",
      "Val Loss: 2.4812, Val Acc: 62.59%\n",
      "EarlyStopping counter: 4/5\n",
      "Starting epoch 43/100\n"
     ]
    },
    {
     "name": "stderr",
     "output_type": "stream",
     "text": [
      "Epoch 43 Training: 100%|██████████| 89/89 [00:29<00:00,  3.04it/s, loss=2.72]\n",
      "Validating: 100%|██████████| 23/23 [00:15<00:00,  1.50it/s, loss=3.01]"
     ]
    },
    {
     "name": "stdout",
     "output_type": "stream",
     "text": [
      "Epoch 43/100\n",
      "Train Loss: 2.4194, Train Acc: 70.08%\n",
      "Val Loss: 2.4896, Val Acc: 64.56%\n",
      "EarlyStopping counter: 5/5\n",
      "早停触发，停止训练\n"
     ]
    },
    {
     "name": "stderr",
     "output_type": "stream",
     "text": [
      "\n"
     ]
    }
   ],
   "source": [
    "from tqdm import tqdm\n",
    "#轮数\n",
    "num_epochs=100\n",
    "\n",
    "# 解冻计划：每N个epoch解冻一层\n",
    "unfreeze_interval = 5\n",
    "\n",
    "# 训练模型\n",
    "for epoch in range(num_epochs):  # 假设训练5个epoch\n",
    "    print(f\"Starting epoch {epoch+1}/{num_epochs}\")\n",
    "    model.train()\n",
    "    train_loss=0.0\n",
    "    train_correct=0\n",
    "    train_total=0\n",
    "    \n",
    "    \n",
    "    train_bar = tqdm(train_loader, desc=f\"Epoch {epoch+1} Training\")\n",
    "\n",
    "    for inputs, labels in train_bar:\n",
    "        inputs = inputs.to(device)  # 将输入数据移动到 GPU\n",
    "        labels = labels.to(device)  # 将标签数据移动到 GPU\n",
    "\n",
    "        optimizer.zero_grad() #清零梯度\n",
    "        outputs = model(inputs) #前向传播\n",
    "        logits=outputs.logits\n",
    "\n",
    "        loss = criterion(logits, labels) #损失计算\n",
    "        loss.backward() #反向传播\n",
    "        optimizer.step() #更新参数\n",
    "\n",
    "        train_loss+=loss.item()\n",
    "        _, predicted = torch.max(logits, 1)\n",
    "        train_total += labels.size(0)\n",
    "        train_correct += (predicted == labels).sum().item()\n",
    "\n",
    "        # 更新进度条\n",
    "        train_bar.set_postfix(loss=loss.item())\n",
    "        train_bar.update(1)\n",
    "\n",
    "    train_loss = train_loss / len(train_loader)\n",
    "    train_acc = 100 * train_correct / train_total\n",
    "    \n",
    "    # 验证阶段\n",
    "    model.eval()\n",
    "    val_loss = 0.0\n",
    "    val_correct = 0\n",
    "    val_total = 0\n",
    "    \n",
    "    val_bar = tqdm(val_loader, desc=\"Validating\")\n",
    "    with torch.no_grad():\n",
    "        for inputs, labels in val_bar:\n",
    "            inputs, labels = inputs.to(device), labels.to(device)\n",
    "            \n",
    "            outputs = model(inputs)\n",
    "            logits=outputs.logits\n",
    "\n",
    "            loss = criterion(logits, labels)\n",
    "            \n",
    "            val_loss += loss.item()\n",
    "            _, predicted = torch.max(logits, 1)\n",
    "            val_total += labels.size(0)\n",
    "            val_correct += (predicted == labels).sum().item()\n",
    "            \n",
    "            val_bar.set_postfix(loss=loss.item())\n",
    "\n",
    "    val_loss = val_loss / len(val_loader)\n",
    "    val_acc = 100 * val_correct / val_total\n",
    "    \n",
    "    print(f'Epoch {epoch+1}/{num_epochs}')\n",
    "    print(f'Train Loss: {train_loss:.4f}, Train Acc: {train_acc:.2f}%')\n",
    "    print(f'Val Loss: {val_loss:.4f}, Val Acc: {val_acc:.2f}%')\n",
    "    \n",
    "    scheduler.step()\n",
    "\n",
    "    # 早停机制检查\n",
    "    early_stopping(val_loss, model)\n",
    "    if early_stopping.early_stop:\n",
    "        print(\"早停触发，停止训练\")\n",
    "        break\n",
    "\n",
    "    \n",
    "\n"
   ]
  },
  {
   "cell_type": "markdown",
   "metadata": {},
   "source": [
    "---\n",
    "# 6. 模型评估"
   ]
  },
  {
   "cell_type": "markdown",
   "metadata": {},
   "source": [
    "## 6.1 模型加载"
   ]
  },
  {
   "cell_type": "code",
   "execution_count": 21,
   "metadata": {},
   "outputs": [
    {
     "name": "stderr",
     "output_type": "stream",
     "text": [
      "Some weights of ViTForImageClassification were not initialized from the model checkpoint at google/vit-base-patch16-224-in21k and are newly initialized: ['classifier.bias', 'classifier.weight']\n",
      "You should probably TRAIN this model on a down-stream task to be able to use it for predictions and inference.\n"
     ]
    }
   ],
   "source": [
    "# 模型加载修改\n",
    "model = ViTForImageClassification.from_pretrained(\n",
    "    'google/vit-base-patch16-224-in21k',\n",
    "    num_labels=100,\n",
    "    ignore_mismatched_sizes=True\n",
    ")\n",
    "model.load_state_dict(torch.load('best_model.pth'))\n",
    "model = model.to(device)"
   ]
  },
  {
   "cell_type": "markdown",
   "metadata": {},
   "source": [
    "## 6.2 推理预测"
   ]
  },
  {
   "cell_type": "code",
   "execution_count": 22,
   "metadata": {},
   "outputs": [],
   "source": [
    "model=model.to(device)\n",
    "model.eval()\n",
    "predicts = []\n",
    "idx = []\n",
    "\n",
    "# 对测试集中的每张图像进行预测\n",
    "with torch.no_grad():\n",
    "    for img_name in test_images:\n",
    "        img_path = os.path.join(test_folder, img_name)        \n",
    "        image = Image.open(img_path).convert('RGB')  # 以RGB模式打开图像\n",
    "        image = transform(image).unsqueeze(0).to(device)  # 应用预处理并增加batch维度\n",
    "        outputs = model(image)\n",
    "        logits=outputs.logits\n",
    "\n",
    "        _, predicted = torch.max(logits, 1)\n",
    "        predicts.append(predicted.item())\n",
    "        idx.append(img_name.replace('.jpg', ''))  # 去掉文件扩展名作为ID\n"
   ]
  },
  {
   "cell_type": "markdown",
   "metadata": {},
   "source": [
    "## 6.3 结果保存"
   ]
  },
  {
   "cell_type": "code",
   "execution_count": 23,
   "metadata": {},
   "outputs": [
    {
     "data": {
      "text/html": [
       "<div>\n",
       "<style scoped>\n",
       "    .dataframe tbody tr th:only-of-type {\n",
       "        vertical-align: middle;\n",
       "    }\n",
       "\n",
       "    .dataframe tbody tr th {\n",
       "        vertical-align: top;\n",
       "    }\n",
       "\n",
       "    .dataframe thead th {\n",
       "        text-align: right;\n",
       "    }\n",
       "</style>\n",
       "<table border=\"1\" class=\"dataframe\">\n",
       "  <thead>\n",
       "    <tr style=\"text-align: right;\">\n",
       "      <th></th>\n",
       "      <th>id</th>\n",
       "      <th>label</th>\n",
       "    </tr>\n",
       "  </thead>\n",
       "  <tbody>\n",
       "    <tr>\n",
       "      <th>0</th>\n",
       "      <td>0</td>\n",
       "      <td>56</td>\n",
       "    </tr>\n",
       "    <tr>\n",
       "      <th>1</th>\n",
       "      <td>1</td>\n",
       "      <td>39</td>\n",
       "    </tr>\n",
       "    <tr>\n",
       "      <th>237</th>\n",
       "      <td>2</td>\n",
       "      <td>33</td>\n",
       "    </tr>\n",
       "    <tr>\n",
       "      <th>348</th>\n",
       "      <td>3</td>\n",
       "      <td>78</td>\n",
       "    </tr>\n",
       "    <tr>\n",
       "      <th>459</th>\n",
       "      <td>4</td>\n",
       "      <td>52</td>\n",
       "    </tr>\n",
       "    <tr>\n",
       "      <th>...</th>\n",
       "      <td>...</td>\n",
       "      <td>...</td>\n",
       "    </tr>\n",
       "    <tr>\n",
       "      <th>137</th>\n",
       "      <td>1120</td>\n",
       "      <td>41</td>\n",
       "    </tr>\n",
       "    <tr>\n",
       "      <th>138</th>\n",
       "      <td>1121</td>\n",
       "      <td>54</td>\n",
       "    </tr>\n",
       "    <tr>\n",
       "      <th>139</th>\n",
       "      <td>1122</td>\n",
       "      <td>86</td>\n",
       "    </tr>\n",
       "    <tr>\n",
       "      <th>140</th>\n",
       "      <td>1123</td>\n",
       "      <td>26</td>\n",
       "    </tr>\n",
       "    <tr>\n",
       "      <th>141</th>\n",
       "      <td>1124</td>\n",
       "      <td>74</td>\n",
       "    </tr>\n",
       "  </tbody>\n",
       "</table>\n",
       "<p>1125 rows × 2 columns</p>\n",
       "</div>"
      ],
      "text/plain": [
       "       id  label\n",
       "0       0     56\n",
       "1       1     39\n",
       "237     2     33\n",
       "348     3     78\n",
       "459     4     52\n",
       "..    ...    ...\n",
       "137  1120     41\n",
       "138  1121     54\n",
       "139  1122     86\n",
       "140  1123     26\n",
       "141  1124     74\n",
       "\n",
       "[1125 rows x 2 columns]"
      ]
     },
     "execution_count": 23,
     "metadata": {},
     "output_type": "execute_result"
    }
   ],
   "source": [
    "# 保存预测结果到CSV文件\n",
    "submission = pd.DataFrame({'id': idx, 'label': predicts})\n",
    "submission['id']=submission['id'].astype(int)\n",
    "submission=submission.sort_values(by='id')\n",
    "submission"
   ]
  },
  {
   "cell_type": "code",
   "execution_count": 24,
   "metadata": {},
   "outputs": [],
   "source": [
    "submission.to_csv(subdir + student_id + 'submission_{}.csv'.format(\n",
    "    datetime.datetime.now().strftime('%Y%m%d_%H%M%S')),\n",
    "                index=False)"
   ]
  },
  {
   "cell_type": "markdown",
   "metadata": {},
   "source": [
    "---\n",
    "# 7. 陈述总结"
   ]
  }
 ],
 "metadata": {
  "kernelspec": {
   "display_name": "Deep",
   "language": "python",
   "name": "python3"
  },
  "language_info": {
   "codemirror_mode": {
    "name": "ipython",
    "version": 3
   },
   "file_extension": ".py",
   "mimetype": "text/x-python",
   "name": "python",
   "nbconvert_exporter": "python",
   "pygments_lexer": "ipython3",
   "version": "3.11.5"
  }
 },
 "nbformat": 4,
 "nbformat_minor": 2
}
