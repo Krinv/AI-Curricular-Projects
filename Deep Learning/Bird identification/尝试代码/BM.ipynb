{
 "cells": [
  {
   "cell_type": "markdown",
   "metadata": {},
   "source": [
    "## 深度学习报告\n",
    "作业报告基于B榜最优分数编写，用中文完成（可附带英文版本），整合在Jupyter notebook文件，至少包括以下部分：\n",
    "- 数据预处理\n",
    "- 数据可视化\n",
    "- 模型构建\n",
    "- 模型训练\n",
    "- 模型评估\n",
    "- 陈述总结\n",
    "- 参考文献，注意全部列出的参考文献需在文中引用。\n"
   ]
  },
  {
   "cell_type": "markdown",
   "metadata": {},
   "source": [
    "---\n",
    "# 1. 库\n"
   ]
  },
  {
   "cell_type": "code",
   "execution_count": 1,
   "metadata": {},
   "outputs": [
    {
     "name": "stderr",
     "output_type": "stream",
     "text": [
      "c:\\Softwares\\Anaconda\\envs\\Deep\\Lib\\site-packages\\tqdm\\auto.py:21: TqdmWarning: IProgress not found. Please update jupyter and ipywidgets. See https://ipywidgets.readthedocs.io/en/stable/user_install.html\n",
      "  from .autonotebook import tqdm as notebook_tqdm\n"
     ]
    }
   ],
   "source": [
    "import torch\n",
    "import torchvision\n",
    "import torchvision.transforms as transforms\n",
    "import torch.nn as nn\n",
    "import torch.optim as optim\n",
    "from torch.utils.data import DataLoader\n",
    "import torchvision.models as models\n",
    "from torchtoolbox.transform import Cutout\n",
    "import os\n",
    "from PIL import Image \n",
    "import pandas as pd\n",
    "from PIL import Image \n",
    "import pandas\n",
    "import datetime\n",
    "from torch.utils.data import random_split\n",
    "\n",
    "\n",
    "from transformers import ViTFeatureExtractor, ViTForImageClassification"
   ]
  },
  {
   "cell_type": "markdown",
   "metadata": {},
   "source": [
    "---\n",
    "# 2. 数据导入与处理"
   ]
  },
  {
   "cell_type": "markdown",
   "metadata": {},
   "source": [
    "## 2.1 数据预处理"
   ]
  },
  {
   "cell_type": "code",
   "execution_count": 2,
   "metadata": {},
   "outputs": [],
   "source": [
    "transform = transforms.Compose([\n",
    "    transforms.Resize(256),\n",
    "    transforms.CenterCrop(224),\n",
    "    transforms.RandomHorizontalFlip(),\n",
    "    transforms.ColorJitter(brightness=0.4, contrast=0.4, saturation=0.4),\n",
    "    Cutout(), #遮挡增强\n",
    "    transforms.ToTensor(),\n",
    "    transforms.Normalize(mean=[0.5, 0.5, 0.5], std=[ 0.5,  0.5,  0.5])\n",
    "])"
   ]
  },
  {
   "cell_type": "markdown",
   "metadata": {},
   "source": [
    "## 2.2 学号信息"
   ]
  },
  {
   "cell_type": "code",
   "execution_count": 3,
   "metadata": {},
   "outputs": [],
   "source": [
    "#22211360121-李凯荣-22人工智能1班\n",
    "student_id = '22211360121'\n",
    "#生成路径\n",
    "subdir = ''"
   ]
  },
  {
   "cell_type": "markdown",
   "metadata": {},
   "source": [
    "## 2.3 训练数据集"
   ]
  },
  {
   "cell_type": "code",
   "execution_count": 4,
   "metadata": {},
   "outputs": [],
   "source": [
    "# 加载数据集\n",
    "full_dataset = torchvision.datasets.ImageFolder(root='new data/train', transform=transform)\n"
   ]
  },
  {
   "cell_type": "code",
   "execution_count": 5,
   "metadata": {},
   "outputs": [],
   "source": [
    "# 训练数据集划分\n",
    "train_size=int(0.8 * len(full_dataset))\n",
    "val_size = len(full_dataset) - train_size\n",
    "train_dataset, val_dataset = random_split(full_dataset, [train_size, val_size])"
   ]
  },
  {
   "cell_type": "code",
   "execution_count": 6,
   "metadata": {},
   "outputs": [],
   "source": [
    "train_loader = DataLoader(train_dataset, batch_size=32, shuffle=True, num_workers=4,pin_memory=True)\n",
    "val_loader = DataLoader(val_dataset, batch_size=32, shuffle=False, num_workers=4, pin_memory=True)"
   ]
  },
  {
   "cell_type": "code",
   "execution_count": 7,
   "metadata": {},
   "outputs": [
    {
     "name": "stdout",
     "output_type": "stream",
     "text": [
      "训练集大小: 2844, 验证集大小: 711\n"
     ]
    }
   ],
   "source": [
    "print(f\"训练集大小: {len(train_dataset)}, 验证集大小: {len(val_dataset)}\")"
   ]
  },
  {
   "cell_type": "code",
   "execution_count": 8,
   "metadata": {},
   "outputs": [
    {
     "name": "stdout",
     "output_type": "stream",
     "text": [
      "Number of batches in train_loader: 89\n"
     ]
    }
   ],
   "source": [
    "print(f\"Number of batches in train_loader: {len(train_loader)}\")"
   ]
  },
  {
   "cell_type": "code",
   "execution_count": 9,
   "metadata": {},
   "outputs": [
    {
     "name": "stdout",
     "output_type": "stream",
     "text": [
      "Dataset size: 2844\n"
     ]
    }
   ],
   "source": [
    "print(f\"Dataset size: {len(train_loader.dataset)}\")"
   ]
  },
  {
   "cell_type": "markdown",
   "metadata": {},
   "source": [
    "## 2.4 测试数据集 A"
   ]
  },
  {
   "cell_type": "code",
   "execution_count": 10,
   "metadata": {},
   "outputs": [],
   "source": [
    "# 加载测试集\n",
    "test_folder = 'new data/testA'\n",
    "test_images = [img for img in os.listdir(test_folder) if img.endswith('.jpg')]"
   ]
  },
  {
   "cell_type": "markdown",
   "metadata": {},
   "source": [
    "## 2.5 其他"
   ]
  },
  {
   "cell_type": "code",
   "execution_count": 11,
   "metadata": {},
   "outputs": [
    {
     "name": "stdout",
     "output_type": "stream",
     "text": [
      "Using device: cuda\n"
     ]
    }
   ],
   "source": [
    "device = torch.device(\"cuda\" if torch.cuda.is_available() else \"cpu\")\n",
    "print(f\"Using device: {device}\")"
   ]
  },
  {
   "cell_type": "markdown",
   "metadata": {},
   "source": [
    "---\n",
    "# 3. 数据可视化"
   ]
  },
  {
   "cell_type": "code",
   "execution_count": null,
   "metadata": {},
   "outputs": [],
   "source": []
  },
  {
   "cell_type": "code",
   "execution_count": null,
   "metadata": {},
   "outputs": [],
   "source": []
  },
  {
   "cell_type": "markdown",
   "metadata": {},
   "source": [
    "---\n",
    "# 4. 模型构建"
   ]
  },
  {
   "cell_type": "markdown",
   "metadata": {},
   "source": [
    "## 4.1 模型"
   ]
  },
  {
   "cell_type": "code",
   "execution_count": 12,
   "metadata": {},
   "outputs": [
    {
     "name": "stderr",
     "output_type": "stream",
     "text": [
      "c:\\Softwares\\Anaconda\\envs\\Deep\\Lib\\site-packages\\huggingface_hub\\file_download.py:943: FutureWarning: `resume_download` is deprecated and will be removed in version 1.0.0. Downloads always resume when possible. If you want to force a new download, use `force_download=True`.\n",
      "  warnings.warn(\n",
      "c:\\Softwares\\Anaconda\\envs\\Deep\\Lib\\site-packages\\huggingface_hub\\file_download.py:143: UserWarning: `huggingface_hub` cache-system uses symlinks by default to efficiently store duplicated files but your machine does not support them in C:\\Users\\Krinv\\.cache\\huggingface\\hub\\models--Hemg--Birds-Classification. Caching files will still work but in a degraded version that might require more space on your disk. This warning can be disabled by setting the `HF_HUB_DISABLE_SYMLINKS_WARNING` environment variable. For more details, see https://huggingface.co/docs/huggingface_hub/how-to-cache#limitations.\n",
      "To support symlinks on Windows, you either need to activate Developer Mode or to run Python as an administrator. In order to activate developer mode, see this article: https://docs.microsoft.com/en-us/windows/apps/get-started/enable-your-device-for-development\n",
      "  warnings.warn(message)\n"
     ]
    }
   ],
   "source": [
    "# Use a pipeline as a high-level helper\n",
    "from transformers import pipeline\n",
    "\n",
    "pipe = pipeline(\"image-classification\", model=\"Hemg/Birds-Classification\")"
   ]
  },
  {
   "cell_type": "code",
   "execution_count": 16,
   "metadata": {},
   "outputs": [
    {
     "name": "stderr",
     "output_type": "stream",
     "text": [
      "Some weights of ViTForImageClassification were not initialized from the model checkpoint at Hemg/Birds-Classification and are newly initialized because the shapes did not match:\n",
      "- classifier.bias: found shape torch.Size([526]) in the checkpoint and torch.Size([100]) in the model instantiated\n",
      "- classifier.weight: found shape torch.Size([526, 768]) in the checkpoint and torch.Size([100, 768]) in the model instantiated\n",
      "You should probably TRAIN this model on a down-stream task to be able to use it for predictions and inference.\n"
     ]
    }
   ],
   "source": [
    "# Load model directly\n",
    "from transformers import AutoImageProcessor, AutoModelForImageClassification\n",
    "\n",
    "processor = AutoImageProcessor.from_pretrained(\"Hemg/Birds-Classification\")\n",
    "model = AutoModelForImageClassification.from_pretrained(\"Hemg/Birds-Classification\",num_labels=100,  # 100个鸟类类别\n",
    "    ignore_mismatched_sizes=True)"
   ]
  },
  {
   "cell_type": "code",
   "execution_count": 17,
   "metadata": {},
   "outputs": [],
   "source": [
    "# 冻结除最后4层外的所有层\n",
    "for name, param in model.named_parameters():\n",
    "    # 解冻分类头层\n",
    "    if 'classifier' in name:\n",
    "        param.requires_grad = True\n",
    "    # 解冻最后4个Transformer块\n",
    "    elif 'encoder.layer.20' in name or 'encoder.layer.21' in name or \\\n",
    "        'encoder.layer.22' in name or 'encoder.layer.23' in name:\n",
    "        param.requires_grad = True\n",
    "    else:\n",
    "        param.requires_grad = False  # 冻结其他层\n",
    "\n",
    "# 将模型移至设备\n",
    "model = model.to(device)"
   ]
  },
  {
   "cell_type": "markdown",
   "metadata": {},
   "source": [
    "## 4.2 损失函数与优化器"
   ]
  },
  {
   "cell_type": "code",
   "execution_count": 18,
   "metadata": {},
   "outputs": [],
   "source": [
    "# 定义损失函数和优化器\n",
    "criterion = nn.CrossEntropyLoss()\n",
    "optimizer = torch.optim.AdamW(\n",
    "    model.parameters(), \n",
    "    lr=5e-5,  # 更小的学习率\n",
    "    weight_decay=0.05,  # 更强的权重衰减\n",
    "    eps=1e-8  # 数值稳定性\n",
    ")\n",
    "scheduler = torch.optim.lr_scheduler.CosineAnnealingLR(\n",
    "    optimizer, \n",
    "    T_max=50,  # 半周期长度\n",
    "    eta_min=1e-6  # 最小学习率\n",
    ")"
   ]
  },
  {
   "cell_type": "markdown",
   "metadata": {},
   "source": [
    "---\n",
    "# 5. 模型训练"
   ]
  },
  {
   "cell_type": "markdown",
   "metadata": {},
   "source": [
    "## 5.1 设备"
   ]
  },
  {
   "cell_type": "code",
   "execution_count": 19,
   "metadata": {},
   "outputs": [],
   "source": [
    "#使用GPU\n",
    "device = torch.device(\"cuda\" if torch.cuda.is_available() else \"cpu\")\n",
    "model = model.to(device)"
   ]
  },
  {
   "cell_type": "markdown",
   "metadata": {},
   "source": [
    "## 5. 训练"
   ]
  },
  {
   "cell_type": "code",
   "execution_count": 20,
   "metadata": {},
   "outputs": [],
   "source": [
    "#早停机制\n",
    "class EarlyStopping:\n",
    "    def __init__(self, patience=5, verbose=True, delta=0, path='best_model.pth'):\n",
    "        self.patience = patience\n",
    "        self.verbose = verbose\n",
    "        self.counter = 0\n",
    "        self.best_score = None\n",
    "        self.early_stop = False\n",
    "        self.val_loss_min = float('inf')\n",
    "        self.delta = delta\n",
    "        self.path = path\n",
    "        \n",
    "    def __call__(self, val_loss, model):\n",
    "        score = -val_loss\n",
    "        \n",
    "        if self.best_score is None:\n",
    "            self.best_score = score\n",
    "            self.save_checkpoint(val_loss, model)\n",
    "        elif score < self.best_score + self.delta:\n",
    "            self.counter += 1\n",
    "            if self.verbose:\n",
    "                print(f'EarlyStopping counter: {self.counter}/{self.patience}')\n",
    "            if self.counter >= self.patience:\n",
    "                self.early_stop = True\n",
    "        else:\n",
    "            self.best_score = score\n",
    "            self.save_checkpoint(val_loss, model)\n",
    "            self.counter = 0\n",
    "            \n",
    "    def save_checkpoint(self, val_loss, model):\n",
    "        if self.verbose:\n",
    "            print(f'验证损失改善 ({self.val_loss_min:.4f} → {val_loss:.4f}). 保存模型...')\n",
    "        torch.save(model.state_dict(), self.path)\n",
    "        self.val_loss_min = val_loss\n",
    "\n",
    "# 初始化时指定保存路径\n",
    "early_stopping = EarlyStopping(patience=5, verbose=True, path='best_BM_model.pth')"
   ]
  },
  {
   "cell_type": "code",
   "execution_count": 22,
   "metadata": {},
   "outputs": [
    {
     "name": "stdout",
     "output_type": "stream",
     "text": [
      "Starting epoch 1/40\n"
     ]
    },
    {
     "name": "stderr",
     "output_type": "stream",
     "text": [
      "Epoch 1 Training: 100%|██████████| 89/89 [00:31<00:00,  2.86it/s, loss=2.74]\n",
      "Validating: 100%|██████████| 23/23 [00:16<00:00,  1.39it/s, loss=2.39]\n"
     ]
    },
    {
     "name": "stdout",
     "output_type": "stream",
     "text": [
      "Epoch 1/40\n",
      "Train Loss: 2.6258, Train Acc: 61.08%\n",
      "Val Loss: 2.6441, Val Acc: 55.98%\n",
      "验证损失改善 (2.7476 → 2.6441). 保存模型...\n",
      "Starting epoch 2/40\n"
     ]
    },
    {
     "name": "stderr",
     "output_type": "stream",
     "text": [
      "Epoch 2 Training: 100%|██████████| 89/89 [00:31<00:00,  2.81it/s, loss=2.61]\n",
      "Validating: 100%|██████████| 23/23 [00:16<00:00,  1.38it/s, loss=2.52]\n"
     ]
    },
    {
     "name": "stdout",
     "output_type": "stream",
     "text": [
      "Epoch 2/40\n",
      "Train Loss: 2.5158, Train Acc: 62.13%\n",
      "Val Loss: 2.5305, Val Acc: 57.67%\n",
      "验证损失改善 (2.6441 → 2.5305). 保存模型...\n",
      "Starting epoch 3/40\n"
     ]
    },
    {
     "name": "stderr",
     "output_type": "stream",
     "text": [
      "Epoch 3 Training: 100%|██████████| 89/89 [00:31<00:00,  2.78it/s, loss=2.27]\n",
      "Validating: 100%|██████████| 23/23 [00:16<00:00,  1.36it/s, loss=2.26]\n"
     ]
    },
    {
     "name": "stdout",
     "output_type": "stream",
     "text": [
      "Epoch 3/40\n",
      "Train Loss: 2.3981, Train Acc: 63.68%\n",
      "Val Loss: 2.4304, Val Acc: 59.77%\n",
      "验证损失改善 (2.5305 → 2.4304). 保存模型...\n",
      "Starting epoch 4/40\n"
     ]
    },
    {
     "name": "stderr",
     "output_type": "stream",
     "text": [
      "Epoch 4 Training: 100%|██████████| 89/89 [00:32<00:00,  2.78it/s, loss=2.06]\n",
      "Validating: 100%|██████████| 23/23 [00:16<00:00,  1.36it/s, loss=2.28]\n"
     ]
    },
    {
     "name": "stdout",
     "output_type": "stream",
     "text": [
      "Epoch 4/40\n",
      "Train Loss: 2.3151, Train Acc: 63.85%\n",
      "Val Loss: 2.3726, Val Acc: 59.07%\n",
      "验证损失改善 (2.4304 → 2.3726). 保存模型...\n",
      "Starting epoch 5/40\n"
     ]
    },
    {
     "name": "stderr",
     "output_type": "stream",
     "text": [
      "Epoch 5 Training: 100%|██████████| 89/89 [00:32<00:00,  2.77it/s, loss=2.3] \n",
      "Validating: 100%|██████████| 23/23 [00:16<00:00,  1.36it/s, loss=2.12]\n"
     ]
    },
    {
     "name": "stdout",
     "output_type": "stream",
     "text": [
      "Epoch 5/40\n",
      "Train Loss: 2.2374, Train Acc: 65.61%\n",
      "Val Loss: 2.2326, Val Acc: 62.59%\n",
      "验证损失改善 (2.3726 → 2.2326). 保存模型...\n",
      "Starting epoch 6/40\n"
     ]
    },
    {
     "name": "stderr",
     "output_type": "stream",
     "text": [
      "Epoch 6 Training: 100%|██████████| 89/89 [00:32<00:00,  2.76it/s, loss=1.87]\n",
      "Validating: 100%|██████████| 23/23 [00:16<00:00,  1.37it/s, loss=2.36]\n"
     ]
    },
    {
     "name": "stdout",
     "output_type": "stream",
     "text": [
      "Epoch 6/40\n",
      "Train Loss: 2.1561, Train Acc: 66.00%\n",
      "Val Loss: 2.2179, Val Acc: 61.46%\n",
      "验证损失改善 (2.2326 → 2.2179). 保存模型...\n",
      "Starting epoch 7/40\n"
     ]
    },
    {
     "name": "stderr",
     "output_type": "stream",
     "text": [
      "Epoch 7 Training: 100%|██████████| 89/89 [00:32<00:00,  2.77it/s, loss=2.23]\n",
      "Validating: 100%|██████████| 23/23 [00:16<00:00,  1.36it/s, loss=1.51]\n"
     ]
    },
    {
     "name": "stdout",
     "output_type": "stream",
     "text": [
      "Epoch 7/40\n",
      "Train Loss: 2.1040, Train Acc: 66.07%\n",
      "Val Loss: 2.0884, Val Acc: 64.84%\n",
      "验证损失改善 (2.2179 → 2.0884). 保存模型...\n",
      "Starting epoch 8/40\n"
     ]
    },
    {
     "name": "stderr",
     "output_type": "stream",
     "text": [
      "Epoch 8 Training: 100%|██████████| 89/89 [00:32<00:00,  2.77it/s, loss=2.02]\n",
      "Validating: 100%|██████████| 23/23 [00:16<00:00,  1.37it/s, loss=1.97]\n"
     ]
    },
    {
     "name": "stdout",
     "output_type": "stream",
     "text": [
      "Epoch 8/40\n",
      "Train Loss: 2.0393, Train Acc: 67.62%\n",
      "Val Loss: 2.1108, Val Acc: 65.68%\n",
      "EarlyStopping counter: 1/5\n",
      "Starting epoch 9/40\n"
     ]
    },
    {
     "name": "stderr",
     "output_type": "stream",
     "text": [
      "Epoch 9 Training: 100%|██████████| 89/89 [00:32<00:00,  2.74it/s, loss=1.73]\n",
      "Validating: 100%|██████████| 23/23 [00:16<00:00,  1.38it/s, loss=1.47]\n"
     ]
    },
    {
     "name": "stdout",
     "output_type": "stream",
     "text": [
      "Epoch 9/40\n",
      "Train Loss: 1.9837, Train Acc: 67.23%\n",
      "Val Loss: 1.9896, Val Acc: 63.85%\n",
      "验证损失改善 (2.0884 → 1.9896). 保存模型...\n",
      "Starting epoch 10/40\n"
     ]
    },
    {
     "name": "stderr",
     "output_type": "stream",
     "text": [
      "Epoch 10 Training: 100%|██████████| 89/89 [00:32<00:00,  2.70it/s, loss=1.42]\n",
      "Validating: 100%|██████████| 23/23 [00:16<00:00,  1.35it/s, loss=1.44]\n"
     ]
    },
    {
     "name": "stdout",
     "output_type": "stream",
     "text": [
      "Epoch 10/40\n",
      "Train Loss: 1.9654, Train Acc: 66.39%\n",
      "Val Loss: 2.0371, Val Acc: 63.01%\n",
      "EarlyStopping counter: 1/5\n",
      "Starting epoch 11/40\n"
     ]
    },
    {
     "name": "stderr",
     "output_type": "stream",
     "text": [
      "Epoch 11 Training: 100%|██████████| 89/89 [00:32<00:00,  2.71it/s, loss=2.18]\n",
      "Validating: 100%|██████████| 23/23 [00:17<00:00,  1.33it/s, loss=1.48]\n"
     ]
    },
    {
     "name": "stdout",
     "output_type": "stream",
     "text": [
      "Epoch 11/40\n",
      "Train Loss: 1.8975, Train Acc: 68.57%\n",
      "Val Loss: 1.9705, Val Acc: 64.28%\n",
      "验证损失改善 (1.9896 → 1.9705). 保存模型...\n",
      "Starting epoch 12/40\n"
     ]
    },
    {
     "name": "stderr",
     "output_type": "stream",
     "text": [
      "Epoch 12 Training: 100%|██████████| 89/89 [00:32<00:00,  2.71it/s, loss=1.8] \n",
      "Validating: 100%|██████████| 23/23 [00:16<00:00,  1.35it/s, loss=1.92]\n"
     ]
    },
    {
     "name": "stdout",
     "output_type": "stream",
     "text": [
      "Epoch 12/40\n",
      "Train Loss: 1.8665, Train Acc: 68.42%\n",
      "Val Loss: 1.9416, Val Acc: 65.40%\n",
      "验证损失改善 (1.9705 → 1.9416). 保存模型...\n",
      "Starting epoch 13/40\n"
     ]
    },
    {
     "name": "stderr",
     "output_type": "stream",
     "text": [
      "Epoch 13 Training: 100%|██████████| 89/89 [00:32<00:00,  2.77it/s, loss=1.87]\n",
      "Validating: 100%|██████████| 23/23 [00:16<00:00,  1.39it/s, loss=2.08]\n"
     ]
    },
    {
     "name": "stdout",
     "output_type": "stream",
     "text": [
      "Epoch 13/40\n",
      "Train Loss: 1.8408, Train Acc: 68.57%\n",
      "Val Loss: 1.9136, Val Acc: 66.10%\n",
      "验证损失改善 (1.9416 → 1.9136). 保存模型...\n",
      "Starting epoch 14/40\n"
     ]
    },
    {
     "name": "stderr",
     "output_type": "stream",
     "text": [
      "Epoch 14 Training: 100%|██████████| 89/89 [00:31<00:00,  2.84it/s, loss=1.89]\n",
      "Validating: 100%|██████████| 23/23 [00:16<00:00,  1.39it/s, loss=1.66]\n"
     ]
    },
    {
     "name": "stdout",
     "output_type": "stream",
     "text": [
      "Epoch 14/40\n",
      "Train Loss: 1.7843, Train Acc: 70.04%\n",
      "Val Loss: 1.8536, Val Acc: 63.57%\n",
      "验证损失改善 (1.9136 → 1.8536). 保存模型...\n",
      "Starting epoch 15/40\n"
     ]
    },
    {
     "name": "stderr",
     "output_type": "stream",
     "text": [
      "Epoch 15 Training: 100%|██████████| 89/89 [00:31<00:00,  2.81it/s, loss=1.8] \n",
      "Validating: 100%|██████████| 23/23 [00:16<00:00,  1.42it/s, loss=1.38]\n"
     ]
    },
    {
     "name": "stdout",
     "output_type": "stream",
     "text": [
      "Epoch 15/40\n",
      "Train Loss: 1.7762, Train Acc: 69.94%\n",
      "Val Loss: 1.8339, Val Acc: 67.23%\n",
      "验证损失改善 (1.8536 → 1.8339). 保存模型...\n",
      "Starting epoch 16/40\n"
     ]
    },
    {
     "name": "stderr",
     "output_type": "stream",
     "text": [
      "Epoch 16 Training: 100%|██████████| 89/89 [00:31<00:00,  2.85it/s, loss=1.99]\n",
      "Validating: 100%|██████████| 23/23 [00:17<00:00,  1.31it/s, loss=1.55]\n"
     ]
    },
    {
     "name": "stdout",
     "output_type": "stream",
     "text": [
      "Epoch 16/40\n",
      "Train Loss: 1.7121, Train Acc: 70.64%\n",
      "Val Loss: 1.8150, Val Acc: 65.82%\n",
      "验证损失改善 (1.8339 → 1.8150). 保存模型...\n",
      "Starting epoch 17/40\n"
     ]
    },
    {
     "name": "stderr",
     "output_type": "stream",
     "text": [
      "Epoch 17 Training: 100%|██████████| 89/89 [00:32<00:00,  2.74it/s, loss=1.95]\n",
      "Validating: 100%|██████████| 23/23 [00:16<00:00,  1.37it/s, loss=1.77]\n"
     ]
    },
    {
     "name": "stdout",
     "output_type": "stream",
     "text": [
      "Epoch 17/40\n",
      "Train Loss: 1.6987, Train Acc: 70.50%\n",
      "Val Loss: 1.7851, Val Acc: 65.96%\n",
      "验证损失改善 (1.8150 → 1.7851). 保存模型...\n",
      "Starting epoch 18/40\n"
     ]
    },
    {
     "name": "stderr",
     "output_type": "stream",
     "text": [
      "Epoch 18 Training: 100%|██████████| 89/89 [00:32<00:00,  2.71it/s, loss=1.48]\n",
      "Validating: 100%|██████████| 23/23 [00:16<00:00,  1.39it/s, loss=1.6] \n"
     ]
    },
    {
     "name": "stdout",
     "output_type": "stream",
     "text": [
      "Epoch 18/40\n",
      "Train Loss: 1.6868, Train Acc: 70.15%\n",
      "Val Loss: 1.7430, Val Acc: 68.07%\n",
      "验证损失改善 (1.7851 → 1.7430). 保存模型...\n",
      "Starting epoch 19/40\n"
     ]
    },
    {
     "name": "stderr",
     "output_type": "stream",
     "text": [
      "Epoch 19 Training: 100%|██████████| 89/89 [00:31<00:00,  2.86it/s, loss=1.4] \n",
      "Validating: 100%|██████████| 23/23 [00:16<00:00,  1.38it/s, loss=1.52]\n"
     ]
    },
    {
     "name": "stdout",
     "output_type": "stream",
     "text": [
      "Epoch 19/40\n",
      "Train Loss: 1.7084, Train Acc: 70.50%\n",
      "Val Loss: 1.7571, Val Acc: 68.92%\n",
      "EarlyStopping counter: 1/5\n",
      "Starting epoch 20/40\n"
     ]
    },
    {
     "name": "stderr",
     "output_type": "stream",
     "text": [
      "Epoch 20 Training: 100%|██████████| 89/89 [00:32<00:00,  2.76it/s, loss=1.44]\n",
      "Validating: 100%|██████████| 23/23 [00:16<00:00,  1.40it/s, loss=2.37]\n"
     ]
    },
    {
     "name": "stdout",
     "output_type": "stream",
     "text": [
      "Epoch 20/40\n",
      "Train Loss: 1.6782, Train Acc: 71.20%\n",
      "Val Loss: 1.7665, Val Acc: 66.53%\n",
      "EarlyStopping counter: 2/5\n",
      "Starting epoch 21/40\n"
     ]
    },
    {
     "name": "stderr",
     "output_type": "stream",
     "text": [
      "Epoch 21 Training: 100%|██████████| 89/89 [00:31<00:00,  2.79it/s, loss=1.68]\n",
      "Validating: 100%|██████████| 23/23 [00:16<00:00,  1.39it/s, loss=1.06]\n"
     ]
    },
    {
     "name": "stdout",
     "output_type": "stream",
     "text": [
      "Epoch 21/40\n",
      "Train Loss: 1.6670, Train Acc: 70.75%\n",
      "Val Loss: 1.7572, Val Acc: 65.40%\n",
      "EarlyStopping counter: 3/5\n",
      "Starting epoch 22/40\n"
     ]
    },
    {
     "name": "stderr",
     "output_type": "stream",
     "text": [
      "Epoch 22 Training: 100%|██████████| 89/89 [00:31<00:00,  2.83it/s, loss=1.35]\n",
      "Validating: 100%|██████████| 23/23 [00:18<00:00,  1.28it/s, loss=1.29]\n"
     ]
    },
    {
     "name": "stdout",
     "output_type": "stream",
     "text": [
      "Epoch 22/40\n",
      "Train Loss: 1.6067, Train Acc: 71.77%\n",
      "Val Loss: 1.7367, Val Acc: 68.21%\n",
      "验证损失改善 (1.7430 → 1.7367). 保存模型...\n",
      "Starting epoch 23/40\n"
     ]
    },
    {
     "name": "stderr",
     "output_type": "stream",
     "text": [
      "Epoch 23 Training: 100%|██████████| 89/89 [00:35<00:00,  2.50it/s, loss=1.4] \n",
      "Validating: 100%|██████████| 23/23 [00:17<00:00,  1.30it/s, loss=1.63]\n"
     ]
    },
    {
     "name": "stdout",
     "output_type": "stream",
     "text": [
      "Epoch 23/40\n",
      "Train Loss: 1.6029, Train Acc: 71.31%\n",
      "Val Loss: 1.6957, Val Acc: 67.79%\n",
      "验证损失改善 (1.7367 → 1.6957). 保存模型...\n",
      "Starting epoch 24/40\n"
     ]
    },
    {
     "name": "stderr",
     "output_type": "stream",
     "text": [
      "Epoch 24 Training: 100%|██████████| 89/89 [00:34<00:00,  2.55it/s, loss=1.73]\n",
      "Validating: 100%|██████████| 23/23 [00:17<00:00,  1.30it/s, loss=1.38]\n"
     ]
    },
    {
     "name": "stdout",
     "output_type": "stream",
     "text": [
      "Epoch 24/40\n",
      "Train Loss: 1.5987, Train Acc: 71.17%\n",
      "Val Loss: 1.6542, Val Acc: 67.93%\n",
      "验证损失改善 (1.6957 → 1.6542). 保存模型...\n",
      "Starting epoch 25/40\n"
     ]
    },
    {
     "name": "stderr",
     "output_type": "stream",
     "text": [
      "Epoch 25 Training: 100%|██████████| 89/89 [00:35<00:00,  2.52it/s, loss=1.3] \n",
      "Validating: 100%|██████████| 23/23 [00:17<00:00,  1.31it/s, loss=1.76]\n"
     ]
    },
    {
     "name": "stdout",
     "output_type": "stream",
     "text": [
      "Epoch 25/40\n",
      "Train Loss: 1.5919, Train Acc: 72.82%\n",
      "Val Loss: 1.7443, Val Acc: 64.84%\n",
      "EarlyStopping counter: 1/5\n",
      "Starting epoch 26/40\n"
     ]
    },
    {
     "name": "stderr",
     "output_type": "stream",
     "text": [
      "Epoch 26 Training: 100%|██████████| 89/89 [00:32<00:00,  2.71it/s, loss=1.59]\n",
      "Validating: 100%|██████████| 23/23 [00:16<00:00,  1.37it/s, loss=1.32]\n"
     ]
    },
    {
     "name": "stdout",
     "output_type": "stream",
     "text": [
      "Epoch 26/40\n",
      "Train Loss: 1.5808, Train Acc: 71.55%\n",
      "Val Loss: 1.6474, Val Acc: 66.24%\n",
      "验证损失改善 (1.6542 → 1.6474). 保存模型...\n",
      "Starting epoch 27/40\n"
     ]
    },
    {
     "name": "stderr",
     "output_type": "stream",
     "text": [
      "Epoch 27 Training: 100%|██████████| 89/89 [00:33<00:00,  2.66it/s, loss=1.51]\n",
      "Validating: 100%|██████████| 23/23 [00:16<00:00,  1.37it/s, loss=1.24]\n"
     ]
    },
    {
     "name": "stdout",
     "output_type": "stream",
     "text": [
      "Epoch 27/40\n",
      "Train Loss: 1.6061, Train Acc: 71.73%\n",
      "Val Loss: 1.6914, Val Acc: 66.53%\n",
      "EarlyStopping counter: 1/5\n",
      "Starting epoch 28/40\n"
     ]
    },
    {
     "name": "stderr",
     "output_type": "stream",
     "text": [
      "Epoch 28 Training: 100%|██████████| 89/89 [00:32<00:00,  2.77it/s, loss=1.42]\n",
      "Validating: 100%|██████████| 23/23 [00:17<00:00,  1.35it/s, loss=1.59]\n"
     ]
    },
    {
     "name": "stdout",
     "output_type": "stream",
     "text": [
      "Epoch 28/40\n",
      "Train Loss: 1.5677, Train Acc: 72.19%\n",
      "Val Loss: 1.6452, Val Acc: 67.93%\n",
      "验证损失改善 (1.6474 → 1.6452). 保存模型...\n",
      "Starting epoch 29/40\n"
     ]
    },
    {
     "name": "stderr",
     "output_type": "stream",
     "text": [
      "Epoch 29 Training: 100%|██████████| 89/89 [00:33<00:00,  2.63it/s, loss=1.45]\n",
      "Validating: 100%|██████████| 23/23 [00:17<00:00,  1.33it/s, loss=1.13]\n"
     ]
    },
    {
     "name": "stdout",
     "output_type": "stream",
     "text": [
      "Epoch 29/40\n",
      "Train Loss: 1.5718, Train Acc: 71.66%\n",
      "Val Loss: 1.7087, Val Acc: 65.54%\n",
      "EarlyStopping counter: 1/5\n",
      "Starting epoch 30/40\n"
     ]
    },
    {
     "name": "stderr",
     "output_type": "stream",
     "text": [
      "Epoch 30 Training: 100%|██████████| 89/89 [00:31<00:00,  2.79it/s, loss=1.21]\n",
      "Validating: 100%|██████████| 23/23 [00:16<00:00,  1.40it/s, loss=1.8] \n"
     ]
    },
    {
     "name": "stdout",
     "output_type": "stream",
     "text": [
      "Epoch 30/40\n",
      "Train Loss: 1.5577, Train Acc: 72.50%\n",
      "Val Loss: 1.6549, Val Acc: 67.23%\n",
      "EarlyStopping counter: 2/5\n",
      "Starting epoch 31/40\n"
     ]
    },
    {
     "name": "stderr",
     "output_type": "stream",
     "text": [
      "Epoch 31 Training: 100%|██████████| 89/89 [00:32<00:00,  2.75it/s, loss=1.48]\n",
      "Validating: 100%|██████████| 23/23 [00:16<00:00,  1.36it/s, loss=1.22]\n"
     ]
    },
    {
     "name": "stdout",
     "output_type": "stream",
     "text": [
      "Epoch 31/40\n",
      "Train Loss: 1.5208, Train Acc: 73.42%\n",
      "Val Loss: 1.6349, Val Acc: 67.65%\n",
      "验证损失改善 (1.6452 → 1.6349). 保存模型...\n",
      "Starting epoch 32/40\n"
     ]
    },
    {
     "name": "stderr",
     "output_type": "stream",
     "text": [
      "Epoch 32 Training: 100%|██████████| 89/89 [00:33<00:00,  2.67it/s, loss=1.31]\n",
      "Validating: 100%|██████████| 23/23 [00:16<00:00,  1.38it/s, loss=1.02]\n"
     ]
    },
    {
     "name": "stdout",
     "output_type": "stream",
     "text": [
      "Epoch 32/40\n",
      "Train Loss: 1.5665, Train Acc: 72.12%\n",
      "Val Loss: 1.6204, Val Acc: 68.50%\n",
      "验证损失改善 (1.6349 → 1.6204). 保存模型...\n",
      "Starting epoch 33/40\n"
     ]
    },
    {
     "name": "stderr",
     "output_type": "stream",
     "text": [
      "Epoch 33 Training: 100%|██████████| 89/89 [00:32<00:00,  2.74it/s, loss=1.64]\n",
      "Validating: 100%|██████████| 23/23 [00:16<00:00,  1.36it/s, loss=1.74]\n"
     ]
    },
    {
     "name": "stdout",
     "output_type": "stream",
     "text": [
      "Epoch 33/40\n",
      "Train Loss: 1.5384, Train Acc: 72.12%\n",
      "Val Loss: 1.6643, Val Acc: 67.37%\n",
      "EarlyStopping counter: 1/5\n",
      "Starting epoch 34/40\n"
     ]
    },
    {
     "name": "stderr",
     "output_type": "stream",
     "text": [
      "Epoch 34 Training: 100%|██████████| 89/89 [00:32<00:00,  2.76it/s, loss=1.52]\n",
      "Validating: 100%|██████████| 23/23 [00:16<00:00,  1.37it/s, loss=2.11]\n"
     ]
    },
    {
     "name": "stdout",
     "output_type": "stream",
     "text": [
      "Epoch 34/40\n",
      "Train Loss: 1.5498, Train Acc: 72.19%\n",
      "Val Loss: 1.7144, Val Acc: 66.67%\n",
      "EarlyStopping counter: 2/5\n",
      "Starting epoch 35/40\n"
     ]
    },
    {
     "name": "stderr",
     "output_type": "stream",
     "text": [
      "Epoch 35 Training: 100%|██████████| 89/89 [00:32<00:00,  2.77it/s, loss=1.36]\n",
      "Validating: 100%|██████████| 23/23 [00:16<00:00,  1.37it/s, loss=0.979]\n"
     ]
    },
    {
     "name": "stdout",
     "output_type": "stream",
     "text": [
      "Epoch 35/40\n",
      "Train Loss: 1.5533, Train Acc: 73.00%\n",
      "Val Loss: 1.6387, Val Acc: 65.96%\n",
      "EarlyStopping counter: 3/5\n",
      "Starting epoch 36/40\n"
     ]
    },
    {
     "name": "stderr",
     "output_type": "stream",
     "text": [
      "Epoch 36 Training: 100%|██████████| 89/89 [00:32<00:00,  2.76it/s, loss=1.43]\n",
      "Validating: 100%|██████████| 23/23 [00:17<00:00,  1.35it/s, loss=1.03]\n"
     ]
    },
    {
     "name": "stdout",
     "output_type": "stream",
     "text": [
      "Epoch 36/40\n",
      "Train Loss: 1.5475, Train Acc: 72.47%\n",
      "Val Loss: 1.6476, Val Acc: 68.35%\n",
      "EarlyStopping counter: 4/5\n",
      "Starting epoch 37/40\n"
     ]
    },
    {
     "name": "stderr",
     "output_type": "stream",
     "text": [
      "Epoch 37 Training: 100%|██████████| 89/89 [00:32<00:00,  2.70it/s, loss=1.96]\n",
      "Validating: 100%|██████████| 23/23 [00:17<00:00,  1.35it/s, loss=1.26]"
     ]
    },
    {
     "name": "stdout",
     "output_type": "stream",
     "text": [
      "Epoch 37/40\n",
      "Train Loss: 1.5351, Train Acc: 73.14%\n",
      "Val Loss: 1.6702, Val Acc: 67.37%\n",
      "EarlyStopping counter: 5/5\n",
      "早停触发，停止训练\n"
     ]
    },
    {
     "name": "stderr",
     "output_type": "stream",
     "text": [
      "\n"
     ]
    }
   ],
   "source": [
    "from tqdm import tqdm\n",
    "#轮数\n",
    "num_epochs=40\n",
    "\n",
    "# 解冻计划：每N个epoch解冻一层\n",
    "unfreeze_interval = 5\n",
    "\n",
    "# 训练模型\n",
    "for epoch in range(num_epochs):  # 假设训练5个epoch\n",
    "    print(f\"Starting epoch {epoch+1}/{num_epochs}\")\n",
    "    model.train()\n",
    "    train_loss=0.0\n",
    "    train_correct=0\n",
    "    train_total=0\n",
    "    \n",
    "    \n",
    "    train_bar = tqdm(train_loader, desc=f\"Epoch {epoch+1} Training\")\n",
    "\n",
    "    for inputs, labels in train_bar:\n",
    "        inputs = inputs.to(device)  # 将输入数据移动到 GPU\n",
    "        labels = labels.to(device)  # 将标签数据移动到 GPU\n",
    "\n",
    "        optimizer.zero_grad() #清零梯度\n",
    "        outputs = model(inputs) #前向传播\n",
    "        logits=outputs.logits\n",
    "\n",
    "        loss = criterion(logits, labels) #损失计算\n",
    "        loss.backward() #反向传播\n",
    "        optimizer.step() #更新参数\n",
    "\n",
    "        train_loss+=loss.item()\n",
    "        _, predicted = torch.max(logits, 1)\n",
    "        train_total += labels.size(0)\n",
    "        train_correct += (predicted == labels).sum().item()\n",
    "\n",
    "        # 更新进度条\n",
    "        train_bar.set_postfix(loss=loss.item())\n",
    "        train_bar.update(1)\n",
    "\n",
    "    train_loss = train_loss / len(train_loader)\n",
    "    train_acc = 100 * train_correct / train_total\n",
    "    \n",
    "    # 验证阶段\n",
    "    model.eval()\n",
    "    val_loss = 0.0\n",
    "    val_correct = 0\n",
    "    val_total = 0\n",
    "    \n",
    "    val_bar = tqdm(val_loader, desc=\"Validating\")\n",
    "    with torch.no_grad():\n",
    "        for inputs, labels in val_bar:\n",
    "            inputs, labels = inputs.to(device), labels.to(device)\n",
    "            \n",
    "            outputs = model(inputs)\n",
    "            logits=outputs.logits\n",
    "\n",
    "            loss = criterion(logits, labels)\n",
    "            \n",
    "            val_loss += loss.item()\n",
    "            _, predicted = torch.max(logits, 1)\n",
    "            val_total += labels.size(0)\n",
    "            val_correct += (predicted == labels).sum().item()\n",
    "            \n",
    "            val_bar.set_postfix(loss=loss.item())\n",
    "\n",
    "    val_loss = val_loss / len(val_loader)\n",
    "    val_acc = 100 * val_correct / val_total\n",
    "    \n",
    "    print(f'Epoch {epoch+1}/{num_epochs}')\n",
    "    print(f'Train Loss: {train_loss:.4f}, Train Acc: {train_acc:.2f}%')\n",
    "    print(f'Val Loss: {val_loss:.4f}, Val Acc: {val_acc:.2f}%')\n",
    "    \n",
    "    scheduler.step()\n",
    "\n",
    "    # 早停机制检查\n",
    "    early_stopping(val_loss, model)\n",
    "    if early_stopping.early_stop:\n",
    "        print(\"早停触发，停止训练\")\n",
    "        break\n",
    "\n",
    "    \n",
    "\n"
   ]
  },
  {
   "cell_type": "markdown",
   "metadata": {},
   "source": [
    "---\n",
    "# 6. 模型评估"
   ]
  },
  {
   "cell_type": "markdown",
   "metadata": {},
   "source": [
    "## 6.1 模型加载"
   ]
  },
  {
   "cell_type": "code",
   "execution_count": null,
   "metadata": {},
   "outputs": [
    {
     "name": "stderr",
     "output_type": "stream",
     "text": [
      "Some weights of ViTForImageClassification were not initialized from the model checkpoint at google/vit-base-patch16-224-in21k and are newly initialized: ['classifier.bias', 'classifier.weight']\n",
      "You should probably TRAIN this model on a down-stream task to be able to use it for predictions and inference.\n"
     ]
    }
   ],
   "source": [
    "# 模型加载修改\n",
    "model = AutoModelForImageClassification.from_pretrained(\"Hemg/Birds-Classification\",num_labels=100,  # 100个鸟类类别\n",
    "    ignore_mismatched_sizes=True)\n",
    "model.load_state_dict(torch.load('best_BM_model.pth'))\n",
    "model = model.to(device)"
   ]
  },
  {
   "cell_type": "markdown",
   "metadata": {},
   "source": [
    "## 6.2 推理预测"
   ]
  },
  {
   "cell_type": "code",
   "execution_count": null,
   "metadata": {},
   "outputs": [],
   "source": [
    "model=model.to(device)\n",
    "model.eval()\n",
    "predicts = []\n",
    "idx = []\n",
    "\n",
    "# 对测试集中的每张图像进行预测\n",
    "with torch.no_grad():\n",
    "    for img_name in test_images:\n",
    "        img_path = os.path.join(test_folder, img_name)        \n",
    "        image = Image.open(img_path).convert('RGB')  # 以RGB模式打开图像\n",
    "        image = transform(image).unsqueeze(0).to(device)  # 应用预处理并增加batch维度\n",
    "        outputs = model(image)\n",
    "        logits=outputs.logits\n",
    "\n",
    "        _, predicted = torch.max(logits, 1)\n",
    "        predicts.append(predicted.item())\n",
    "        idx.append(img_name.replace('.jpg', ''))  # 去掉文件扩展名作为ID\n"
   ]
  },
  {
   "cell_type": "markdown",
   "metadata": {},
   "source": [
    "## 6.3 结果保存"
   ]
  },
  {
   "cell_type": "code",
   "execution_count": null,
   "metadata": {},
   "outputs": [
    {
     "data": {
      "text/html": [
       "<div>\n",
       "<style scoped>\n",
       "    .dataframe tbody tr th:only-of-type {\n",
       "        vertical-align: middle;\n",
       "    }\n",
       "\n",
       "    .dataframe tbody tr th {\n",
       "        vertical-align: top;\n",
       "    }\n",
       "\n",
       "    .dataframe thead th {\n",
       "        text-align: right;\n",
       "    }\n",
       "</style>\n",
       "<table border=\"1\" class=\"dataframe\">\n",
       "  <thead>\n",
       "    <tr style=\"text-align: right;\">\n",
       "      <th></th>\n",
       "      <th>id</th>\n",
       "      <th>label</th>\n",
       "    </tr>\n",
       "  </thead>\n",
       "  <tbody>\n",
       "    <tr>\n",
       "      <th>0</th>\n",
       "      <td>0</td>\n",
       "      <td>56</td>\n",
       "    </tr>\n",
       "    <tr>\n",
       "      <th>1</th>\n",
       "      <td>1</td>\n",
       "      <td>39</td>\n",
       "    </tr>\n",
       "    <tr>\n",
       "      <th>237</th>\n",
       "      <td>2</td>\n",
       "      <td>33</td>\n",
       "    </tr>\n",
       "    <tr>\n",
       "      <th>348</th>\n",
       "      <td>3</td>\n",
       "      <td>78</td>\n",
       "    </tr>\n",
       "    <tr>\n",
       "      <th>459</th>\n",
       "      <td>4</td>\n",
       "      <td>52</td>\n",
       "    </tr>\n",
       "    <tr>\n",
       "      <th>...</th>\n",
       "      <td>...</td>\n",
       "      <td>...</td>\n",
       "    </tr>\n",
       "    <tr>\n",
       "      <th>137</th>\n",
       "      <td>1120</td>\n",
       "      <td>41</td>\n",
       "    </tr>\n",
       "    <tr>\n",
       "      <th>138</th>\n",
       "      <td>1121</td>\n",
       "      <td>54</td>\n",
       "    </tr>\n",
       "    <tr>\n",
       "      <th>139</th>\n",
       "      <td>1122</td>\n",
       "      <td>86</td>\n",
       "    </tr>\n",
       "    <tr>\n",
       "      <th>140</th>\n",
       "      <td>1123</td>\n",
       "      <td>26</td>\n",
       "    </tr>\n",
       "    <tr>\n",
       "      <th>141</th>\n",
       "      <td>1124</td>\n",
       "      <td>74</td>\n",
       "    </tr>\n",
       "  </tbody>\n",
       "</table>\n",
       "<p>1125 rows × 2 columns</p>\n",
       "</div>"
      ],
      "text/plain": [
       "       id  label\n",
       "0       0     56\n",
       "1       1     39\n",
       "237     2     33\n",
       "348     3     78\n",
       "459     4     52\n",
       "..    ...    ...\n",
       "137  1120     41\n",
       "138  1121     54\n",
       "139  1122     86\n",
       "140  1123     26\n",
       "141  1124     74\n",
       "\n",
       "[1125 rows x 2 columns]"
      ]
     },
     "execution_count": 23,
     "metadata": {},
     "output_type": "execute_result"
    }
   ],
   "source": [
    "# 保存预测结果到CSV文件\n",
    "submission = pd.DataFrame({'id': idx, 'label': predicts})\n",
    "submission['id']=submission['id'].astype(int)\n",
    "submission=submission.sort_values(by='id')\n",
    "submission"
   ]
  },
  {
   "cell_type": "code",
   "execution_count": null,
   "metadata": {},
   "outputs": [],
   "source": [
    "submission.to_csv(subdir + student_id + 'submission_{}.csv'.format(\n",
    "    datetime.datetime.now().strftime('%Y%m%d_%H%M%S')),\n",
    "                index=False)"
   ]
  },
  {
   "cell_type": "markdown",
   "metadata": {},
   "source": [
    "---\n",
    "# 7. 陈述总结"
   ]
  }
 ],
 "metadata": {
  "kernelspec": {
   "display_name": "Deep",
   "language": "python",
   "name": "python3"
  },
  "language_info": {
   "codemirror_mode": {
    "name": "ipython",
    "version": 3
   },
   "file_extension": ".py",
   "mimetype": "text/x-python",
   "name": "python",
   "nbconvert_exporter": "python",
   "pygments_lexer": "ipython3",
   "version": "3.11.5"
  }
 },
 "nbformat": 4,
 "nbformat_minor": 2
}
