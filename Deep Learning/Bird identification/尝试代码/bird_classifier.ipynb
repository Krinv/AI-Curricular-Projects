{
 "cells": [
  {
   "cell_type": "markdown",
   "metadata": {},
   "source": [
    "## 深度学习报告\n",
    "作业报告基于B榜最优分数编写，用中文完成（可附带英文版本），整合在Jupyter notebook文件，至少包括以下部分：\n",
    "- 数据预处理\n",
    "- 数据可视化\n",
    "- 模型构建\n",
    "- 模型训练\n",
    "- 模型评估\n",
    "- 陈述总结\n",
    "- 参考文献，注意全部列出的参考文献需在文中引用。\n"
   ]
  },
  {
   "cell_type": "markdown",
   "metadata": {},
   "source": [
    "---\n",
    "# 1. 库\n"
   ]
  },
  {
   "cell_type": "code",
   "execution_count": 1,
   "metadata": {},
   "outputs": [],
   "source": [
    "import torch\n",
    "import torchvision\n",
    "import torchvision.transforms as transforms\n",
    "import torch.nn as nn\n",
    "import torch.optim as optim\n",
    "from torch.utils.data import DataLoader\n",
    "import torchvision.models as models\n",
    "from torchtoolbox.transform import Cutout\n",
    "import os\n",
    "from PIL import Image \n",
    "import pandas as pd\n",
    "from PIL import Image \n",
    "import pandas\n",
    "import datetime\n",
    "from torch.utils.data import random_split"
   ]
  },
  {
   "cell_type": "markdown",
   "metadata": {},
   "source": [
    "---\n",
    "# 2. 数据导入与处理"
   ]
  },
  {
   "cell_type": "markdown",
   "metadata": {},
   "source": [
    "## 2.1 数据预处理"
   ]
  },
  {
   "cell_type": "code",
   "execution_count": 3,
   "metadata": {},
   "outputs": [],
   "source": [
    "transform = transforms.Compose([\n",
    "    transforms.Resize(256),\n",
    "    transforms.RandomCrop(224),\n",
    "    transforms.RandomHorizontalFlip(),\n",
    "    transforms.ColorJitter(brightness=0.4, contrast=0.4, saturation=0.4),\n",
    "    Cutout(), #遮挡增强\n",
    "    transforms.ToTensor(),\n",
    "    transforms.Normalize(mean=[0.485, 0.456, 0.406], std=[0.229, 0.224, 0.225])\n",
    "])"
   ]
  },
  {
   "cell_type": "markdown",
   "metadata": {},
   "source": [
    "## 2.2 学号信息"
   ]
  },
  {
   "cell_type": "code",
   "execution_count": 4,
   "metadata": {},
   "outputs": [],
   "source": [
    "#22211360121-李凯荣-22人工智能1班\n",
    "student_id = '22211360121'\n",
    "#生成路径\n",
    "subdir = ''"
   ]
  },
  {
   "cell_type": "markdown",
   "metadata": {},
   "source": [
    "## 2.3 训练数据集"
   ]
  },
  {
   "cell_type": "code",
   "execution_count": 5,
   "metadata": {},
   "outputs": [],
   "source": [
    "# 加载数据集\n",
    "full_dataset = torchvision.datasets.ImageFolder(root='new data/train', transform=transform)\n"
   ]
  },
  {
   "cell_type": "code",
   "execution_count": 6,
   "metadata": {},
   "outputs": [],
   "source": [
    "# 训练数据集划分\n",
    "train_size=int(0.8 * len(full_dataset))\n",
    "val_size = len(full_dataset) - train_size\n",
    "train_dataset, val_dataset = random_split(full_dataset, [train_size, val_size])"
   ]
  },
  {
   "cell_type": "code",
   "execution_count": 7,
   "metadata": {},
   "outputs": [],
   "source": [
    "train_loader = DataLoader(train_dataset, batch_size=32, shuffle=True, num_workers=4,pin_memory=True)\n",
    "val_loader = DataLoader(val_dataset, batch_size=32, shuffle=False, num_workers=4, pin_memory=True)"
   ]
  },
  {
   "cell_type": "code",
   "execution_count": 8,
   "metadata": {},
   "outputs": [
    {
     "name": "stdout",
     "output_type": "stream",
     "text": [
      "训练集大小: 2844, 验证集大小: 711\n"
     ]
    }
   ],
   "source": [
    "print(f\"训练集大小: {len(train_dataset)}, 验证集大小: {len(val_dataset)}\")"
   ]
  },
  {
   "cell_type": "code",
   "execution_count": 9,
   "metadata": {},
   "outputs": [
    {
     "name": "stdout",
     "output_type": "stream",
     "text": [
      "Number of batches in train_loader: 89\n"
     ]
    }
   ],
   "source": [
    "print(f\"Number of batches in train_loader: {len(train_loader)}\")"
   ]
  },
  {
   "cell_type": "code",
   "execution_count": 10,
   "metadata": {},
   "outputs": [
    {
     "name": "stdout",
     "output_type": "stream",
     "text": [
      "Dataset size: 2844\n"
     ]
    }
   ],
   "source": [
    "print(f\"Dataset size: {len(train_loader.dataset)}\")"
   ]
  },
  {
   "cell_type": "markdown",
   "metadata": {},
   "source": [
    "## 2.4 测试数据集 A"
   ]
  },
  {
   "cell_type": "code",
   "execution_count": 11,
   "metadata": {},
   "outputs": [],
   "source": [
    "# 加载测试集\n",
    "test_folder = 'new data/testA'\n",
    "test_images = [img for img in os.listdir(test_folder) if img.endswith('.jpg')]"
   ]
  },
  {
   "cell_type": "markdown",
   "metadata": {},
   "source": [
    "## 2.5 其他"
   ]
  },
  {
   "cell_type": "code",
   "execution_count": 12,
   "metadata": {},
   "outputs": [
    {
     "name": "stdout",
     "output_type": "stream",
     "text": [
      "Using device: cuda\n"
     ]
    }
   ],
   "source": [
    "device = torch.device(\"cuda\" if torch.cuda.is_available() else \"cpu\")\n",
    "print(f\"Using device: {device}\")"
   ]
  },
  {
   "cell_type": "markdown",
   "metadata": {},
   "source": [
    "---\n",
    "# 3. 数据可视化"
   ]
  },
  {
   "cell_type": "code",
   "execution_count": null,
   "metadata": {},
   "outputs": [],
   "source": []
  },
  {
   "cell_type": "code",
   "execution_count": null,
   "metadata": {},
   "outputs": [],
   "source": []
  },
  {
   "cell_type": "markdown",
   "metadata": {},
   "source": [
    "---\n",
    "# 4. 模型构建"
   ]
  },
  {
   "cell_type": "markdown",
   "metadata": {},
   "source": [
    "## 4.1 模型"
   ]
  },
  {
   "cell_type": "code",
   "execution_count": null,
   "metadata": {},
   "outputs": [],
   "source": [
    "# Load model directly\n",
    "from transformers import AutoImageProcessor, AutoModelForImageClassification\n",
    "\n",
    "processor = AutoImageProcessor.from_pretrained(\"Hemg/Birds-Species-classification\")\n",
    "model = AutoModelForImageClassification.from_pretrained(\"Hemg/Birds-Species-classification\")\n"
   ]
  },
  {
   "cell_type": "code",
   "execution_count": 14,
   "metadata": {},
   "outputs": [],
   "source": [
    "all_layers = list(model.children())\n",
    "for layer in all_layers[:-2]:  # 冻结除最后两层外的所有层\n",
    "    for param in layer.parameters():\n",
    "        param.requires_grad = False"
   ]
  },
  {
   "cell_type": "code",
   "execution_count": 15,
   "metadata": {},
   "outputs": [],
   "source": [
    "# 创建模型\n",
    "num_ftrs = model.classifier[2].in_features  # 获取 ConvNext 分类器的输入特征数\n",
    "model.classifier[2] = nn.Linear(num_ftrs, 100)  # 替换为 100 个类别的输出层"
   ]
  },
  {
   "cell_type": "markdown",
   "metadata": {},
   "source": [
    "## 4.2 损失函数与优化器"
   ]
  },
  {
   "cell_type": "code",
   "execution_count": 23,
   "metadata": {},
   "outputs": [],
   "source": [
    "# 定义损失函数和优化器\n",
    "criterion = nn.CrossEntropyLoss()\n",
    "optimizer = torch.optim.AdamW(\n",
    "    model.parameters(), \n",
    "    lr=5e-5,  # 更小的学习率\n",
    "    weight_decay=0.05,  # 更强的权重衰减\n",
    "    eps=1e-8  # 数值稳定性\n",
    ")\n",
    "scheduler = torch.optim.lr_scheduler.CosineAnnealingLR(\n",
    "    optimizer, \n",
    "    T_max=50,  # 半周期长度\n",
    "    eta_min=1e-6  # 最小学习率\n",
    ")"
   ]
  },
  {
   "cell_type": "markdown",
   "metadata": {},
   "source": [
    "---\n",
    "# 5. 模型训练"
   ]
  },
  {
   "cell_type": "markdown",
   "metadata": {},
   "source": [
    "## 5.1 设备"
   ]
  },
  {
   "cell_type": "code",
   "execution_count": 17,
   "metadata": {},
   "outputs": [],
   "source": [
    "#使用GPU\n",
    "device = torch.device(\"cuda\" if torch.cuda.is_available() else \"cpu\")\n",
    "model = model.to(device)"
   ]
  },
  {
   "cell_type": "markdown",
   "metadata": {},
   "source": [
    "## 5. 训练"
   ]
  },
  {
   "cell_type": "code",
   "execution_count": 18,
   "metadata": {},
   "outputs": [],
   "source": [
    "#早停机制\n",
    "class EarlyStopping:\n",
    "    def __init__(self, patience=5, verbose=True, delta=0, path='best_model.pth'):\n",
    "        self.patience = patience\n",
    "        self.verbose = verbose\n",
    "        self.counter = 0\n",
    "        self.best_score = None\n",
    "        self.early_stop = False\n",
    "        self.val_loss_min = float('inf')\n",
    "        self.delta = delta\n",
    "        self.path = path\n",
    "        \n",
    "    def __call__(self, val_loss, model):\n",
    "        score = -val_loss\n",
    "        \n",
    "        if self.best_score is None:\n",
    "            self.best_score = score\n",
    "            self.save_checkpoint(val_loss, model)\n",
    "        elif score < self.best_score + self.delta:\n",
    "            self.counter += 1\n",
    "            if self.verbose:\n",
    "                print(f'EarlyStopping counter: {self.counter}/{self.patience}')\n",
    "            if self.counter >= self.patience:\n",
    "                self.early_stop = True\n",
    "        else:\n",
    "            self.best_score = score\n",
    "            self.save_checkpoint(val_loss, model)\n",
    "            self.counter = 0\n",
    "            \n",
    "    def save_checkpoint(self, val_loss, model):\n",
    "        if self.verbose:\n",
    "            print(f'验证损失改善 ({self.val_loss_min:.4f} → {val_loss:.4f}). 保存模型...')\n",
    "        torch.save(model.state_dict(), self.path)\n",
    "        self.val_loss_min = val_loss\n",
    "\n",
    "# 初始化时指定保存路径\n",
    "early_stopping = EarlyStopping(patience=5, verbose=True, path='best_bird_model.pth')"
   ]
  },
  {
   "cell_type": "code",
   "execution_count": 21,
   "metadata": {},
   "outputs": [],
   "source": [
    "#轮数\n",
    "num_epochs=60"
   ]
  },
  {
   "cell_type": "code",
   "execution_count": 19,
   "metadata": {},
   "outputs": [
    {
     "name": "stdout",
     "output_type": "stream",
     "text": [
      "Starting epoch 1/60\n",
      "Epoch 1/60 | Train Loss: 4.3375, Acc: 13.71% | Val Loss: 4.2471, Acc: 16.88%\n",
      "验证损失改善 (inf → 4.2471). 保存模型...\n",
      "Starting epoch 2/60\n",
      "Epoch 2/60 | Train Loss: 4.1514, Acc: 23.24% | Val Loss: 4.0897, Acc: 22.08%\n",
      "验证损失改善 (4.2471 → 4.0897). 保存模型...\n",
      "Starting epoch 3/60\n",
      "Epoch 3/60 | Train Loss: 3.9791, Acc: 28.38% | Val Loss: 3.9142, Acc: 25.88%\n",
      "验证损失改善 (4.0897 → 3.9142). 保存模型...\n",
      "Starting epoch 4/60\n",
      "Epoch 4/60 | Train Loss: 3.8118, Acc: 33.68% | Val Loss: 3.7600, Acc: 27.57%\n",
      "验证损失改善 (3.9142 → 3.7600). 保存模型...\n",
      "Starting epoch 5/60\n",
      "Epoch 5/60 | Train Loss: 3.6527, Acc: 36.78% | Val Loss: 3.6137, Acc: 29.82%\n",
      "验证损失改善 (3.7600 → 3.6137). 保存模型...\n",
      "Starting epoch 6/60\n",
      "Epoch 6/60 | Train Loss: 3.5053, Acc: 39.49% | Val Loss: 3.4866, Acc: 32.07%\n",
      "验证损失改善 (3.6137 → 3.4866). 保存模型...\n",
      "Starting epoch 7/60\n",
      "Epoch 7/60 | Train Loss: 3.3648, Acc: 42.90% | Val Loss: 3.3515, Acc: 33.19%\n",
      "验证损失改善 (3.4866 → 3.3515). 保存模型...\n",
      "Starting epoch 8/60\n",
      "Epoch 8/60 | Train Loss: 3.2264, Acc: 43.46% | Val Loss: 3.2086, Acc: 36.01%\n",
      "验证损失改善 (3.3515 → 3.2086). 保存模型...\n",
      "Starting epoch 9/60\n",
      "Epoch 9/60 | Train Loss: 3.1088, Acc: 45.11% | Val Loss: 3.0945, Acc: 39.24%\n",
      "验证损失改善 (3.2086 → 3.0945). 保存模型...\n",
      "Starting epoch 10/60\n",
      "Epoch 10/60 | Train Loss: 2.9874, Acc: 48.00% | Val Loss: 3.0174, Acc: 40.23%\n",
      "验证损失改善 (3.0945 → 3.0174). 保存模型...\n",
      "Starting epoch 11/60\n",
      "Epoch 11/60 | Train Loss: 2.8742, Acc: 49.44% | Val Loss: 2.9070, Acc: 39.10%\n",
      "验证损失改善 (3.0174 → 2.9070). 保存模型...\n",
      "Starting epoch 12/60\n",
      "Epoch 12/60 | Train Loss: 2.7707, Acc: 51.34% | Val Loss: 2.8133, Acc: 41.77%\n",
      "验证损失改善 (2.9070 → 2.8133). 保存模型...\n",
      "Starting epoch 13/60\n",
      "Epoch 13/60 | Train Loss: 2.6764, Acc: 53.38% | Val Loss: 2.7205, Acc: 42.62%\n",
      "验证损失改善 (2.8133 → 2.7205). 保存模型...\n",
      "Starting epoch 14/60\n",
      "Epoch 14/60 | Train Loss: 2.5915, Acc: 53.69% | Val Loss: 2.6339, Acc: 44.16%\n",
      "验证损失改善 (2.7205 → 2.6339). 保存模型...\n",
      "Starting epoch 15/60\n",
      "Epoch 15/60 | Train Loss: 2.4893, Acc: 55.84% | Val Loss: 2.5474, Acc: 46.13%\n",
      "验证损失改善 (2.6339 → 2.5474). 保存模型...\n",
      "Starting epoch 16/60\n",
      "Epoch 16/60 | Train Loss: 2.4355, Acc: 54.85% | Val Loss: 2.4942, Acc: 46.98%\n",
      "验证损失改善 (2.5474 → 2.4942). 保存模型...\n",
      "Starting epoch 17/60\n",
      "Epoch 17/60 | Train Loss: 2.3303, Acc: 57.88% | Val Loss: 2.4491, Acc: 45.99%\n",
      "验证损失改善 (2.4942 → 2.4491). 保存模型...\n",
      "Starting epoch 18/60\n",
      "Epoch 18/60 | Train Loss: 2.2941, Acc: 57.74% | Val Loss: 2.3923, Acc: 48.95%\n",
      "验证损失改善 (2.4491 → 2.3923). 保存模型...\n",
      "Starting epoch 19/60\n",
      "Epoch 19/60 | Train Loss: 2.2132, Acc: 59.60% | Val Loss: 2.3272, Acc: 48.80%\n",
      "验证损失改善 (2.3923 → 2.3272). 保存模型...\n",
      "Starting epoch 20/60\n",
      "Epoch 20/60 | Train Loss: 2.1514, Acc: 60.90% | Val Loss: 2.2527, Acc: 49.93%\n",
      "验证损失改善 (2.3272 → 2.2527). 保存模型...\n",
      "Starting epoch 21/60\n",
      "Epoch 21/60 | Train Loss: 2.0892, Acc: 60.58% | Val Loss: 2.2389, Acc: 50.49%\n",
      "验证损失改善 (2.2527 → 2.2389). 保存模型...\n",
      "Starting epoch 22/60\n",
      "Epoch 22/60 | Train Loss: 2.0339, Acc: 62.87% | Val Loss: 2.1913, Acc: 52.32%\n",
      "验证损失改善 (2.2389 → 2.1913). 保存模型...\n",
      "Starting epoch 23/60\n",
      "Epoch 23/60 | Train Loss: 1.9872, Acc: 62.62% | Val Loss: 2.1049, Acc: 51.48%\n",
      "验证损失改善 (2.1913 → 2.1049). 保存模型...\n",
      "Starting epoch 24/60\n",
      "Epoch 24/60 | Train Loss: 1.9451, Acc: 63.33% | Val Loss: 2.0901, Acc: 53.16%\n",
      "验证损失改善 (2.1049 → 2.0901). 保存模型...\n",
      "Starting epoch 25/60\n",
      "Epoch 25/60 | Train Loss: 1.8955, Acc: 64.03% | Val Loss: 2.0263, Acc: 53.59%\n",
      "验证损失改善 (2.0901 → 2.0263). 保存模型...\n",
      "Starting epoch 26/60\n",
      "Epoch 26/60 | Train Loss: 1.8591, Acc: 63.78% | Val Loss: 2.0007, Acc: 53.87%\n",
      "验证损失改善 (2.0263 → 2.0007). 保存模型...\n",
      "Starting epoch 27/60\n",
      "Epoch 27/60 | Train Loss: 1.8079, Acc: 64.87% | Val Loss: 1.9955, Acc: 54.43%\n",
      "验证损失改善 (2.0007 → 1.9955). 保存模型...\n",
      "Starting epoch 28/60\n",
      "Epoch 28/60 | Train Loss: 1.7909, Acc: 65.54% | Val Loss: 1.9699, Acc: 54.15%\n",
      "验证损失改善 (1.9955 → 1.9699). 保存模型...\n",
      "Starting epoch 29/60\n",
      "Epoch 29/60 | Train Loss: 1.7674, Acc: 66.17% | Val Loss: 1.9328, Acc: 54.29%\n",
      "验证损失改善 (1.9699 → 1.9328). 保存模型...\n",
      "Starting epoch 30/60\n",
      "Epoch 30/60 | Train Loss: 1.6884, Acc: 67.90% | Val Loss: 1.8709, Acc: 56.82%\n",
      "验证损失改善 (1.9328 → 1.8709). 保存模型...\n",
      "Starting epoch 31/60\n",
      "Epoch 31/60 | Train Loss: 1.6648, Acc: 67.48% | Val Loss: 1.8742, Acc: 53.45%\n",
      "EarlyStopping counter: 1/5\n",
      "Starting epoch 32/60\n",
      "Epoch 32/60 | Train Loss: 1.6512, Acc: 67.09% | Val Loss: 1.8382, Acc: 55.41%\n",
      "验证损失改善 (1.8709 → 1.8382). 保存模型...\n",
      "Starting epoch 33/60\n",
      "Epoch 33/60 | Train Loss: 1.6092, Acc: 68.14% | Val Loss: 1.8043, Acc: 55.98%\n",
      "验证损失改善 (1.8382 → 1.8043). 保存模型...\n",
      "Starting epoch 34/60\n",
      "Epoch 34/60 | Train Loss: 1.5511, Acc: 69.87% | Val Loss: 1.8213, Acc: 55.41%\n",
      "EarlyStopping counter: 1/5\n",
      "Starting epoch 35/60\n",
      "Epoch 35/60 | Train Loss: 1.5499, Acc: 68.81% | Val Loss: 1.7374, Acc: 58.37%\n",
      "验证损失改善 (1.8043 → 1.7374). 保存模型...\n",
      "Starting epoch 36/60\n",
      "Epoch 36/60 | Train Loss: 1.5061, Acc: 69.34% | Val Loss: 1.7782, Acc: 57.67%\n",
      "EarlyStopping counter: 1/5\n",
      "Starting epoch 37/60\n",
      "Epoch 37/60 | Train Loss: 1.4889, Acc: 70.25% | Val Loss: 1.6915, Acc: 60.48%\n",
      "验证损失改善 (1.7374 → 1.6915). 保存模型...\n",
      "Starting epoch 38/60\n",
      "Epoch 38/60 | Train Loss: 1.4788, Acc: 70.57% | Val Loss: 1.7273, Acc: 60.90%\n",
      "EarlyStopping counter: 1/5\n",
      "Starting epoch 39/60\n",
      "Epoch 39/60 | Train Loss: 1.4378, Acc: 71.10% | Val Loss: 1.6900, Acc: 59.77%\n",
      "验证损失改善 (1.6915 → 1.6900). 保存模型...\n",
      "Starting epoch 40/60\n",
      "Epoch 40/60 | Train Loss: 1.4511, Acc: 69.48% | Val Loss: 1.6780, Acc: 60.20%\n",
      "验证损失改善 (1.6900 → 1.6780). 保存模型...\n",
      "Starting epoch 41/60\n",
      "Epoch 41/60 | Train Loss: 1.3762, Acc: 72.71% | Val Loss: 1.6598, Acc: 60.62%\n",
      "验证损失改善 (1.6780 → 1.6598). 保存模型...\n",
      "Starting epoch 42/60\n",
      "Epoch 42/60 | Train Loss: 1.3521, Acc: 72.22% | Val Loss: 1.6852, Acc: 58.09%\n",
      "EarlyStopping counter: 1/5\n",
      "Starting epoch 43/60\n",
      "Epoch 43/60 | Train Loss: 1.3663, Acc: 71.27% | Val Loss: 1.6581, Acc: 59.07%\n",
      "验证损失改善 (1.6598 → 1.6581). 保存模型...\n",
      "Starting epoch 44/60\n",
      "Epoch 44/60 | Train Loss: 1.3283, Acc: 72.64% | Val Loss: 1.6113, Acc: 59.49%\n",
      "验证损失改善 (1.6581 → 1.6113). 保存模型...\n",
      "Starting epoch 45/60\n",
      "Epoch 45/60 | Train Loss: 1.3186, Acc: 73.03% | Val Loss: 1.5722, Acc: 62.17%\n",
      "验证损失改善 (1.6113 → 1.5722). 保存模型...\n",
      "Starting epoch 46/60\n",
      "Epoch 46/60 | Train Loss: 1.3044, Acc: 72.89% | Val Loss: 1.6060, Acc: 57.95%\n",
      "EarlyStopping counter: 1/5\n",
      "Starting epoch 47/60\n",
      "Epoch 47/60 | Train Loss: 1.2856, Acc: 73.66% | Val Loss: 1.5674, Acc: 61.46%\n",
      "验证损失改善 (1.5722 → 1.5674). 保存模型...\n",
      "Starting epoch 48/60\n",
      "Epoch 48/60 | Train Loss: 1.2730, Acc: 73.70% | Val Loss: 1.6003, Acc: 58.65%\n",
      "EarlyStopping counter: 1/5\n",
      "Starting epoch 49/60\n",
      "Epoch 49/60 | Train Loss: 1.2497, Acc: 74.12% | Val Loss: 1.5557, Acc: 61.04%\n",
      "验证损失改善 (1.5674 → 1.5557). 保存模型...\n",
      "Starting epoch 50/60\n",
      "Epoch 50/60 | Train Loss: 1.2504, Acc: 73.66% | Val Loss: 1.5325, Acc: 61.04%\n",
      "验证损失改善 (1.5557 → 1.5325). 保存模型...\n",
      "Starting epoch 51/60\n",
      "Epoch 51/60 | Train Loss: 1.2207, Acc: 74.37% | Val Loss: 1.5411, Acc: 61.32%\n",
      "EarlyStopping counter: 1/5\n",
      "Starting epoch 52/60\n",
      "Epoch 52/60 | Train Loss: 1.2146, Acc: 73.45% | Val Loss: 1.5099, Acc: 62.17%\n",
      "验证损失改善 (1.5325 → 1.5099). 保存模型...\n",
      "Starting epoch 53/60\n",
      "Epoch 53/60 | Train Loss: 1.2034, Acc: 73.52% | Val Loss: 1.5185, Acc: 60.62%\n",
      "EarlyStopping counter: 1/5\n",
      "Starting epoch 54/60\n",
      "Epoch 54/60 | Train Loss: 1.1519, Acc: 75.42% | Val Loss: 1.4657, Acc: 62.73%\n",
      "验证损失改善 (1.5099 → 1.4657). 保存模型...\n",
      "Starting epoch 55/60\n",
      "Epoch 55/60 | Train Loss: 1.1603, Acc: 76.30% | Val Loss: 1.4989, Acc: 60.90%\n",
      "EarlyStopping counter: 1/5\n",
      "Starting epoch 56/60\n",
      "Epoch 56/60 | Train Loss: 1.1579, Acc: 75.53% | Val Loss: 1.4925, Acc: 61.32%\n",
      "EarlyStopping counter: 2/5\n",
      "Starting epoch 57/60\n",
      "Epoch 57/60 | Train Loss: 1.1394, Acc: 76.05% | Val Loss: 1.4195, Acc: 63.71%\n",
      "验证损失改善 (1.4657 → 1.4195). 保存模型...\n",
      "Starting epoch 58/60\n",
      "Epoch 58/60 | Train Loss: 1.1091, Acc: 77.07% | Val Loss: 1.4526, Acc: 63.29%\n",
      "EarlyStopping counter: 1/5\n",
      "Starting epoch 59/60\n",
      "Epoch 59/60 | Train Loss: 1.1018, Acc: 76.41% | Val Loss: 1.4029, Acc: 63.71%\n",
      "验证损失改善 (1.4195 → 1.4029). 保存模型...\n",
      "Starting epoch 60/60\n",
      "Epoch 60/60 | Train Loss: 1.1033, Acc: 77.00% | Val Loss: 1.4619, Acc: 62.45%\n",
      "EarlyStopping counter: 1/5\n"
     ]
    }
   ],
   "source": [
    "\n",
    "# 训练模型\n",
    "for epoch in range(num_epochs):  # 假设训练5个epoch\n",
    "    print(f\"Starting epoch {epoch+1}/{num_epochs}\")\n",
    "    model.train()\n",
    "    train_loss=0.0\n",
    "    train_correct=0\n",
    "    train_total=0\n",
    "    \n",
    "    for i,(inputs, labels) in enumerate(train_loader):\n",
    "\n",
    "        inputs = inputs.to(device)  # 将输入数据移动到 GPU\n",
    "        labels = labels.to(device)  # 将标签数据移动到 GPU\n",
    "\n",
    "        optimizer.zero_grad() #清零梯度\n",
    "        outputs = model(inputs) #前向传播\n",
    "        loss = criterion(outputs, labels) #损失计算\n",
    "        loss.backward() #反向传播\n",
    "        optimizer.step() #更新参数\n",
    "\n",
    "        train_loss+=loss.item()\n",
    "        _, predicted = torch.max(outputs, 1)\n",
    "        train_total += labels.size(0)\n",
    "        train_correct += (predicted == labels).sum().item()\n",
    "\n",
    "    train_loss = train_loss / len(train_loader)\n",
    "    train_acc = 100 * train_correct / train_total\n",
    "    \n",
    "    # 验证阶段\n",
    "    model.eval()\n",
    "    val_loss = 0.0\n",
    "    val_correct = 0\n",
    "    val_total = 0\n",
    "    \n",
    "    with torch.no_grad():\n",
    "        for inputs, labels in val_loader:\n",
    "            inputs, labels = inputs.to(device), labels.to(device)\n",
    "            \n",
    "            outputs = model(inputs)\n",
    "            loss = criterion(outputs, labels)\n",
    "            \n",
    "            val_loss += loss.item()\n",
    "            _, predicted = torch.max(outputs, 1)\n",
    "            val_total += labels.size(0)\n",
    "            val_correct += (predicted == labels).sum().item()\n",
    "    \n",
    "    val_loss = val_loss / len(val_loader)\n",
    "    val_acc = 100 * val_correct / val_total\n",
    "    \n",
    "    print(f'Epoch {epoch+1}/{num_epochs} | '\n",
    "            f'Train Loss: {train_loss:.4f}, Acc: {train_acc:.2f}% | '\n",
    "            f'Val Loss: {val_loss:.4f}, Acc: {val_acc:.2f}%')\n",
    "    \n",
    "    # 早停机制检查\n",
    "    early_stopping(val_loss, model)\n",
    "    if early_stopping.early_stop:\n",
    "        print(\"早停触发，停止训练\")\n",
    "        break\n",
    "\n"
   ]
  },
  {
   "cell_type": "code",
   "execution_count": 19,
   "metadata": {},
   "outputs": [
    {
     "name": "stdout",
     "output_type": "stream",
     "text": [
      "GPU内存总量: 8.59 GB\n",
      "当前已用GPU内存: 0.35 GB\n",
      "GPU内存峰值: 0.35 GB\n",
      "已清理GPU缓存\n",
      "清理后已用GPU内存: 0.35 GB\n"
     ]
    }
   ],
   "source": [
    "if device.type == 'cuda':\n",
    "    print(f\"GPU内存总量: {torch.cuda.get_device_properties(device).total_memory/1e9:.2f} GB\")\n",
    "    print(f\"当前已用GPU内存: {torch.cuda.memory_allocated(device)/1e9:.2f} GB\")\n",
    "    print(f\"GPU内存峰值: {torch.cuda.max_memory_allocated(device)/1e9:.2f} GB\")\n",
    "    \n",
    "    # 清理缓存\n",
    "    torch.cuda.empty_cache()\n",
    "    print(\"已清理GPU缓存\")\n",
    "    \n",
    "    # 再次检查\n",
    "    print(f\"清理后已用GPU内存: {torch.cuda.memory_allocated(device)/1e9:.2f} GB\")"
   ]
  },
  {
   "cell_type": "code",
   "execution_count": 24,
   "metadata": {},
   "outputs": [
    {
     "name": "stdout",
     "output_type": "stream",
     "text": [
      "\n",
      "当前使用设备: cuda\n",
      "模型位置: cuda:0\n",
      "\n",
      "加载之前训练的最佳模型...\n",
      "模型已加载到 cuda\n",
      "\n",
      "==================================================\n",
      "继续训练选项:\n",
      "当前模型训练轮次: 60\n",
      "当前验证损失: inf\n",
      "学习率已设置为: 1.4029\n",
      "重置早停计数器\n",
      "\n",
      "开始继续训练 60 轮...\n",
      "\n",
      "继续训练: 轮次 61/120\n"
     ]
    },
    {
     "name": "stderr",
     "output_type": "stream",
     "text": [
      "训练批次: 100%|██████████| 89/89 [00:19<00:00,  4.51it/s, loss=418.6357, acc=10.71%]\n",
      "验证批次: 100%|██████████| 23/23 [00:05<00:00,  3.95it/s, loss=392.6264, acc=0.00%]\n"
     ]
    },
    {
     "name": "stdout",
     "output_type": "stream",
     "text": [
      "\n",
      "训练结果:\n",
      "训练损失: 568.5861, 训练准确率: 9.95%\n",
      "验证损失: 420.1157, 验证准确率: 8.02%\n",
      "本轮耗时: 44.57秒\n",
      "当前学习率: 1.40151585\n",
      "验证损失改善 (inf → 420.1157). 保存模型...\n",
      "\n",
      "继续训练: 轮次 62/120\n"
     ]
    },
    {
     "name": "stderr",
     "output_type": "stream",
     "text": [
      "训练批次: 100%|██████████| 89/89 [00:19<00:00,  4.54it/s, loss=347.2461, acc=0.00%] \n",
      "验证批次: 100%|██████████| 23/23 [00:05<00:00,  3.88it/s, loss=458.1166, acc=0.00%]\n"
     ]
    },
    {
     "name": "stdout",
     "output_type": "stream",
     "text": [
      "\n",
      "训练结果:\n",
      "训练损失: 341.3055, 训练准确率: 8.37%\n",
      "验证损失: 326.4205, 验证准确率: 12.94%\n",
      "本轮耗时: 45.23秒\n",
      "当前学习率: 1.39736886\n",
      "验证损失改善 (420.1157 → 326.4205). 保存模型...\n",
      "\n",
      "继续训练: 轮次 63/120\n"
     ]
    },
    {
     "name": "stderr",
     "output_type": "stream",
     "text": [
      "训练批次:  28%|██▊       | 25/89 [00:06<00:15,  4.16it/s, loss=478.2703, acc=0.00%]\n"
     ]
    },
    {
     "ename": "KeyboardInterrupt",
     "evalue": "",
     "output_type": "error",
     "traceback": [
      "\u001b[31m---------------------------------------------------------------------------\u001b[39m",
      "\u001b[31mKeyboardInterrupt\u001b[39m                         Traceback (most recent call last)",
      "\u001b[36mCell\u001b[39m\u001b[36m \u001b[39m\u001b[32mIn[24]\u001b[39m\u001b[32m, line 112\u001b[39m\n\u001b[32m    109\u001b[39m optimizer.step()\n\u001b[32m    111\u001b[39m \u001b[38;5;66;03m# 统计信息\u001b[39;00m\n\u001b[32m--> \u001b[39m\u001b[32m112\u001b[39m train_loss += \u001b[43mloss\u001b[49m\u001b[43m.\u001b[49m\u001b[43mitem\u001b[49m\u001b[43m(\u001b[49m\u001b[43m)\u001b[49m\n\u001b[32m    113\u001b[39m _, predicted = torch.max(logits, \u001b[32m1\u001b[39m)\n\u001b[32m    114\u001b[39m batch_correct = (predicted == labels).sum().item()\n",
      "\u001b[31mKeyboardInterrupt\u001b[39m: "
     ]
    }
   ],
   "source": [
    "# ==============================\n",
    "# 优化的继续训练代码段（包含进度条）\n",
    "# ==============================\n",
    "\n",
    "import time\n",
    "from tqdm import tqdm\n",
    "\n",
    "# 0. 进度条配置\n",
    "progress_bar = True  # 可以设置为False来禁用进度条\n",
    "refresh_rate = 10   # 进度条刷新频率（秒）\n",
    "\n",
    "# 1. 确保设备正确\n",
    "print(f\"\\n当前使用设备: {device}\")\n",
    "print(f\"模型位置: {next(model.parameters()).device}\")\n",
    "\n",
    "# 2. 加载之前保存的最佳模型\n",
    "print(\"\\n加载之前训练的最佳模型...\")\n",
    "model.load_state_dict(torch.load('best_bird_model.pth', map_location=device))\n",
    "model = model.to(device)  # 确保模型在GPU上\n",
    "print(f\"模型已加载到 {device}\")\n",
    "\n",
    "# 3. 更新数据加载器设置\n",
    "train_loader = DataLoader(\n",
    "    train_dataset, \n",
    "    batch_size=32, \n",
    "    shuffle=True,\n",
    "    num_workers=4,  # 使用多线程加载\n",
    "    pin_memory=True if device.type == 'cuda' else False\n",
    ")\n",
    "\n",
    "val_loader = DataLoader(\n",
    "    val_dataset, \n",
    "    batch_size=32, \n",
    "    shuffle=False,\n",
    "    num_workers=4,  # 使用多线程加载\n",
    "    pin_memory=True if device.type == 'cuda' else False\n",
    ")\n",
    "\n",
    "# 4. 询问用户继续训练参数\n",
    "print(\"\\n\" + \"=\"*50)\n",
    "print(\"继续训练选项:\")\n",
    "print(f\"当前模型训练轮次: {num_epochs}\")\n",
    "print(f\"当前验证损失: {early_stopping.val_loss_min:.4f}\")\n",
    "\n",
    "# 获取继续训练参数\n",
    "additional_epochs = int(input(\"请输入要增加的训练轮次数: \"))\n",
    "new_lr = input(\"请输入新的学习率 (留空则保持当前学习率): \")\n",
    "\n",
    "# 更新学习率\n",
    "if new_lr:\n",
    "    new_lr = float(new_lr)\n",
    "    for param_group in optimizer.param_groups:\n",
    "        param_group['lr'] = new_lr\n",
    "    print(f\"学习率已设置为: {new_lr}\")\n",
    "\n",
    "# 5. 重置早停机制\n",
    "print(\"重置早停计数器\")\n",
    "early_stopping.counter = 0\n",
    "early_stopping.best_score = None\n",
    "early_stopping.early_stop = False\n",
    "early_stopping.val_loss_min = float('inf')\n",
    "\n",
    "# 6. 新的训练循环（包含进度条）\n",
    "print(f\"\\n开始继续训练 {additional_epochs} 轮...\")\n",
    "new_total_epochs = num_epochs + additional_epochs\n",
    "\n",
    "for epoch in range(num_epochs, new_total_epochs):\n",
    "    epoch_start_time = time.time()\n",
    "    print(f\"\\n继续训练: 轮次 {epoch+1}/{new_total_epochs}\")\n",
    "    \n",
    "    # 训练阶段\n",
    "    model.train()\n",
    "    train_loss = 0.0\n",
    "    train_correct = 0\n",
    "    train_total = 0\n",
    "    \n",
    "    # 创建训练进度条\n",
    "    if progress_bar:\n",
    "        train_bar = tqdm(\n",
    "            enumerate(train_loader),\n",
    "            total=len(train_loader),\n",
    "            desc=\"训练批次\",\n",
    "            mininterval=refresh_rate,\n",
    "            dynamic_ncols=True\n",
    "        )\n",
    "    else:\n",
    "        train_bar = enumerate(train_loader)\n",
    "    \n",
    "    for i, (inputs, labels) in train_bar:\n",
    "        # 确保数据在GPU上\n",
    "        inputs = inputs.to(device, non_blocking=True)\n",
    "        labels = labels.to(device, non_blocking=True)\n",
    "        \n",
    "        optimizer.zero_grad()\n",
    "        \n",
    "        # 前向传播\n",
    "        outputs = model(inputs)\n",
    "        \n",
    "        # 处理ViT输出格式\n",
    "        logits = outputs.logits if hasattr(outputs, 'logits') else outputs\n",
    "        \n",
    "        # 计算损失\n",
    "        loss = criterion(logits, labels)\n",
    "        \n",
    "        # 反向传播\n",
    "        loss.backward()\n",
    "        \n",
    "        # 参数更新\n",
    "        optimizer.step()\n",
    "        \n",
    "        # 统计信息\n",
    "        train_loss += loss.item()\n",
    "        _, predicted = torch.max(logits, 1)\n",
    "        batch_correct = (predicted == labels).sum().item()\n",
    "        train_correct += batch_correct\n",
    "        train_total += labels.size(0)\n",
    "        \n",
    "        # 更新进度条\n",
    "        if progress_bar:\n",
    "            train_bar.set_postfix({\n",
    "                'loss': f'{loss.item():.4f}',\n",
    "                'acc': f'{100 * batch_correct / labels.size(0):.2f}%'\n",
    "            })\n",
    "    \n",
    "    train_loss = train_loss / len(train_loader)\n",
    "    train_acc = 100 * train_correct / train_total\n",
    "    \n",
    "    # 验证阶段\n",
    "    model.eval()\n",
    "    val_loss = 0.0\n",
    "    val_correct = 0\n",
    "    val_total = 0\n",
    "    \n",
    "    # 创建验证进度条\n",
    "    if progress_bar:\n",
    "        val_bar = tqdm(\n",
    "            enumerate(val_loader),\n",
    "            total=len(val_loader),\n",
    "            desc=\"验证批次\",\n",
    "            mininterval=refresh_rate,\n",
    "            dynamic_ncols=True\n",
    "        )\n",
    "    else:\n",
    "        val_bar = enumerate(val_loader)\n",
    "    \n",
    "    # 禁用梯度计算以加速验证\n",
    "    with torch.no_grad():\n",
    "        for i, (inputs, labels) in val_bar:\n",
    "            inputs = inputs.to(device, non_blocking=True)\n",
    "            labels = labels.to(device, non_blocking=True)\n",
    "            \n",
    "            outputs = model(inputs)\n",
    "            logits = outputs.logits if hasattr(outputs, 'logits') else outputs\n",
    "            loss = criterion(logits, labels)\n",
    "            \n",
    "            val_loss += loss.item()\n",
    "            _, predicted = torch.max(logits, 1)\n",
    "            batch_correct = (predicted == labels).sum().item()\n",
    "            val_correct += batch_correct\n",
    "            val_total += labels.size(0)\n",
    "            \n",
    "            # 更新进度条\n",
    "            if progress_bar:\n",
    "                val_bar.set_postfix({\n",
    "                    'loss': f'{loss.item():.4f}',\n",
    "                    'acc': f'{100 * batch_correct / labels.size(0):.2f}%'\n",
    "                })\n",
    "    \n",
    "    val_loss = val_loss / len(val_loader)\n",
    "    val_acc = 100 * val_correct / val_total\n",
    "    \n",
    "    # 计算epoch耗时\n",
    "    epoch_time = time.time() - epoch_start_time\n",
    "    \n",
    "    # 打印当前轮次结果\n",
    "    print(\"\\n训练结果:\")\n",
    "    print(f\"训练损失: {train_loss:.4f}, 训练准确率: {train_acc:.2f}%\")\n",
    "    print(f\"验证损失: {val_loss:.4f}, 验证准确率: {val_acc:.2f}%\")\n",
    "    print(f\"本轮耗时: {epoch_time:.2f}秒\")\n",
    "    \n",
    "    # 更新学习率调度器\n",
    "    if scheduler is not None:\n",
    "        scheduler.step()\n",
    "        current_lr = optimizer.param_groups[0]['lr']\n",
    "        print(f\"当前学习率: {current_lr:.8f}\")\n",
    "    \n",
    "    # 早停机制检查\n",
    "    early_stopping(val_loss, model)\n",
    "    if early_stopping.early_stop:\n",
    "        print(\"早停触发，停止训练\")\n",
    "        break\n",
    "\n",
    "# 7. 保存最终模型\n",
    "final_model_path = 'final_bird_model.pth'\n",
    "torch.save(model.state_dict(), final_model_path)\n",
    "print(f\"\\n训练完成! 最终模型已保存至: {final_model_path}\")\n",
    "\n",
    "# 8. 清理GPU缓存\n",
    "if device.type == 'cuda':\n",
    "    torch.cuda.empty_cache()\n",
    "    print(\"已清理GPU缓存\")\n",
    "\n",
    "# 9. 更新总轮次数\n",
    "num_epochs = new_total_epochs\n",
    "print(f\"总训练轮次: {num_epochs}\")\n",
    "print(f\"最终验证损失: {val_loss:.4f}, 验证准确率: {val_acc:.2f}%\")"
   ]
  },
  {
   "cell_type": "markdown",
   "metadata": {},
   "source": [
    "---\n",
    "# 6. 模型评估"
   ]
  },
  {
   "cell_type": "markdown",
   "metadata": {},
   "source": [
    "## 6.1 模型加载"
   ]
  },
  {
   "cell_type": "code",
   "execution_count": 21,
   "metadata": {},
   "outputs": [
    {
     "name": "stderr",
     "output_type": "stream",
     "text": [
      "c:\\Softwares\\Anaconda\\envs\\Deep\\Lib\\site-packages\\torchvision\\models\\_utils.py:223: UserWarning: Arguments other than a weight enum or `None` for 'weights' are deprecated since 0.13 and may be removed in the future. The current behavior is equivalent to passing `weights=None`.\n",
      "  warnings.warn(msg)\n"
     ]
    },
    {
     "data": {
      "text/plain": [
       "<All keys matched successfully>"
      ]
     },
     "execution_count": 21,
     "metadata": {},
     "output_type": "execute_result"
    }
   ],
   "source": [
    "# 加载模型\n",
    "model = models.convnext_base(pretrained=False)  \n",
    "model.classifier[2] = nn.Linear(num_ftrs, 100)\n",
    "model.load_state_dict(torch.load('best_bird_model.pth'))  # 加载之前训练好的模型参数"
   ]
  },
  {
   "cell_type": "markdown",
   "metadata": {},
   "source": [
    "## 6.2 推理预测"
   ]
  },
  {
   "cell_type": "code",
   "execution_count": 22,
   "metadata": {},
   "outputs": [],
   "source": [
    "model=model.to(device)\n",
    "model.eval()\n",
    "predicts = []\n",
    "idx = []\n",
    "\n",
    "# 对测试集中的每张图像进行预测\n",
    "with torch.no_grad():\n",
    "    for img_name in test_images:\n",
    "        img_path = os.path.join(test_folder, img_name)        \n",
    "        image = Image.open(img_path).convert('RGB')  # 以RGB模式打开图像\n",
    "        image = transform(image).unsqueeze(0)  # 应用预处理并增加batch维度\n",
    "        image=image.to(device)\n",
    "        outputs = model(image)\n",
    "        _, predicted = torch.max(outputs, 1)\n",
    "        predicts.append(predicted.item())\n",
    "        idx.append(img_name.replace('.jpg', ''))  # 去掉文件扩展名作为ID\n"
   ]
  },
  {
   "cell_type": "markdown",
   "metadata": {},
   "source": [
    "## 6.3 结果保存"
   ]
  },
  {
   "cell_type": "code",
   "execution_count": 23,
   "metadata": {},
   "outputs": [
    {
     "data": {
      "text/html": [
       "<div>\n",
       "<style scoped>\n",
       "    .dataframe tbody tr th:only-of-type {\n",
       "        vertical-align: middle;\n",
       "    }\n",
       "\n",
       "    .dataframe tbody tr th {\n",
       "        vertical-align: top;\n",
       "    }\n",
       "\n",
       "    .dataframe thead th {\n",
       "        text-align: right;\n",
       "    }\n",
       "</style>\n",
       "<table border=\"1\" class=\"dataframe\">\n",
       "  <thead>\n",
       "    <tr style=\"text-align: right;\">\n",
       "      <th></th>\n",
       "      <th>id</th>\n",
       "      <th>label</th>\n",
       "    </tr>\n",
       "  </thead>\n",
       "  <tbody>\n",
       "    <tr>\n",
       "      <th>0</th>\n",
       "      <td>0</td>\n",
       "      <td>66</td>\n",
       "    </tr>\n",
       "    <tr>\n",
       "      <th>1</th>\n",
       "      <td>1</td>\n",
       "      <td>39</td>\n",
       "    </tr>\n",
       "    <tr>\n",
       "      <th>237</th>\n",
       "      <td>2</td>\n",
       "      <td>22</td>\n",
       "    </tr>\n",
       "    <tr>\n",
       "      <th>348</th>\n",
       "      <td>3</td>\n",
       "      <td>63</td>\n",
       "    </tr>\n",
       "    <tr>\n",
       "      <th>459</th>\n",
       "      <td>4</td>\n",
       "      <td>52</td>\n",
       "    </tr>\n",
       "    <tr>\n",
       "      <th>...</th>\n",
       "      <td>...</td>\n",
       "      <td>...</td>\n",
       "    </tr>\n",
       "    <tr>\n",
       "      <th>137</th>\n",
       "      <td>1120</td>\n",
       "      <td>47</td>\n",
       "    </tr>\n",
       "    <tr>\n",
       "      <th>138</th>\n",
       "      <td>1121</td>\n",
       "      <td>54</td>\n",
       "    </tr>\n",
       "    <tr>\n",
       "      <th>139</th>\n",
       "      <td>1122</td>\n",
       "      <td>86</td>\n",
       "    </tr>\n",
       "    <tr>\n",
       "      <th>140</th>\n",
       "      <td>1123</td>\n",
       "      <td>17</td>\n",
       "    </tr>\n",
       "    <tr>\n",
       "      <th>141</th>\n",
       "      <td>1124</td>\n",
       "      <td>76</td>\n",
       "    </tr>\n",
       "  </tbody>\n",
       "</table>\n",
       "<p>1125 rows × 2 columns</p>\n",
       "</div>"
      ],
      "text/plain": [
       "       id  label\n",
       "0       0     66\n",
       "1       1     39\n",
       "237     2     22\n",
       "348     3     63\n",
       "459     4     52\n",
       "..    ...    ...\n",
       "137  1120     47\n",
       "138  1121     54\n",
       "139  1122     86\n",
       "140  1123     17\n",
       "141  1124     76\n",
       "\n",
       "[1125 rows x 2 columns]"
      ]
     },
     "execution_count": 23,
     "metadata": {},
     "output_type": "execute_result"
    }
   ],
   "source": [
    "# 保存预测结果到CSV文件\n",
    "submission = pd.DataFrame({'id': idx, 'label': predicts})\n",
    "submission['id']=submission['id'].astype(int)\n",
    "submission=submission.sort_values(by='id')\n",
    "submission"
   ]
  },
  {
   "cell_type": "code",
   "execution_count": 24,
   "metadata": {},
   "outputs": [],
   "source": [
    "submission.to_csv(subdir + student_id + 'submission_{}.csv'.format(\n",
    "    datetime.datetime.now().strftime('%Y%m%d_%H%M%S')),\n",
    "                index=False)"
   ]
  },
  {
   "cell_type": "markdown",
   "metadata": {},
   "source": [
    "---\n",
    "# 7. 陈述总结"
   ]
  }
 ],
 "metadata": {
  "kernelspec": {
   "display_name": "Deep",
   "language": "python",
   "name": "python3"
  },
  "language_info": {
   "codemirror_mode": {
    "name": "ipython",
    "version": 3
   },
   "file_extension": ".py",
   "mimetype": "text/x-python",
   "name": "python",
   "nbconvert_exporter": "python",
   "pygments_lexer": "ipython3",
   "version": "3.11.5"
  }
 },
 "nbformat": 4,
 "nbformat_minor": 2
}
